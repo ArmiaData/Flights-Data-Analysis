{
 "cells": [
  {
   "attachments": {},
   "cell_type": "markdown",
   "id": "aca736dd",
   "metadata": {},
   "source": [
    "<h1 > <span style=\"font-size: 3em; color:DarkSlateBlue\"> </span></h1>"
   ]
  },
  {
   "attachments": {},
   "cell_type": "markdown",
   "id": "91d9e988",
   "metadata": {},
   "source": [
    "<h1 > <span style=\"font-size: 2em; color:RoyalBlue\"> 🛫 Flights, Airports, and Airlines Data</span></h1>\n",
    "<h1 > <span style=\"font-size: 1em; color:Gray\"> &emsp; &emsp; &emsp;📊 📉 Data science project</span></h1> \n",
    "\n",
    "*** "
   ]
  },
  {
   "attachments": {},
   "cell_type": "markdown",
   "id": "9bdb92a8",
   "metadata": {
    "scrolled": true
   },
   "source": [
    "<div class=\"alert alert-block alert-info\"> \n",
    "<img src=\"https://pngroyale.com/wp-content/uploads/2022/03/Vector-Airplane-Cartoon-PNG-Image.png\" style=\" float:right; max-width:10%; max-height:10%;margin-left:20%;\"> </img>\n",
    "\n",
    "<h1 > <span style=\"font-size: 1em; color:DarkSlateGray\"> Lift your head up to the sky... </span></h1>\n",
    "\n",
    "## Look into the Flights, Airports, and Airlines data of 344 cities, 322 airports, and 14 airlines..  Discover the secrets to booking the perfect flight ticket.\n",
    "\n",
    "<p><img src=\"https://img.freepik.com/free-photo/airport-timetable-display_657883-229.jpg?w=1480&t=st=1657145487~exp=1657146087~hmac=186a524e83c849560ef079c69fb37a03ed2720b6715e672c4289de7d0db1c7ec\"  alt=\"airport\"></p>\n",
    "\n"
   ]
  },
  {
   "attachments": {},
   "cell_type": "markdown",
   "id": "5782eb1c",
   "metadata": {},
   "source": [
    "<div class=\"alert alert-block alert-info\"> \n",
    "\n",
    "<h3>This dataset consists of 3 files:\n",
    "<h3>1. Flights dataset:</h3>\n",
    " Each row represents an observation of a flight with details such as date, time, Airline, flight number, airports, and so on.\n",
    "<h3>2. Airports dataset:</h3>\n",
    "Geospatial dataset, each row represents a location of an airline and airport with details such as city, state, latitude, and longitude.\n",
    "<h3> 3. Airlines dataset:</h3>\n",
    "As a reference of what each Airlines code represents<br><br>\n",
    "<a href=\"https://www.kaggle.com/datasets/tylerx/flights-and-airports-data\">Source of dataset.</a>\n",
    "</span></p>\n",
    "\n",
    "</div>\n",
    "</div>\n",
    "\n",
    "# 🗺️  Explore:\n",
    "What is the most common cause of cancelations in Airlines?<br>\n",
    "- Weather\n",
    "- Airline/carrier\n",
    "- National Air System\n",
    "- Security\n",
    "\n",
    "# 📊Visualize:\n",
    "Visualize a time-series of the airlines' average delay over the year(2015)<br>\n",
    "- Can you spot any changes over the months/ days?\n",
    "\n",
    "# 🔎Analyze:\n",
    "Train and build a logistic regression model to predict if a flight will be canceled or not. "
   ]
  },
  {
   "attachments": {},
   "cell_type": "markdown",
   "id": "8a96dd6c",
   "metadata": {},
   "source": [
    "### 1. Import Python libraries"
   ]
  },
  {
   "cell_type": "code",
   "execution_count": 1,
   "id": "833f8b8f",
   "metadata": {},
   "outputs": [],
   "source": [
    "# The fundamental package for scientific computing with Python\n",
    "import numpy as np\n",
    "from numpy import arange\n",
    "from numpy import mean\n",
    "\n",
    "# Pandas is a widely-used data analysis and manipulation library for Python\n",
    "import pandas as pd \n",
    "\n",
    "# Matplotlib is a comprehensive library for creating static, animated, and interactive visualizations in Python\n",
    "import matplotlib.pyplot as plt\n",
    "import matplotlib.dates as mdates\n",
    "from matplotlib.dates import MonthLocator, DateFormatter\n",
    "from matplotlib.ticker import NullFormatter\n",
    "import matplotlib.patches as mpatches\n",
    "\n",
    "# Seaborn is a data visualization library based on matplotlib\n",
    "import seaborn as sns\n",
    "\n",
    "# Datetime module supplies classes to work with date and time.\n",
    "import datetime as dt\n",
    "# Missingno is exploratory visualization tool for  missing data\n",
    "import missingno as msno\n",
    "\n",
    "# Plotly is an interactive, open-source plotting library\n",
    "import plotly.graph_objects as go\n",
    "import plotly.express as px\n",
    "\n",
    "# Show warning messages\n",
    "import warnings\n",
    "# Never print matching warnings\n",
    "warnings.filterwarnings('ignore')"
   ]
  },
  {
   "attachments": {},
   "cell_type": "markdown",
   "id": "d54cbd77",
   "metadata": {},
   "source": [
    "#### Set display"
   ]
  },
  {
   "cell_type": "code",
   "execution_count": 2,
   "id": "c1ab2bf0",
   "metadata": {},
   "outputs": [
    {
     "data": {
      "text/html": [
       "<style>.container { width:95% !important; }</style>"
      ],
      "text/plain": [
       "<IPython.core.display.HTML object>"
      ]
     },
     "metadata": {},
     "output_type": "display_data"
    }
   ],
   "source": [
    "# Set display to show up to 200 columns in dataframe\n",
    "\n",
    "sns.reset_orig()\n",
    "pd.set_option('display.max_columns',500)\n",
    "pd.set_option('display.max_rows', 50)\n",
    "\n",
    "# Set default color palette to colorblind\n",
    "plt.style.use('seaborn-colorblind')\n",
    "\n",
    "# Set the aesthetic style of any plots \n",
    "sns.set_style('whitegrid') \n",
    "sns.color_palette(\"colorblind\")\n",
    "%config InlineBackend.figure_format='retina'\n",
    "\n",
    "# Enable the inline plotting\n",
    "%matplotlib inline\n",
    "# Trick to widen the screen\n",
    "from IPython.core.display import display, HTML\n",
    "#Widens the code landscape \n",
    "display(HTML(\"<style>.container { width:95% !important; }</style>\"))"
   ]
  },
  {
   "attachments": {},
   "cell_type": "markdown",
   "id": "a655fec1",
   "metadata": {},
   "source": [
    "### 2. Import the datasets"
   ]
  },
  {
   "cell_type": "code",
   "execution_count": 3,
   "id": "881d0942",
   "metadata": {},
   "outputs": [],
   "source": [
    "# Read a comma-separated values (csv) file from the same folder into DataFrame\n",
    "df_airports = pd.read_csv(\"Data/airports.csv\",encoding=\"latin1\")\n",
    "\n",
    "df_flights = pd.read_csv(\"Data/flights.csv\",encoding=\"latin1\")\n",
    "\n",
    "df_airlines = pd.read_csv(\"Data/airlines.csv\",encoding=\"latin1\" )\n",
    "\n",
    "# Rename columns with appropriate names\n",
    "df_airports.rename(columns = {\"IATA_CODE\": \"AIRPORT_CODE\"}, inplace = True)\n",
    "df_flights.rename(columns = {\"AIRLINE\": \"AIRLINE_CODE\"}, inplace = True)\n",
    "df_airlines.rename(columns = {\"IATA_CODE\": \"AIRLINE_CODE\"}, inplace = True)"
   ]
  },
  {
   "attachments": {},
   "cell_type": "markdown",
   "id": "e2a34a2c",
   "metadata": {},
   "source": [
    "# 3.1 Exploratory Data Analysis\n",
    "> ### Explore the data. look at the shape of the dataframe. Take notes of the variable types (int, object, float...). Look for missing data, repeating value, and outliers."
   ]
  },
  {
   "cell_type": "code",
   "execution_count": 4,
   "id": "f0104dfa",
   "metadata": {},
   "outputs": [
    {
     "data": {
      "text/html": [
       "<div>\n",
       "<style scoped>\n",
       "    .dataframe tbody tr th:only-of-type {\n",
       "        vertical-align: middle;\n",
       "    }\n",
       "\n",
       "    .dataframe tbody tr th {\n",
       "        vertical-align: top;\n",
       "    }\n",
       "\n",
       "    .dataframe thead th {\n",
       "        text-align: right;\n",
       "    }\n",
       "</style>\n",
       "<table border=\"1\" class=\"dataframe\">\n",
       "  <thead>\n",
       "    <tr style=\"text-align: right;\">\n",
       "      <th></th>\n",
       "      <th>AIRPORT_CODE</th>\n",
       "      <th>AIRPORT</th>\n",
       "      <th>CITY</th>\n",
       "      <th>STATE</th>\n",
       "      <th>COUNTRY</th>\n",
       "      <th>LATITUDE</th>\n",
       "      <th>LONGITUDE</th>\n",
       "    </tr>\n",
       "  </thead>\n",
       "  <tbody>\n",
       "    <tr>\n",
       "      <th>0</th>\n",
       "      <td>ABE</td>\n",
       "      <td>Lehigh Valley International Airport</td>\n",
       "      <td>Allentown</td>\n",
       "      <td>PA</td>\n",
       "      <td>USA</td>\n",
       "      <td>40.65236</td>\n",
       "      <td>-75.44040</td>\n",
       "    </tr>\n",
       "    <tr>\n",
       "      <th>1</th>\n",
       "      <td>ABI</td>\n",
       "      <td>Abilene Regional Airport</td>\n",
       "      <td>Abilene</td>\n",
       "      <td>TX</td>\n",
       "      <td>USA</td>\n",
       "      <td>32.41132</td>\n",
       "      <td>-99.68190</td>\n",
       "    </tr>\n",
       "    <tr>\n",
       "      <th>2</th>\n",
       "      <td>ABQ</td>\n",
       "      <td>Albuquerque International Sunport</td>\n",
       "      <td>Albuquerque</td>\n",
       "      <td>NM</td>\n",
       "      <td>USA</td>\n",
       "      <td>35.04022</td>\n",
       "      <td>-106.60919</td>\n",
       "    </tr>\n",
       "    <tr>\n",
       "      <th>3</th>\n",
       "      <td>ABR</td>\n",
       "      <td>Aberdeen Regional Airport</td>\n",
       "      <td>Aberdeen</td>\n",
       "      <td>SD</td>\n",
       "      <td>USA</td>\n",
       "      <td>45.44906</td>\n",
       "      <td>-98.42183</td>\n",
       "    </tr>\n",
       "    <tr>\n",
       "      <th>4</th>\n",
       "      <td>ABY</td>\n",
       "      <td>Southwest Georgia Regional Airport</td>\n",
       "      <td>Albany</td>\n",
       "      <td>GA</td>\n",
       "      <td>USA</td>\n",
       "      <td>31.53552</td>\n",
       "      <td>-84.19447</td>\n",
       "    </tr>\n",
       "  </tbody>\n",
       "</table>\n",
       "</div>"
      ],
      "text/plain": [
       "  AIRPORT_CODE                              AIRPORT         CITY STATE  \\\n",
       "0          ABE  Lehigh Valley International Airport    Allentown    PA   \n",
       "1          ABI             Abilene Regional Airport      Abilene    TX   \n",
       "2          ABQ    Albuquerque International Sunport  Albuquerque    NM   \n",
       "3          ABR            Aberdeen Regional Airport     Aberdeen    SD   \n",
       "4          ABY   Southwest Georgia Regional Airport       Albany    GA   \n",
       "\n",
       "  COUNTRY  LATITUDE  LONGITUDE  \n",
       "0     USA  40.65236  -75.44040  \n",
       "1     USA  32.41132  -99.68190  \n",
       "2     USA  35.04022 -106.60919  \n",
       "3     USA  45.44906  -98.42183  \n",
       "4     USA  31.53552  -84.19447  "
      ]
     },
     "metadata": {},
     "output_type": "display_data"
    },
    {
     "name": "stdout",
     "output_type": "stream",
     "text": [
      "<class 'pandas.core.frame.DataFrame'>\n",
      "RangeIndex: 322 entries, 0 to 321\n",
      "Data columns (total 7 columns):\n",
      " #   Column        Non-Null Count  Dtype  \n",
      "---  ------        --------------  -----  \n",
      " 0   AIRPORT_CODE  322 non-null    object \n",
      " 1   AIRPORT       322 non-null    object \n",
      " 2   CITY          322 non-null    object \n",
      " 3   STATE         322 non-null    object \n",
      " 4   COUNTRY       322 non-null    object \n",
      " 5   LATITUDE      319 non-null    float64\n",
      " 6   LONGITUDE     319 non-null    float64\n",
      "dtypes: float64(2), object(5)\n",
      "memory usage: 17.7+ KB\n"
     ]
    },
    {
     "data": {
      "text/plain": [
       "None"
      ]
     },
     "metadata": {},
     "output_type": "display_data"
    }
   ],
   "source": [
    "# Show the first 5 rows of the df_airports\n",
    "display(df_airports.head())\n",
    "# Print a concise summary of a DataFrame.\n",
    "display(df_airports.info())"
   ]
  },
  {
   "cell_type": "code",
   "execution_count": 5,
   "id": "f75654c2",
   "metadata": {},
   "outputs": [
    {
     "data": {
      "text/html": [
       "<div>\n",
       "<style scoped>\n",
       "    .dataframe tbody tr th:only-of-type {\n",
       "        vertical-align: middle;\n",
       "    }\n",
       "\n",
       "    .dataframe tbody tr th {\n",
       "        vertical-align: top;\n",
       "    }\n",
       "\n",
       "    .dataframe thead th {\n",
       "        text-align: right;\n",
       "    }\n",
       "</style>\n",
       "<table border=\"1\" class=\"dataframe\">\n",
       "  <thead>\n",
       "    <tr style=\"text-align: right;\">\n",
       "      <th></th>\n",
       "      <th>YEAR</th>\n",
       "      <th>MONTH</th>\n",
       "      <th>DAY</th>\n",
       "      <th>DAY_OF_WEEK</th>\n",
       "      <th>AIRLINE_CODE</th>\n",
       "      <th>FLIGHT_NUMBER</th>\n",
       "      <th>TAIL_NUMBER</th>\n",
       "      <th>ORIGIN_AIRPORT</th>\n",
       "      <th>DESTINATION_AIRPORT</th>\n",
       "      <th>SCHEDULED_DEPARTURE</th>\n",
       "      <th>DEPARTURE_TIME</th>\n",
       "      <th>DEPARTURE_DELAY</th>\n",
       "      <th>TAXI_OUT</th>\n",
       "      <th>WHEELS_OFF</th>\n",
       "      <th>SCHEDULED_TIME</th>\n",
       "      <th>ELAPSED_TIME</th>\n",
       "      <th>AIR_TIME</th>\n",
       "      <th>DISTANCE</th>\n",
       "      <th>WHEELS_ON</th>\n",
       "      <th>TAXI_IN</th>\n",
       "      <th>SCHEDULED_ARRIVAL</th>\n",
       "      <th>ARRIVAL_TIME</th>\n",
       "      <th>ARRIVAL_DELAY</th>\n",
       "      <th>DIVERTED</th>\n",
       "      <th>CANCELLED</th>\n",
       "      <th>CANCELLATION_REASON</th>\n",
       "      <th>AIR_SYSTEM_DELAY</th>\n",
       "      <th>SECURITY_DELAY</th>\n",
       "      <th>AIRLINE_DELAY</th>\n",
       "      <th>LATE_AIRCRAFT_DELAY</th>\n",
       "      <th>WEATHER_DELAY</th>\n",
       "    </tr>\n",
       "  </thead>\n",
       "  <tbody>\n",
       "    <tr>\n",
       "      <th>0</th>\n",
       "      <td>2015</td>\n",
       "      <td>1</td>\n",
       "      <td>1</td>\n",
       "      <td>4</td>\n",
       "      <td>AS</td>\n",
       "      <td>98</td>\n",
       "      <td>N407AS</td>\n",
       "      <td>ANC</td>\n",
       "      <td>SEA</td>\n",
       "      <td>5</td>\n",
       "      <td>2354.0</td>\n",
       "      <td>-11.0</td>\n",
       "      <td>21.0</td>\n",
       "      <td>15.0</td>\n",
       "      <td>205.0</td>\n",
       "      <td>194.0</td>\n",
       "      <td>169.0</td>\n",
       "      <td>1448</td>\n",
       "      <td>404.0</td>\n",
       "      <td>4.0</td>\n",
       "      <td>430</td>\n",
       "      <td>408.0</td>\n",
       "      <td>-22.0</td>\n",
       "      <td>0</td>\n",
       "      <td>0</td>\n",
       "      <td>NaN</td>\n",
       "      <td>NaN</td>\n",
       "      <td>NaN</td>\n",
       "      <td>NaN</td>\n",
       "      <td>NaN</td>\n",
       "      <td>NaN</td>\n",
       "    </tr>\n",
       "    <tr>\n",
       "      <th>1</th>\n",
       "      <td>2015</td>\n",
       "      <td>1</td>\n",
       "      <td>1</td>\n",
       "      <td>4</td>\n",
       "      <td>AA</td>\n",
       "      <td>2336</td>\n",
       "      <td>N3KUAA</td>\n",
       "      <td>LAX</td>\n",
       "      <td>PBI</td>\n",
       "      <td>10</td>\n",
       "      <td>2.0</td>\n",
       "      <td>-8.0</td>\n",
       "      <td>12.0</td>\n",
       "      <td>14.0</td>\n",
       "      <td>280.0</td>\n",
       "      <td>279.0</td>\n",
       "      <td>263.0</td>\n",
       "      <td>2330</td>\n",
       "      <td>737.0</td>\n",
       "      <td>4.0</td>\n",
       "      <td>750</td>\n",
       "      <td>741.0</td>\n",
       "      <td>-9.0</td>\n",
       "      <td>0</td>\n",
       "      <td>0</td>\n",
       "      <td>NaN</td>\n",
       "      <td>NaN</td>\n",
       "      <td>NaN</td>\n",
       "      <td>NaN</td>\n",
       "      <td>NaN</td>\n",
       "      <td>NaN</td>\n",
       "    </tr>\n",
       "    <tr>\n",
       "      <th>2</th>\n",
       "      <td>2015</td>\n",
       "      <td>1</td>\n",
       "      <td>1</td>\n",
       "      <td>4</td>\n",
       "      <td>US</td>\n",
       "      <td>840</td>\n",
       "      <td>N171US</td>\n",
       "      <td>SFO</td>\n",
       "      <td>CLT</td>\n",
       "      <td>20</td>\n",
       "      <td>18.0</td>\n",
       "      <td>-2.0</td>\n",
       "      <td>16.0</td>\n",
       "      <td>34.0</td>\n",
       "      <td>286.0</td>\n",
       "      <td>293.0</td>\n",
       "      <td>266.0</td>\n",
       "      <td>2296</td>\n",
       "      <td>800.0</td>\n",
       "      <td>11.0</td>\n",
       "      <td>806</td>\n",
       "      <td>811.0</td>\n",
       "      <td>5.0</td>\n",
       "      <td>0</td>\n",
       "      <td>0</td>\n",
       "      <td>NaN</td>\n",
       "      <td>NaN</td>\n",
       "      <td>NaN</td>\n",
       "      <td>NaN</td>\n",
       "      <td>NaN</td>\n",
       "      <td>NaN</td>\n",
       "    </tr>\n",
       "    <tr>\n",
       "      <th>3</th>\n",
       "      <td>2015</td>\n",
       "      <td>1</td>\n",
       "      <td>1</td>\n",
       "      <td>4</td>\n",
       "      <td>AA</td>\n",
       "      <td>258</td>\n",
       "      <td>N3HYAA</td>\n",
       "      <td>LAX</td>\n",
       "      <td>MIA</td>\n",
       "      <td>20</td>\n",
       "      <td>15.0</td>\n",
       "      <td>-5.0</td>\n",
       "      <td>15.0</td>\n",
       "      <td>30.0</td>\n",
       "      <td>285.0</td>\n",
       "      <td>281.0</td>\n",
       "      <td>258.0</td>\n",
       "      <td>2342</td>\n",
       "      <td>748.0</td>\n",
       "      <td>8.0</td>\n",
       "      <td>805</td>\n",
       "      <td>756.0</td>\n",
       "      <td>-9.0</td>\n",
       "      <td>0</td>\n",
       "      <td>0</td>\n",
       "      <td>NaN</td>\n",
       "      <td>NaN</td>\n",
       "      <td>NaN</td>\n",
       "      <td>NaN</td>\n",
       "      <td>NaN</td>\n",
       "      <td>NaN</td>\n",
       "    </tr>\n",
       "    <tr>\n",
       "      <th>4</th>\n",
       "      <td>2015</td>\n",
       "      <td>1</td>\n",
       "      <td>1</td>\n",
       "      <td>4</td>\n",
       "      <td>AS</td>\n",
       "      <td>135</td>\n",
       "      <td>N527AS</td>\n",
       "      <td>SEA</td>\n",
       "      <td>ANC</td>\n",
       "      <td>25</td>\n",
       "      <td>24.0</td>\n",
       "      <td>-1.0</td>\n",
       "      <td>11.0</td>\n",
       "      <td>35.0</td>\n",
       "      <td>235.0</td>\n",
       "      <td>215.0</td>\n",
       "      <td>199.0</td>\n",
       "      <td>1448</td>\n",
       "      <td>254.0</td>\n",
       "      <td>5.0</td>\n",
       "      <td>320</td>\n",
       "      <td>259.0</td>\n",
       "      <td>-21.0</td>\n",
       "      <td>0</td>\n",
       "      <td>0</td>\n",
       "      <td>NaN</td>\n",
       "      <td>NaN</td>\n",
       "      <td>NaN</td>\n",
       "      <td>NaN</td>\n",
       "      <td>NaN</td>\n",
       "      <td>NaN</td>\n",
       "    </tr>\n",
       "  </tbody>\n",
       "</table>\n",
       "</div>"
      ],
      "text/plain": [
       "   YEAR  MONTH  DAY  DAY_OF_WEEK AIRLINE_CODE  FLIGHT_NUMBER TAIL_NUMBER  \\\n",
       "0  2015      1    1            4           AS             98      N407AS   \n",
       "1  2015      1    1            4           AA           2336      N3KUAA   \n",
       "2  2015      1    1            4           US            840      N171US   \n",
       "3  2015      1    1            4           AA            258      N3HYAA   \n",
       "4  2015      1    1            4           AS            135      N527AS   \n",
       "\n",
       "  ORIGIN_AIRPORT DESTINATION_AIRPORT  SCHEDULED_DEPARTURE  DEPARTURE_TIME  \\\n",
       "0            ANC                 SEA                    5          2354.0   \n",
       "1            LAX                 PBI                   10             2.0   \n",
       "2            SFO                 CLT                   20            18.0   \n",
       "3            LAX                 MIA                   20            15.0   \n",
       "4            SEA                 ANC                   25            24.0   \n",
       "\n",
       "   DEPARTURE_DELAY  TAXI_OUT  WHEELS_OFF  SCHEDULED_TIME  ELAPSED_TIME  \\\n",
       "0            -11.0      21.0        15.0           205.0         194.0   \n",
       "1             -8.0      12.0        14.0           280.0         279.0   \n",
       "2             -2.0      16.0        34.0           286.0         293.0   \n",
       "3             -5.0      15.0        30.0           285.0         281.0   \n",
       "4             -1.0      11.0        35.0           235.0         215.0   \n",
       "\n",
       "   AIR_TIME  DISTANCE  WHEELS_ON  TAXI_IN  SCHEDULED_ARRIVAL  ARRIVAL_TIME  \\\n",
       "0     169.0      1448      404.0      4.0                430         408.0   \n",
       "1     263.0      2330      737.0      4.0                750         741.0   \n",
       "2     266.0      2296      800.0     11.0                806         811.0   \n",
       "3     258.0      2342      748.0      8.0                805         756.0   \n",
       "4     199.0      1448      254.0      5.0                320         259.0   \n",
       "\n",
       "   ARRIVAL_DELAY  DIVERTED  CANCELLED CANCELLATION_REASON  AIR_SYSTEM_DELAY  \\\n",
       "0          -22.0         0          0                 NaN               NaN   \n",
       "1           -9.0         0          0                 NaN               NaN   \n",
       "2            5.0         0          0                 NaN               NaN   \n",
       "3           -9.0         0          0                 NaN               NaN   \n",
       "4          -21.0         0          0                 NaN               NaN   \n",
       "\n",
       "   SECURITY_DELAY  AIRLINE_DELAY  LATE_AIRCRAFT_DELAY  WEATHER_DELAY  \n",
       "0             NaN            NaN                  NaN            NaN  \n",
       "1             NaN            NaN                  NaN            NaN  \n",
       "2             NaN            NaN                  NaN            NaN  \n",
       "3             NaN            NaN                  NaN            NaN  \n",
       "4             NaN            NaN                  NaN            NaN  "
      ]
     },
     "metadata": {},
     "output_type": "display_data"
    },
    {
     "name": "stdout",
     "output_type": "stream",
     "text": [
      "<class 'pandas.core.frame.DataFrame'>\n",
      "RangeIndex: 5819079 entries, 0 to 5819078\n",
      "Data columns (total 31 columns):\n",
      " #   Column               Dtype  \n",
      "---  ------               -----  \n",
      " 0   YEAR                 int64  \n",
      " 1   MONTH                int64  \n",
      " 2   DAY                  int64  \n",
      " 3   DAY_OF_WEEK          int64  \n",
      " 4   AIRLINE_CODE         object \n",
      " 5   FLIGHT_NUMBER        int64  \n",
      " 6   TAIL_NUMBER          object \n",
      " 7   ORIGIN_AIRPORT       object \n",
      " 8   DESTINATION_AIRPORT  object \n",
      " 9   SCHEDULED_DEPARTURE  int64  \n",
      " 10  DEPARTURE_TIME       float64\n",
      " 11  DEPARTURE_DELAY      float64\n",
      " 12  TAXI_OUT             float64\n",
      " 13  WHEELS_OFF           float64\n",
      " 14  SCHEDULED_TIME       float64\n",
      " 15  ELAPSED_TIME         float64\n",
      " 16  AIR_TIME             float64\n",
      " 17  DISTANCE             int64  \n",
      " 18  WHEELS_ON            float64\n",
      " 19  TAXI_IN              float64\n",
      " 20  SCHEDULED_ARRIVAL    int64  \n",
      " 21  ARRIVAL_TIME         float64\n",
      " 22  ARRIVAL_DELAY        float64\n",
      " 23  DIVERTED             int64  \n",
      " 24  CANCELLED            int64  \n",
      " 25  CANCELLATION_REASON  object \n",
      " 26  AIR_SYSTEM_DELAY     float64\n",
      " 27  SECURITY_DELAY       float64\n",
      " 28  AIRLINE_DELAY        float64\n",
      " 29  LATE_AIRCRAFT_DELAY  float64\n",
      " 30  WEATHER_DELAY        float64\n",
      "dtypes: float64(16), int64(10), object(5)\n",
      "memory usage: 1.3+ GB\n"
     ]
    },
    {
     "data": {
      "text/plain": [
       "None"
      ]
     },
     "metadata": {},
     "output_type": "display_data"
    }
   ],
   "source": [
    "# Show the first 5 rows of the df_flights\n",
    "display(df_flights.head())\n",
    "# Print a concise summary of a DataFrame\n",
    "display(df_flights.info())"
   ]
  },
  {
   "cell_type": "code",
   "execution_count": 6,
   "id": "4308e324",
   "metadata": {},
   "outputs": [
    {
     "data": {
      "text/html": [
       "<div>\n",
       "<style scoped>\n",
       "    .dataframe tbody tr th:only-of-type {\n",
       "        vertical-align: middle;\n",
       "    }\n",
       "\n",
       "    .dataframe tbody tr th {\n",
       "        vertical-align: top;\n",
       "    }\n",
       "\n",
       "    .dataframe thead th {\n",
       "        text-align: right;\n",
       "    }\n",
       "</style>\n",
       "<table border=\"1\" class=\"dataframe\">\n",
       "  <thead>\n",
       "    <tr style=\"text-align: right;\">\n",
       "      <th></th>\n",
       "      <th>AIRLINE_CODE</th>\n",
       "      <th>AIRLINE</th>\n",
       "    </tr>\n",
       "  </thead>\n",
       "  <tbody>\n",
       "    <tr>\n",
       "      <th>0</th>\n",
       "      <td>UA</td>\n",
       "      <td>United Air Lines Inc.</td>\n",
       "    </tr>\n",
       "    <tr>\n",
       "      <th>1</th>\n",
       "      <td>AA</td>\n",
       "      <td>American Airlines Inc.</td>\n",
       "    </tr>\n",
       "    <tr>\n",
       "      <th>2</th>\n",
       "      <td>US</td>\n",
       "      <td>US Airways Inc.</td>\n",
       "    </tr>\n",
       "    <tr>\n",
       "      <th>3</th>\n",
       "      <td>F9</td>\n",
       "      <td>Frontier Airlines Inc.</td>\n",
       "    </tr>\n",
       "    <tr>\n",
       "      <th>4</th>\n",
       "      <td>B6</td>\n",
       "      <td>JetBlue Airways</td>\n",
       "    </tr>\n",
       "  </tbody>\n",
       "</table>\n",
       "</div>"
      ],
      "text/plain": [
       "  AIRLINE_CODE                 AIRLINE\n",
       "0           UA   United Air Lines Inc.\n",
       "1           AA  American Airlines Inc.\n",
       "2           US         US Airways Inc.\n",
       "3           F9  Frontier Airlines Inc.\n",
       "4           B6         JetBlue Airways"
      ]
     },
     "metadata": {},
     "output_type": "display_data"
    },
    {
     "name": "stdout",
     "output_type": "stream",
     "text": [
      "<class 'pandas.core.frame.DataFrame'>\n",
      "RangeIndex: 14 entries, 0 to 13\n",
      "Data columns (total 2 columns):\n",
      " #   Column        Non-Null Count  Dtype \n",
      "---  ------        --------------  ----- \n",
      " 0   AIRLINE_CODE  14 non-null     object\n",
      " 1   AIRLINE       14 non-null     object\n",
      "dtypes: object(2)\n",
      "memory usage: 352.0+ bytes\n"
     ]
    },
    {
     "data": {
      "text/plain": [
       "None"
      ]
     },
     "metadata": {},
     "output_type": "display_data"
    }
   ],
   "source": [
    "# Show the first 5 rows of the df_airlines\n",
    "display(df_airlines.head())\n",
    "# Print a concise summary of a DataFrame.\n",
    "display(df_airlines.info())"
   ]
  },
  {
   "cell_type": "code",
   "execution_count": 7,
   "id": "b6cc01f5",
   "metadata": {},
   "outputs": [
    {
     "data": {
      "text/html": [
       "<div>\n",
       "<style scoped>\n",
       "    .dataframe tbody tr th:only-of-type {\n",
       "        vertical-align: middle;\n",
       "    }\n",
       "\n",
       "    .dataframe tbody tr th {\n",
       "        vertical-align: top;\n",
       "    }\n",
       "\n",
       "    .dataframe thead th {\n",
       "        text-align: right;\n",
       "    }\n",
       "</style>\n",
       "<table border=\"1\" class=\"dataframe\">\n",
       "  <thead>\n",
       "    <tr style=\"text-align: right;\">\n",
       "      <th></th>\n",
       "      <th>YEAR</th>\n",
       "      <th>MONTH</th>\n",
       "      <th>DAY</th>\n",
       "      <th>DAY_OF_WEEK</th>\n",
       "      <th>AIRLINE_CODE</th>\n",
       "      <th>FLIGHT_NUMBER</th>\n",
       "      <th>TAIL_NUMBER</th>\n",
       "      <th>ORIGIN_AIRPORT</th>\n",
       "      <th>DESTINATION_AIRPORT</th>\n",
       "      <th>SCHEDULED_DEPARTURE</th>\n",
       "      <th>DEPARTURE_TIME</th>\n",
       "      <th>DEPARTURE_DELAY</th>\n",
       "      <th>TAXI_OUT</th>\n",
       "      <th>WHEELS_OFF</th>\n",
       "      <th>SCHEDULED_TIME</th>\n",
       "      <th>ELAPSED_TIME</th>\n",
       "      <th>AIR_TIME</th>\n",
       "      <th>DISTANCE</th>\n",
       "      <th>WHEELS_ON</th>\n",
       "      <th>TAXI_IN</th>\n",
       "      <th>SCHEDULED_ARRIVAL</th>\n",
       "      <th>ARRIVAL_TIME</th>\n",
       "      <th>ARRIVAL_DELAY</th>\n",
       "      <th>DIVERTED</th>\n",
       "      <th>CANCELLED</th>\n",
       "      <th>CANCELLATION_REASON</th>\n",
       "      <th>AIR_SYSTEM_DELAY</th>\n",
       "      <th>SECURITY_DELAY</th>\n",
       "      <th>AIRLINE_DELAY</th>\n",
       "      <th>LATE_AIRCRAFT_DELAY</th>\n",
       "      <th>WEATHER_DELAY</th>\n",
       "      <th>AIRLINE</th>\n",
       "      <th>AIRPORT_CODE_ORG</th>\n",
       "      <th>AIRPORT_ORG</th>\n",
       "      <th>CITY_ORG</th>\n",
       "      <th>STATE_ORG</th>\n",
       "      <th>COUNTRY_ORG</th>\n",
       "      <th>LATITUDE_ORG</th>\n",
       "      <th>LONGITUDE_ORG</th>\n",
       "      <th>AIRPORT_CODE_DIS</th>\n",
       "      <th>AIRPORT_DIS</th>\n",
       "      <th>CITY_DIS</th>\n",
       "      <th>STATE_DIS</th>\n",
       "      <th>COUNTRY_DIS</th>\n",
       "      <th>LATITUDE_DIS</th>\n",
       "      <th>LONGITUDE_DIS</th>\n",
       "    </tr>\n",
       "  </thead>\n",
       "  <tbody>\n",
       "    <tr>\n",
       "      <th>0</th>\n",
       "      <td>2015</td>\n",
       "      <td>1</td>\n",
       "      <td>1</td>\n",
       "      <td>4</td>\n",
       "      <td>AS</td>\n",
       "      <td>98</td>\n",
       "      <td>N407AS</td>\n",
       "      <td>ANC</td>\n",
       "      <td>SEA</td>\n",
       "      <td>5</td>\n",
       "      <td>2354.0</td>\n",
       "      <td>-11.0</td>\n",
       "      <td>21.0</td>\n",
       "      <td>15.0</td>\n",
       "      <td>205.0</td>\n",
       "      <td>194.0</td>\n",
       "      <td>169.0</td>\n",
       "      <td>1448</td>\n",
       "      <td>404.0</td>\n",
       "      <td>4.0</td>\n",
       "      <td>430</td>\n",
       "      <td>408.0</td>\n",
       "      <td>-22.0</td>\n",
       "      <td>0</td>\n",
       "      <td>0</td>\n",
       "      <td>NaN</td>\n",
       "      <td>NaN</td>\n",
       "      <td>NaN</td>\n",
       "      <td>NaN</td>\n",
       "      <td>NaN</td>\n",
       "      <td>NaN</td>\n",
       "      <td>Alaska Airlines Inc.</td>\n",
       "      <td>ANC</td>\n",
       "      <td>Ted Stevens Anchorage International Airport</td>\n",
       "      <td>Anchorage</td>\n",
       "      <td>AK</td>\n",
       "      <td>USA</td>\n",
       "      <td>61.17432</td>\n",
       "      <td>-149.99619</td>\n",
       "      <td>SEA</td>\n",
       "      <td>Seattle-Tacoma International Airport</td>\n",
       "      <td>Seattle</td>\n",
       "      <td>WA</td>\n",
       "      <td>USA</td>\n",
       "      <td>47.44898</td>\n",
       "      <td>-122.30931</td>\n",
       "    </tr>\n",
       "    <tr>\n",
       "      <th>1</th>\n",
       "      <td>2015</td>\n",
       "      <td>1</td>\n",
       "      <td>1</td>\n",
       "      <td>4</td>\n",
       "      <td>AS</td>\n",
       "      <td>108</td>\n",
       "      <td>N309AS</td>\n",
       "      <td>ANC</td>\n",
       "      <td>SEA</td>\n",
       "      <td>45</td>\n",
       "      <td>41.0</td>\n",
       "      <td>-4.0</td>\n",
       "      <td>17.0</td>\n",
       "      <td>58.0</td>\n",
       "      <td>204.0</td>\n",
       "      <td>194.0</td>\n",
       "      <td>173.0</td>\n",
       "      <td>1448</td>\n",
       "      <td>451.0</td>\n",
       "      <td>4.0</td>\n",
       "      <td>509</td>\n",
       "      <td>455.0</td>\n",
       "      <td>-14.0</td>\n",
       "      <td>0</td>\n",
       "      <td>0</td>\n",
       "      <td>NaN</td>\n",
       "      <td>NaN</td>\n",
       "      <td>NaN</td>\n",
       "      <td>NaN</td>\n",
       "      <td>NaN</td>\n",
       "      <td>NaN</td>\n",
       "      <td>Alaska Airlines Inc.</td>\n",
       "      <td>ANC</td>\n",
       "      <td>Ted Stevens Anchorage International Airport</td>\n",
       "      <td>Anchorage</td>\n",
       "      <td>AK</td>\n",
       "      <td>USA</td>\n",
       "      <td>61.17432</td>\n",
       "      <td>-149.99619</td>\n",
       "      <td>SEA</td>\n",
       "      <td>Seattle-Tacoma International Airport</td>\n",
       "      <td>Seattle</td>\n",
       "      <td>WA</td>\n",
       "      <td>USA</td>\n",
       "      <td>47.44898</td>\n",
       "      <td>-122.30931</td>\n",
       "    </tr>\n",
       "    <tr>\n",
       "      <th>2</th>\n",
       "      <td>2015</td>\n",
       "      <td>1</td>\n",
       "      <td>1</td>\n",
       "      <td>4</td>\n",
       "      <td>DL</td>\n",
       "      <td>1560</td>\n",
       "      <td>N3743H</td>\n",
       "      <td>ANC</td>\n",
       "      <td>SEA</td>\n",
       "      <td>45</td>\n",
       "      <td>31.0</td>\n",
       "      <td>-14.0</td>\n",
       "      <td>25.0</td>\n",
       "      <td>56.0</td>\n",
       "      <td>210.0</td>\n",
       "      <td>200.0</td>\n",
       "      <td>171.0</td>\n",
       "      <td>1448</td>\n",
       "      <td>447.0</td>\n",
       "      <td>4.0</td>\n",
       "      <td>515</td>\n",
       "      <td>451.0</td>\n",
       "      <td>-24.0</td>\n",
       "      <td>0</td>\n",
       "      <td>0</td>\n",
       "      <td>NaN</td>\n",
       "      <td>NaN</td>\n",
       "      <td>NaN</td>\n",
       "      <td>NaN</td>\n",
       "      <td>NaN</td>\n",
       "      <td>NaN</td>\n",
       "      <td>Delta Air Lines Inc.</td>\n",
       "      <td>ANC</td>\n",
       "      <td>Ted Stevens Anchorage International Airport</td>\n",
       "      <td>Anchorage</td>\n",
       "      <td>AK</td>\n",
       "      <td>USA</td>\n",
       "      <td>61.17432</td>\n",
       "      <td>-149.99619</td>\n",
       "      <td>SEA</td>\n",
       "      <td>Seattle-Tacoma International Airport</td>\n",
       "      <td>Seattle</td>\n",
       "      <td>WA</td>\n",
       "      <td>USA</td>\n",
       "      <td>47.44898</td>\n",
       "      <td>-122.30931</td>\n",
       "    </tr>\n",
       "    <tr>\n",
       "      <th>3</th>\n",
       "      <td>2015</td>\n",
       "      <td>1</td>\n",
       "      <td>1</td>\n",
       "      <td>4</td>\n",
       "      <td>AS</td>\n",
       "      <td>136</td>\n",
       "      <td>N431AS</td>\n",
       "      <td>ANC</td>\n",
       "      <td>SEA</td>\n",
       "      <td>135</td>\n",
       "      <td>NaN</td>\n",
       "      <td>NaN</td>\n",
       "      <td>NaN</td>\n",
       "      <td>NaN</td>\n",
       "      <td>205.0</td>\n",
       "      <td>NaN</td>\n",
       "      <td>NaN</td>\n",
       "      <td>1448</td>\n",
       "      <td>NaN</td>\n",
       "      <td>NaN</td>\n",
       "      <td>600</td>\n",
       "      <td>NaN</td>\n",
       "      <td>NaN</td>\n",
       "      <td>0</td>\n",
       "      <td>1</td>\n",
       "      <td>A</td>\n",
       "      <td>NaN</td>\n",
       "      <td>NaN</td>\n",
       "      <td>NaN</td>\n",
       "      <td>NaN</td>\n",
       "      <td>NaN</td>\n",
       "      <td>Alaska Airlines Inc.</td>\n",
       "      <td>ANC</td>\n",
       "      <td>Ted Stevens Anchorage International Airport</td>\n",
       "      <td>Anchorage</td>\n",
       "      <td>AK</td>\n",
       "      <td>USA</td>\n",
       "      <td>61.17432</td>\n",
       "      <td>-149.99619</td>\n",
       "      <td>SEA</td>\n",
       "      <td>Seattle-Tacoma International Airport</td>\n",
       "      <td>Seattle</td>\n",
       "      <td>WA</td>\n",
       "      <td>USA</td>\n",
       "      <td>47.44898</td>\n",
       "      <td>-122.30931</td>\n",
       "    </tr>\n",
       "    <tr>\n",
       "      <th>4</th>\n",
       "      <td>2015</td>\n",
       "      <td>1</td>\n",
       "      <td>1</td>\n",
       "      <td>4</td>\n",
       "      <td>AS</td>\n",
       "      <td>134</td>\n",
       "      <td>N464AS</td>\n",
       "      <td>ANC</td>\n",
       "      <td>SEA</td>\n",
       "      <td>155</td>\n",
       "      <td>140.0</td>\n",
       "      <td>-15.0</td>\n",
       "      <td>17.0</td>\n",
       "      <td>157.0</td>\n",
       "      <td>218.0</td>\n",
       "      <td>198.0</td>\n",
       "      <td>170.0</td>\n",
       "      <td>1448</td>\n",
       "      <td>547.0</td>\n",
       "      <td>11.0</td>\n",
       "      <td>633</td>\n",
       "      <td>558.0</td>\n",
       "      <td>-35.0</td>\n",
       "      <td>0</td>\n",
       "      <td>0</td>\n",
       "      <td>NaN</td>\n",
       "      <td>NaN</td>\n",
       "      <td>NaN</td>\n",
       "      <td>NaN</td>\n",
       "      <td>NaN</td>\n",
       "      <td>NaN</td>\n",
       "      <td>Alaska Airlines Inc.</td>\n",
       "      <td>ANC</td>\n",
       "      <td>Ted Stevens Anchorage International Airport</td>\n",
       "      <td>Anchorage</td>\n",
       "      <td>AK</td>\n",
       "      <td>USA</td>\n",
       "      <td>61.17432</td>\n",
       "      <td>-149.99619</td>\n",
       "      <td>SEA</td>\n",
       "      <td>Seattle-Tacoma International Airport</td>\n",
       "      <td>Seattle</td>\n",
       "      <td>WA</td>\n",
       "      <td>USA</td>\n",
       "      <td>47.44898</td>\n",
       "      <td>-122.30931</td>\n",
       "    </tr>\n",
       "  </tbody>\n",
       "</table>\n",
       "</div>"
      ],
      "text/plain": [
       "   YEAR  MONTH  DAY  DAY_OF_WEEK AIRLINE_CODE  FLIGHT_NUMBER TAIL_NUMBER  \\\n",
       "0  2015      1    1            4           AS             98      N407AS   \n",
       "1  2015      1    1            4           AS            108      N309AS   \n",
       "2  2015      1    1            4           DL           1560      N3743H   \n",
       "3  2015      1    1            4           AS            136      N431AS   \n",
       "4  2015      1    1            4           AS            134      N464AS   \n",
       "\n",
       "  ORIGIN_AIRPORT DESTINATION_AIRPORT  SCHEDULED_DEPARTURE  DEPARTURE_TIME  \\\n",
       "0            ANC                 SEA                    5          2354.0   \n",
       "1            ANC                 SEA                   45            41.0   \n",
       "2            ANC                 SEA                   45            31.0   \n",
       "3            ANC                 SEA                  135             NaN   \n",
       "4            ANC                 SEA                  155           140.0   \n",
       "\n",
       "   DEPARTURE_DELAY  TAXI_OUT  WHEELS_OFF  SCHEDULED_TIME  ELAPSED_TIME  \\\n",
       "0            -11.0      21.0        15.0           205.0         194.0   \n",
       "1             -4.0      17.0        58.0           204.0         194.0   \n",
       "2            -14.0      25.0        56.0           210.0         200.0   \n",
       "3              NaN       NaN         NaN           205.0           NaN   \n",
       "4            -15.0      17.0       157.0           218.0         198.0   \n",
       "\n",
       "   AIR_TIME  DISTANCE  WHEELS_ON  TAXI_IN  SCHEDULED_ARRIVAL  ARRIVAL_TIME  \\\n",
       "0     169.0      1448      404.0      4.0                430         408.0   \n",
       "1     173.0      1448      451.0      4.0                509         455.0   \n",
       "2     171.0      1448      447.0      4.0                515         451.0   \n",
       "3       NaN      1448        NaN      NaN                600           NaN   \n",
       "4     170.0      1448      547.0     11.0                633         558.0   \n",
       "\n",
       "   ARRIVAL_DELAY  DIVERTED  CANCELLED CANCELLATION_REASON  AIR_SYSTEM_DELAY  \\\n",
       "0          -22.0         0          0                 NaN               NaN   \n",
       "1          -14.0         0          0                 NaN               NaN   \n",
       "2          -24.0         0          0                 NaN               NaN   \n",
       "3            NaN         0          1                   A               NaN   \n",
       "4          -35.0         0          0                 NaN               NaN   \n",
       "\n",
       "   SECURITY_DELAY  AIRLINE_DELAY  LATE_AIRCRAFT_DELAY  WEATHER_DELAY  \\\n",
       "0             NaN            NaN                  NaN            NaN   \n",
       "1             NaN            NaN                  NaN            NaN   \n",
       "2             NaN            NaN                  NaN            NaN   \n",
       "3             NaN            NaN                  NaN            NaN   \n",
       "4             NaN            NaN                  NaN            NaN   \n",
       "\n",
       "                AIRLINE AIRPORT_CODE_ORG  \\\n",
       "0  Alaska Airlines Inc.              ANC   \n",
       "1  Alaska Airlines Inc.              ANC   \n",
       "2  Delta Air Lines Inc.              ANC   \n",
       "3  Alaska Airlines Inc.              ANC   \n",
       "4  Alaska Airlines Inc.              ANC   \n",
       "\n",
       "                                   AIRPORT_ORG   CITY_ORG STATE_ORG  \\\n",
       "0  Ted Stevens Anchorage International Airport  Anchorage        AK   \n",
       "1  Ted Stevens Anchorage International Airport  Anchorage        AK   \n",
       "2  Ted Stevens Anchorage International Airport  Anchorage        AK   \n",
       "3  Ted Stevens Anchorage International Airport  Anchorage        AK   \n",
       "4  Ted Stevens Anchorage International Airport  Anchorage        AK   \n",
       "\n",
       "  COUNTRY_ORG  LATITUDE_ORG  LONGITUDE_ORG AIRPORT_CODE_DIS  \\\n",
       "0         USA      61.17432     -149.99619              SEA   \n",
       "1         USA      61.17432     -149.99619              SEA   \n",
       "2         USA      61.17432     -149.99619              SEA   \n",
       "3         USA      61.17432     -149.99619              SEA   \n",
       "4         USA      61.17432     -149.99619              SEA   \n",
       "\n",
       "                            AIRPORT_DIS CITY_DIS STATE_DIS COUNTRY_DIS  \\\n",
       "0  Seattle-Tacoma International Airport  Seattle        WA         USA   \n",
       "1  Seattle-Tacoma International Airport  Seattle        WA         USA   \n",
       "2  Seattle-Tacoma International Airport  Seattle        WA         USA   \n",
       "3  Seattle-Tacoma International Airport  Seattle        WA         USA   \n",
       "4  Seattle-Tacoma International Airport  Seattle        WA         USA   \n",
       "\n",
       "   LATITUDE_DIS  LONGITUDE_DIS  \n",
       "0      47.44898     -122.30931  \n",
       "1      47.44898     -122.30931  \n",
       "2      47.44898     -122.30931  \n",
       "3      47.44898     -122.30931  \n",
       "4      47.44898     -122.30931  "
      ]
     },
     "metadata": {},
     "output_type": "display_data"
    },
    {
     "name": "stdout",
     "output_type": "stream",
     "text": [
      "<class 'pandas.core.frame.DataFrame'>\n",
      "RangeIndex: 5332914 entries, 0 to 5332913\n",
      "Data columns (total 46 columns):\n",
      " #   Column               Dtype  \n",
      "---  ------               -----  \n",
      " 0   YEAR                 int64  \n",
      " 1   MONTH                int64  \n",
      " 2   DAY                  int64  \n",
      " 3   DAY_OF_WEEK          int64  \n",
      " 4   AIRLINE_CODE         object \n",
      " 5   FLIGHT_NUMBER        int64  \n",
      " 6   TAIL_NUMBER          object \n",
      " 7   ORIGIN_AIRPORT       object \n",
      " 8   DESTINATION_AIRPORT  object \n",
      " 9   SCHEDULED_DEPARTURE  int64  \n",
      " 10  DEPARTURE_TIME       float64\n",
      " 11  DEPARTURE_DELAY      float64\n",
      " 12  TAXI_OUT             float64\n",
      " 13  WHEELS_OFF           float64\n",
      " 14  SCHEDULED_TIME       float64\n",
      " 15  ELAPSED_TIME         float64\n",
      " 16  AIR_TIME             float64\n",
      " 17  DISTANCE             int64  \n",
      " 18  WHEELS_ON            float64\n",
      " 19  TAXI_IN              float64\n",
      " 20  SCHEDULED_ARRIVAL    int64  \n",
      " 21  ARRIVAL_TIME         float64\n",
      " 22  ARRIVAL_DELAY        float64\n",
      " 23  DIVERTED             int64  \n",
      " 24  CANCELLED            int64  \n",
      " 25  CANCELLATION_REASON  object \n",
      " 26  AIR_SYSTEM_DELAY     float64\n",
      " 27  SECURITY_DELAY       float64\n",
      " 28  AIRLINE_DELAY        float64\n",
      " 29  LATE_AIRCRAFT_DELAY  float64\n",
      " 30  WEATHER_DELAY        float64\n",
      " 31  AIRLINE              object \n",
      " 32  AIRPORT_CODE_ORG     object \n",
      " 33  AIRPORT_ORG          object \n",
      " 34  CITY_ORG             object \n",
      " 35  STATE_ORG            object \n",
      " 36  COUNTRY_ORG          object \n",
      " 37  LATITUDE_ORG         float64\n",
      " 38  LONGITUDE_ORG        float64\n",
      " 39  AIRPORT_CODE_DIS     object \n",
      " 40  AIRPORT_DIS          object \n",
      " 41  CITY_DIS             object \n",
      " 42  STATE_DIS            object \n",
      " 43  COUNTRY_DIS          object \n",
      " 44  LATITUDE_DIS         float64\n",
      " 45  LONGITUDE_DIS        float64\n",
      "dtypes: float64(20), int64(10), object(16)\n",
      "memory usage: 1.8+ GB\n"
     ]
    },
    {
     "data": {
      "text/plain": [
       "None"
      ]
     },
     "metadata": {},
     "output_type": "display_data"
    }
   ],
   "source": [
    "# Merge the df_flights and df_airlines DataFrame on AIRLINE_CODE as the common column (or key) id.\n",
    "# Which will add a new column (AIRLINE) to df_flights, including airline names.\n",
    "\n",
    "df_flights = df_flights.merge(df_airlines, on= 'AIRLINE_CODE', how=\"left\")\n",
    "\n",
    "\n",
    "# Merge the df_flights and df_airlines DataFrame on AIRLINE_CODE as the common column (or key) id.\n",
    "# Which will add a new column (AIRLINE) to df_flights, including airline names.\n",
    "airports_ORG = df_airports.add_suffix('_ORG')\n",
    "airports_DIS = df_airports.add_suffix('_DIS')\n",
    "\n",
    "df_flights = pd.merge(df_flights, airports_ORG, left_on='ORIGIN_AIRPORT', right_on='AIRPORT_CODE_ORG')\n",
    "df_flights = pd.merge(df_flights, airports_DIS, left_on='DESTINATION_AIRPORT', right_on='AIRPORT_CODE_DIS')\n",
    "\n",
    "# Show the first 5 rows of the df_airports\n",
    "display(df_flights.head())\n",
    "# Print a concise summary of a DataFrame.\n",
    "display(df_flights.info())"
   ]
  },
  {
   "attachments": {},
   "cell_type": "markdown",
   "id": "7b8c4d18",
   "metadata": {},
   "source": [
    "# 4.1 What is the most common reason for flight cancellations?"
   ]
  },
  {
   "attachments": {},
   "cell_type": "markdown",
   "id": "9352e31f",
   "metadata": {},
   "source": [
    "### Explore CANCELLATION_REASON columns"
   ]
  },
  {
   "cell_type": "code",
   "execution_count": 8,
   "id": "2dcc7064",
   "metadata": {},
   "outputs": [
    {
     "data": {
      "text/plain": [
       "array([nan, 'A', 'B', 'C', 'D'], dtype=object)"
      ]
     },
     "execution_count": 8,
     "metadata": {},
     "output_type": "execute_result"
    }
   ],
   "source": [
    "# Print unique values of CANCELLATION_REASON column\n",
    "df_flights['CANCELLATION_REASON'].unique()"
   ]
  },
  {
   "attachments": {},
   "cell_type": "markdown",
   "id": "0c309045",
   "metadata": {},
   "source": [
    "    \n",
    "####   Cancellation Reasons Explanation\n",
    "Reasons|Explanation\n",
    ":-----|:-----|\n",
    "A|\tAirline/Carrier|\n",
    "B|\tWeather|\n",
    "C|\tNational Air System|\n",
    "D|\tSecurity|\n",
    "    "
   ]
  },
  {
   "attachments": {},
   "cell_type": "markdown",
   "id": "eab133c2",
   "metadata": {},
   "source": [
    "# CANCELLATION REASON Pie Chart"
   ]
  },
  {
   "cell_type": "code",
   "execution_count": 9,
   "id": "d95f59fa",
   "metadata": {},
   "outputs": [
    {
     "data": {
      "text/html": [
       "<div>\n",
       "<style scoped>\n",
       "    .dataframe tbody tr th:only-of-type {\n",
       "        vertical-align: middle;\n",
       "    }\n",
       "\n",
       "    .dataframe tbody tr th {\n",
       "        vertical-align: top;\n",
       "    }\n",
       "\n",
       "    .dataframe thead th {\n",
       "        text-align: right;\n",
       "    }\n",
       "</style>\n",
       "<table border=\"1\" class=\"dataframe\">\n",
       "  <thead>\n",
       "    <tr style=\"text-align: right;\">\n",
       "      <th></th>\n",
       "      <th>CANCELLATION_REASON</th>\n",
       "      <th>Count</th>\n",
       "    </tr>\n",
       "  </thead>\n",
       "  <tbody>\n",
       "    <tr>\n",
       "      <th>0</th>\n",
       "      <td>Airline/Carrier</td>\n",
       "      <td>24309</td>\n",
       "    </tr>\n",
       "    <tr>\n",
       "      <th>1</th>\n",
       "      <td>Weather</td>\n",
       "      <td>47874</td>\n",
       "    </tr>\n",
       "    <tr>\n",
       "      <th>2</th>\n",
       "      <td>Air System</td>\n",
       "      <td>15225</td>\n",
       "    </tr>\n",
       "    <tr>\n",
       "      <th>3</th>\n",
       "      <td>Security</td>\n",
       "      <td>22</td>\n",
       "    </tr>\n",
       "  </tbody>\n",
       "</table>\n",
       "</div>"
      ],
      "text/plain": [
       "  CANCELLATION_REASON  Count\n",
       "0     Airline/Carrier  24309\n",
       "1             Weather  47874\n",
       "2          Air System  15225\n",
       "3            Security     22"
      ]
     },
     "execution_count": 9,
     "metadata": {},
     "output_type": "execute_result"
    }
   ],
   "source": [
    "\n",
    "df_reason_copy = df_flights.groupby(by=[\"CANCELLATION_REASON\"]).count()[[\"CANCELLED\"]].rename(columns={\"CANCELLED\":\"Count\"}).reset_index()\n",
    "\n",
    "# Creating Dictionary for airlines_names then add it as a new column\n",
    "reasons_names = {\n",
    "                 'A': \"Airline/Carrier\",\n",
    "                 'B': \"Weather\",\n",
    "                 'C': \"Air System\",\n",
    "                 'D': \"Security\"}\n",
    "\n",
    "#  Create a new column with full airlines names \n",
    "df_reason_copy['CANCELLATION_REASON'] = df_reason_copy['CANCELLATION_REASON'].astype('category')\n",
    "df_reason_copy['CANCELLATION_REASON'] = df_reason_copy['CANCELLATION_REASON'].cat.rename_categories(reasons_names)\n",
    "df_reason_copy"
   ]
  },
  {
   "cell_type": "code",
   "execution_count": 10,
   "id": "a819dada",
   "metadata": {},
   "outputs": [
    {
     "data": {
      "application/vnd.plotly.v1+json": {
       "config": {
        "plotlyServerURL": "https://plot.ly"
       },
       "data": [
        {
         "customdata": [
          [
           "Airline/Carrier"
          ],
          [
           "Weather"
          ],
          [
           "Air System"
          ],
          [
           "Security"
          ]
         ],
         "domain": {
          "x": [
           0,
           1
          ],
          "y": [
           0,
           1
          ]
         },
         "hole": 0.65,
         "hovertemplate": "CANCELLATION_REASON=%{customdata[0]}<br>Count=%{value}<extra></extra>",
         "labels": [
          "Airline/Carrier",
          "Weather",
          "Air System",
          "Security"
         ],
         "legendgroup": "",
         "marker": {
          "colors": [
           "MidnightBlue",
           "Turquoise",
           "Gold",
           "Silver"
          ]
         },
         "name": "",
         "showlegend": true,
         "textfont": {
          "size": 18
         },
         "textinfo": "percent+label",
         "textposition": "inside",
         "type": "pie",
         "values": [
          24309,
          47874,
          15225,
          22
         ]
        }
       ],
       "layout": {
        "annotations": [
         {
          "font": {
           "size": 30
          },
          "showarrow": false,
          "text": "Cancellations <br> Reasons",
          "x": 0.5,
          "y": 0.5
         }
        ],
        "height": 800,
        "legend": {
         "tracegroupgap": 0
        },
        "margin": {
         "t": 60
        },
        "template": {
         "data": {
          "bar": [
           {
            "error_x": {
             "color": "#2a3f5f"
            },
            "error_y": {
             "color": "#2a3f5f"
            },
            "marker": {
             "line": {
              "color": "#E5ECF6",
              "width": 0.5
             },
             "pattern": {
              "fillmode": "overlay",
              "size": 10,
              "solidity": 0.2
             }
            },
            "type": "bar"
           }
          ],
          "barpolar": [
           {
            "marker": {
             "line": {
              "color": "#E5ECF6",
              "width": 0.5
             },
             "pattern": {
              "fillmode": "overlay",
              "size": 10,
              "solidity": 0.2
             }
            },
            "type": "barpolar"
           }
          ],
          "carpet": [
           {
            "aaxis": {
             "endlinecolor": "#2a3f5f",
             "gridcolor": "white",
             "linecolor": "white",
             "minorgridcolor": "white",
             "startlinecolor": "#2a3f5f"
            },
            "baxis": {
             "endlinecolor": "#2a3f5f",
             "gridcolor": "white",
             "linecolor": "white",
             "minorgridcolor": "white",
             "startlinecolor": "#2a3f5f"
            },
            "type": "carpet"
           }
          ],
          "choropleth": [
           {
            "colorbar": {
             "outlinewidth": 0,
             "ticks": ""
            },
            "type": "choropleth"
           }
          ],
          "contour": [
           {
            "colorbar": {
             "outlinewidth": 0,
             "ticks": ""
            },
            "colorscale": [
             [
              0,
              "#0d0887"
             ],
             [
              0.1111111111111111,
              "#46039f"
             ],
             [
              0.2222222222222222,
              "#7201a8"
             ],
             [
              0.3333333333333333,
              "#9c179e"
             ],
             [
              0.4444444444444444,
              "#bd3786"
             ],
             [
              0.5555555555555556,
              "#d8576b"
             ],
             [
              0.6666666666666666,
              "#ed7953"
             ],
             [
              0.7777777777777778,
              "#fb9f3a"
             ],
             [
              0.8888888888888888,
              "#fdca26"
             ],
             [
              1,
              "#f0f921"
             ]
            ],
            "type": "contour"
           }
          ],
          "contourcarpet": [
           {
            "colorbar": {
             "outlinewidth": 0,
             "ticks": ""
            },
            "type": "contourcarpet"
           }
          ],
          "heatmap": [
           {
            "colorbar": {
             "outlinewidth": 0,
             "ticks": ""
            },
            "colorscale": [
             [
              0,
              "#0d0887"
             ],
             [
              0.1111111111111111,
              "#46039f"
             ],
             [
              0.2222222222222222,
              "#7201a8"
             ],
             [
              0.3333333333333333,
              "#9c179e"
             ],
             [
              0.4444444444444444,
              "#bd3786"
             ],
             [
              0.5555555555555556,
              "#d8576b"
             ],
             [
              0.6666666666666666,
              "#ed7953"
             ],
             [
              0.7777777777777778,
              "#fb9f3a"
             ],
             [
              0.8888888888888888,
              "#fdca26"
             ],
             [
              1,
              "#f0f921"
             ]
            ],
            "type": "heatmap"
           }
          ],
          "heatmapgl": [
           {
            "colorbar": {
             "outlinewidth": 0,
             "ticks": ""
            },
            "colorscale": [
             [
              0,
              "#0d0887"
             ],
             [
              0.1111111111111111,
              "#46039f"
             ],
             [
              0.2222222222222222,
              "#7201a8"
             ],
             [
              0.3333333333333333,
              "#9c179e"
             ],
             [
              0.4444444444444444,
              "#bd3786"
             ],
             [
              0.5555555555555556,
              "#d8576b"
             ],
             [
              0.6666666666666666,
              "#ed7953"
             ],
             [
              0.7777777777777778,
              "#fb9f3a"
             ],
             [
              0.8888888888888888,
              "#fdca26"
             ],
             [
              1,
              "#f0f921"
             ]
            ],
            "type": "heatmapgl"
           }
          ],
          "histogram": [
           {
            "marker": {
             "pattern": {
              "fillmode": "overlay",
              "size": 10,
              "solidity": 0.2
             }
            },
            "type": "histogram"
           }
          ],
          "histogram2d": [
           {
            "colorbar": {
             "outlinewidth": 0,
             "ticks": ""
            },
            "colorscale": [
             [
              0,
              "#0d0887"
             ],
             [
              0.1111111111111111,
              "#46039f"
             ],
             [
              0.2222222222222222,
              "#7201a8"
             ],
             [
              0.3333333333333333,
              "#9c179e"
             ],
             [
              0.4444444444444444,
              "#bd3786"
             ],
             [
              0.5555555555555556,
              "#d8576b"
             ],
             [
              0.6666666666666666,
              "#ed7953"
             ],
             [
              0.7777777777777778,
              "#fb9f3a"
             ],
             [
              0.8888888888888888,
              "#fdca26"
             ],
             [
              1,
              "#f0f921"
             ]
            ],
            "type": "histogram2d"
           }
          ],
          "histogram2dcontour": [
           {
            "colorbar": {
             "outlinewidth": 0,
             "ticks": ""
            },
            "colorscale": [
             [
              0,
              "#0d0887"
             ],
             [
              0.1111111111111111,
              "#46039f"
             ],
             [
              0.2222222222222222,
              "#7201a8"
             ],
             [
              0.3333333333333333,
              "#9c179e"
             ],
             [
              0.4444444444444444,
              "#bd3786"
             ],
             [
              0.5555555555555556,
              "#d8576b"
             ],
             [
              0.6666666666666666,
              "#ed7953"
             ],
             [
              0.7777777777777778,
              "#fb9f3a"
             ],
             [
              0.8888888888888888,
              "#fdca26"
             ],
             [
              1,
              "#f0f921"
             ]
            ],
            "type": "histogram2dcontour"
           }
          ],
          "mesh3d": [
           {
            "colorbar": {
             "outlinewidth": 0,
             "ticks": ""
            },
            "type": "mesh3d"
           }
          ],
          "parcoords": [
           {
            "line": {
             "colorbar": {
              "outlinewidth": 0,
              "ticks": ""
             }
            },
            "type": "parcoords"
           }
          ],
          "pie": [
           {
            "automargin": true,
            "type": "pie"
           }
          ],
          "scatter": [
           {
            "fillpattern": {
             "fillmode": "overlay",
             "size": 10,
             "solidity": 0.2
            },
            "type": "scatter"
           }
          ],
          "scatter3d": [
           {
            "line": {
             "colorbar": {
              "outlinewidth": 0,
              "ticks": ""
             }
            },
            "marker": {
             "colorbar": {
              "outlinewidth": 0,
              "ticks": ""
             }
            },
            "type": "scatter3d"
           }
          ],
          "scattercarpet": [
           {
            "marker": {
             "colorbar": {
              "outlinewidth": 0,
              "ticks": ""
             }
            },
            "type": "scattercarpet"
           }
          ],
          "scattergeo": [
           {
            "marker": {
             "colorbar": {
              "outlinewidth": 0,
              "ticks": ""
             }
            },
            "type": "scattergeo"
           }
          ],
          "scattergl": [
           {
            "marker": {
             "colorbar": {
              "outlinewidth": 0,
              "ticks": ""
             }
            },
            "type": "scattergl"
           }
          ],
          "scattermapbox": [
           {
            "marker": {
             "colorbar": {
              "outlinewidth": 0,
              "ticks": ""
             }
            },
            "type": "scattermapbox"
           }
          ],
          "scatterpolar": [
           {
            "marker": {
             "colorbar": {
              "outlinewidth": 0,
              "ticks": ""
             }
            },
            "type": "scatterpolar"
           }
          ],
          "scatterpolargl": [
           {
            "marker": {
             "colorbar": {
              "outlinewidth": 0,
              "ticks": ""
             }
            },
            "type": "scatterpolargl"
           }
          ],
          "scatterternary": [
           {
            "marker": {
             "colorbar": {
              "outlinewidth": 0,
              "ticks": ""
             }
            },
            "type": "scatterternary"
           }
          ],
          "surface": [
           {
            "colorbar": {
             "outlinewidth": 0,
             "ticks": ""
            },
            "colorscale": [
             [
              0,
              "#0d0887"
             ],
             [
              0.1111111111111111,
              "#46039f"
             ],
             [
              0.2222222222222222,
              "#7201a8"
             ],
             [
              0.3333333333333333,
              "#9c179e"
             ],
             [
              0.4444444444444444,
              "#bd3786"
             ],
             [
              0.5555555555555556,
              "#d8576b"
             ],
             [
              0.6666666666666666,
              "#ed7953"
             ],
             [
              0.7777777777777778,
              "#fb9f3a"
             ],
             [
              0.8888888888888888,
              "#fdca26"
             ],
             [
              1,
              "#f0f921"
             ]
            ],
            "type": "surface"
           }
          ],
          "table": [
           {
            "cells": {
             "fill": {
              "color": "#EBF0F8"
             },
             "line": {
              "color": "white"
             }
            },
            "header": {
             "fill": {
              "color": "#C8D4E3"
             },
             "line": {
              "color": "white"
             }
            },
            "type": "table"
           }
          ]
         },
         "layout": {
          "annotationdefaults": {
           "arrowcolor": "#2a3f5f",
           "arrowhead": 0,
           "arrowwidth": 1
          },
          "autotypenumbers": "strict",
          "coloraxis": {
           "colorbar": {
            "outlinewidth": 0,
            "ticks": ""
           }
          },
          "colorscale": {
           "diverging": [
            [
             0,
             "#8e0152"
            ],
            [
             0.1,
             "#c51b7d"
            ],
            [
             0.2,
             "#de77ae"
            ],
            [
             0.3,
             "#f1b6da"
            ],
            [
             0.4,
             "#fde0ef"
            ],
            [
             0.5,
             "#f7f7f7"
            ],
            [
             0.6,
             "#e6f5d0"
            ],
            [
             0.7,
             "#b8e186"
            ],
            [
             0.8,
             "#7fbc41"
            ],
            [
             0.9,
             "#4d9221"
            ],
            [
             1,
             "#276419"
            ]
           ],
           "sequential": [
            [
             0,
             "#0d0887"
            ],
            [
             0.1111111111111111,
             "#46039f"
            ],
            [
             0.2222222222222222,
             "#7201a8"
            ],
            [
             0.3333333333333333,
             "#9c179e"
            ],
            [
             0.4444444444444444,
             "#bd3786"
            ],
            [
             0.5555555555555556,
             "#d8576b"
            ],
            [
             0.6666666666666666,
             "#ed7953"
            ],
            [
             0.7777777777777778,
             "#fb9f3a"
            ],
            [
             0.8888888888888888,
             "#fdca26"
            ],
            [
             1,
             "#f0f921"
            ]
           ],
           "sequentialminus": [
            [
             0,
             "#0d0887"
            ],
            [
             0.1111111111111111,
             "#46039f"
            ],
            [
             0.2222222222222222,
             "#7201a8"
            ],
            [
             0.3333333333333333,
             "#9c179e"
            ],
            [
             0.4444444444444444,
             "#bd3786"
            ],
            [
             0.5555555555555556,
             "#d8576b"
            ],
            [
             0.6666666666666666,
             "#ed7953"
            ],
            [
             0.7777777777777778,
             "#fb9f3a"
            ],
            [
             0.8888888888888888,
             "#fdca26"
            ],
            [
             1,
             "#f0f921"
            ]
           ]
          },
          "colorway": [
           "#636efa",
           "#EF553B",
           "#00cc96",
           "#ab63fa",
           "#FFA15A",
           "#19d3f3",
           "#FF6692",
           "#B6E880",
           "#FF97FF",
           "#FECB52"
          ],
          "font": {
           "color": "#2a3f5f"
          },
          "geo": {
           "bgcolor": "white",
           "lakecolor": "white",
           "landcolor": "#E5ECF6",
           "showlakes": true,
           "showland": true,
           "subunitcolor": "white"
          },
          "hoverlabel": {
           "align": "left"
          },
          "hovermode": "closest",
          "mapbox": {
           "style": "light"
          },
          "paper_bgcolor": "white",
          "plot_bgcolor": "#E5ECF6",
          "polar": {
           "angularaxis": {
            "gridcolor": "white",
            "linecolor": "white",
            "ticks": ""
           },
           "bgcolor": "#E5ECF6",
           "radialaxis": {
            "gridcolor": "white",
            "linecolor": "white",
            "ticks": ""
           }
          },
          "scene": {
           "xaxis": {
            "backgroundcolor": "#E5ECF6",
            "gridcolor": "white",
            "gridwidth": 2,
            "linecolor": "white",
            "showbackground": true,
            "ticks": "",
            "zerolinecolor": "white"
           },
           "yaxis": {
            "backgroundcolor": "#E5ECF6",
            "gridcolor": "white",
            "gridwidth": 2,
            "linecolor": "white",
            "showbackground": true,
            "ticks": "",
            "zerolinecolor": "white"
           },
           "zaxis": {
            "backgroundcolor": "#E5ECF6",
            "gridcolor": "white",
            "gridwidth": 2,
            "linecolor": "white",
            "showbackground": true,
            "ticks": "",
            "zerolinecolor": "white"
           }
          },
          "shapedefaults": {
           "line": {
            "color": "#2a3f5f"
           }
          },
          "ternary": {
           "aaxis": {
            "gridcolor": "white",
            "linecolor": "white",
            "ticks": ""
           },
           "baxis": {
            "gridcolor": "white",
            "linecolor": "white",
            "ticks": ""
           },
           "bgcolor": "#E5ECF6",
           "caxis": {
            "gridcolor": "white",
            "linecolor": "white",
            "ticks": ""
           }
          },
          "title": {
           "x": 0.05
          },
          "xaxis": {
           "automargin": true,
           "gridcolor": "white",
           "linecolor": "white",
           "ticks": "",
           "title": {
            "standoff": 15
           },
           "zerolinecolor": "white",
           "zerolinewidth": 2
          },
          "yaxis": {
           "automargin": true,
           "gridcolor": "white",
           "linecolor": "white",
           "ticks": "",
           "title": {
            "standoff": 15
           },
           "zerolinecolor": "white",
           "zerolinewidth": 2
          }
         }
        },
        "title": {
         "text": "(Click legend to toggle traces)"
        },
        "width": 800
       }
      }
     },
     "metadata": {},
     "output_type": "display_data"
    }
   ],
   "source": [
    "# Create color_map for Cancellations reasons names\n",
    "color_map ={'Airline/Carrier':'MidnightBlue','Weather':'Turquoise','Air System':'Gold','Security':'Silver'}\n",
    "\n",
    "# Create the pie plot\n",
    "fig = px.pie(\n",
    "            # Set the data\n",
    "            df_reason_copy,\n",
    "            # Set the variable for the values\n",
    "            values='Count',\n",
    "            # Set the variable for the names\n",
    "            names='CANCELLATION_REASON',\n",
    "            # Set the color variable and map\n",
    "            color='CANCELLATION_REASON',\n",
    "            color_discrete_map=color_map\n",
    "            )\n",
    "# Adjust the look to a donut chart by adding white space in the middle\n",
    "fig.update_traces(hole=.65,\n",
    "                  # Adjust the text position, size, and info\n",
    "                  textposition='inside', textinfo='percent+label',textfont_size=18)\n",
    "# Update the figure layout\n",
    "fig.update_layout(width=800,height=800,\n",
    "    # Add annotations in the center of the donut pie\n",
    "    annotations=[dict(text='Cancellations <br> Reasons',\n",
    "                      x=0.5, y=0.5, font_size=30, showarrow=False)],\n",
    "                 title_text = '(Click legend to toggle traces)')\n",
    "\n",
    "\n",
    "\n",
    "# Show the plot\n",
    "fig.show()"
   ]
  },
  {
   "attachments": {},
   "cell_type": "markdown",
   "id": "2db7ad57",
   "metadata": {},
   "source": [
    "### Reflection - Cancellation Reason\n",
    "> Donut charts are a great way to see distrubutions. After looking at this graph, what was the biggest reason for cancellations? What was the smallest reason? Does this suprise you? Type your answer to the right of the # in the cell block below."
   ]
  },
  {
   "cell_type": "code",
   "execution_count": 11,
   "id": "1b585c04",
   "metadata": {},
   "outputs": [],
   "source": [
    "#"
   ]
  },
  {
   "attachments": {},
   "cell_type": "markdown",
   "id": "8442518e",
   "metadata": {},
   "source": [
    "# Which airlines have the most cancellations?\n",
    "##  And which reason caused these cancellations ?"
   ]
  },
  {
   "cell_type": "code",
   "execution_count": 12,
   "id": "e2e37ed1",
   "metadata": {},
   "outputs": [
    {
     "data": {
      "text/plain": [
       "['Alaska Airlines Inc.',\n",
       " 'Delta Air Lines Inc.',\n",
       " 'JetBlue Airways',\n",
       " 'Skywest Airlines Inc.',\n",
       " 'Virgin America',\n",
       " 'United Air Lines Inc.',\n",
       " 'Southwest Airlines Co.',\n",
       " 'Frontier Airlines Inc.',\n",
       " 'US Airways Inc.',\n",
       " 'American Airlines Inc.',\n",
       " 'Hawaiian Airlines Inc.',\n",
       " 'Spirit Air Lines',\n",
       " 'Atlantic Southeast Airlines',\n",
       " 'American Eagle Airlines Inc.']"
      ]
     },
     "execution_count": 12,
     "metadata": {},
     "output_type": "execute_result"
    }
   ],
   "source": [
    "df_flights['AIRLINE'].unique().tolist()"
   ]
  },
  {
   "cell_type": "code",
   "execution_count": 13,
   "id": "1bd0e788",
   "metadata": {},
   "outputs": [],
   "source": [
    "# Creating Dictionary for airlines_names then add it as a new column\n",
    "ids = {'Hawaiian Airlines Inc.':'Hawaiian',\n",
    " 'Virgin America':'Virgin',\n",
    " 'Frontier Airlines Inc.':'Frontier',\n",
    " 'Alaska Airlines Inc.':'Alaska',\n",
    " 'Spirit Air Lines':'Spirit',\n",
    " 'Delta Air Lines Inc.':'Delta',\n",
    " 'US Airways Inc.':'US Airways',\n",
    " 'JetBlue Airways':'JetBlue',\n",
    " 'United Air Lines Inc.':'United',\n",
    " 'Skywest Airlines Inc.':'Skywest',\n",
    " 'American Airlines Inc.':'American',\n",
    " 'American Eagle Airlines Inc.':'American Eagle',\n",
    " 'Atlantic Southeast Airlines':'Atlantic',\n",
    " 'Southwest Airlines Co.':'Southwest'}\n",
    "df_flights['AIRLINE'] = df_flights['AIRLINE'].replace(ids, regex=True)"
   ]
  },
  {
   "cell_type": "code",
   "execution_count": 14,
   "id": "7bb6c6fd",
   "metadata": {},
   "outputs": [
    {
     "data": {
      "text/html": [
       "<div>\n",
       "<style scoped>\n",
       "    .dataframe tbody tr th:only-of-type {\n",
       "        vertical-align: middle;\n",
       "    }\n",
       "\n",
       "    .dataframe tbody tr th {\n",
       "        vertical-align: top;\n",
       "    }\n",
       "\n",
       "    .dataframe thead th {\n",
       "        text-align: right;\n",
       "    }\n",
       "</style>\n",
       "<table border=\"1\" class=\"dataframe\">\n",
       "  <thead>\n",
       "    <tr style=\"text-align: right;\">\n",
       "      <th></th>\n",
       "      <th>AIRLINE</th>\n",
       "      <th>CANCELLATION_REASON</th>\n",
       "      <th>CANCELLED</th>\n",
       "    </tr>\n",
       "  </thead>\n",
       "  <tbody>\n",
       "    <tr>\n",
       "      <th>8</th>\n",
       "      <td>American Eagle</td>\n",
       "      <td>Weather</td>\n",
       "      <td>8946</td>\n",
       "    </tr>\n",
       "    <tr>\n",
       "      <th>30</th>\n",
       "      <td>Southwest</td>\n",
       "      <td>Weather</td>\n",
       "      <td>8758</td>\n",
       "    </tr>\n",
       "    <tr>\n",
       "      <th>4</th>\n",
       "      <td>American</td>\n",
       "      <td>Weather</td>\n",
       "      <td>6850</td>\n",
       "    </tr>\n",
       "    <tr>\n",
       "      <th>13</th>\n",
       "      <td>Atlantic</td>\n",
       "      <td>Air System</td>\n",
       "      <td>6360</td>\n",
       "    </tr>\n",
       "    <tr>\n",
       "      <th>29</th>\n",
       "      <td>Southwest</td>\n",
       "      <td>Airline/Carrier</td>\n",
       "      <td>5945</td>\n",
       "    </tr>\n",
       "  </tbody>\n",
       "</table>\n",
       "</div>"
      ],
      "text/plain": [
       "           AIRLINE CANCELLATION_REASON  CANCELLED\n",
       "8   American Eagle             Weather       8946\n",
       "30       Southwest             Weather       8758\n",
       "4         American             Weather       6850\n",
       "13        Atlantic          Air System       6360\n",
       "29       Southwest     Airline/Carrier       5945"
      ]
     },
     "execution_count": 14,
     "metadata": {},
     "output_type": "execute_result"
    }
   ],
   "source": [
    "df_reasons = df_flights.groupby(['AIRLINE','CANCELLATION_REASON'])[['CANCELLED']].sum().reset_index()\n",
    "\n",
    "#  Create a new column with full airlines names \n",
    "df_reasons['CANCELLATION_REASON'] = df_reasons['CANCELLATION_REASON'].astype('category')\n",
    "df_reasons['CANCELLATION_REASON'] = df_reasons['CANCELLATION_REASON'].cat.rename_categories(reasons_names)\n",
    "\n",
    "df_reasons = df_reasons.sort_values('CANCELLED',ascending = False)\n",
    "df_reasons.head()"
   ]
  },
  {
   "attachments": {},
   "cell_type": "markdown",
   "id": "641a52e6",
   "metadata": {},
   "source": [
    "## Conditions led to Cancellations in Airlines Stacked bar plot"
   ]
  },
  {
   "cell_type": "code",
   "execution_count": 15,
   "id": "b7a5c48c",
   "metadata": {},
   "outputs": [
    {
     "data": {
      "application/vnd.plotly.v1+json": {
       "config": {
        "plotlyServerURL": "https://plot.ly"
       },
       "data": [
        {
         "alignmentgroup": "True",
         "hovertemplate": "CANCELLATION_REASON=Airline/Carrier<br>CANCELLED=%{x}<br>AIRLINE=%{y}<extra></extra>",
         "legendgroup": "Airline/Carrier",
         "marker": {
          "color": "MidnightBlue",
          "pattern": {
           "shape": ""
          }
         },
         "name": "Airline/Carrier",
         "offsetgroup": "Airline/Carrier",
         "orientation": "h",
         "showlegend": true,
         "textposition": "auto",
         "type": "bar",
         "x": [
          5945,
          3400,
          3068,
          2790,
          2668,
          2454,
          1007,
          843,
          629,
          589,
          318,
          296,
          158,
          144
         ],
         "xaxis": "x",
         "y": [
          "Southwest",
          "Atlantic",
          "Skywest",
          "United",
          "American",
          "American Eagle",
          "US Airways",
          "JetBlue",
          "Spirit",
          "Delta",
          "Alaska",
          "Frontier",
          "Hawaiian",
          "Virgin"
         ],
         "yaxis": "y"
        },
        {
         "alignmentgroup": "True",
         "hovertemplate": "CANCELLATION_REASON=Weather<br>CANCELLED=%{x}<br>AIRLINE=%{y}<extra></extra>",
         "legendgroup": "Weather",
         "marker": {
          "color": "Turquoise",
          "pattern": {
           "shape": ""
          }
         },
         "name": "Weather",
         "offsetgroup": "Weather",
         "orientation": "h",
         "showlegend": true,
         "textposition": "auto",
         "type": "bar",
         "x": [
          8946,
          8758,
          6850,
          5480,
          4993,
          3284,
          2969,
          2490,
          2461,
          1052,
          300,
          280,
          10,
          1
         ],
         "xaxis": "x",
         "y": [
          "American Eagle",
          "Southwest",
          "American",
          "Skywest",
          "Atlantic",
          "United",
          "Delta",
          "US Airways",
          "JetBlue",
          "Spirit",
          "Alaska",
          "Frontier",
          "Virgin",
          "Hawaiian"
         ],
         "yaxis": "y"
        },
        {
         "alignmentgroup": "True",
         "hovertemplate": "CANCELLATION_REASON=Air System<br>CANCELLED=%{x}<br>AIRLINE=%{y}<extra></extra>",
         "legendgroup": "Air System",
         "marker": {
          "color": "Gold",
          "pattern": {
           "shape": ""
          }
         },
         "name": "Air System",
         "offsetgroup": "Air System",
         "orientation": "h",
         "showlegend": true,
         "textposition": "auto",
         "type": "bar",
         "x": [
          6360,
          3351,
          1171,
          1006,
          841,
          672,
          570,
          371,
          357,
          259,
          249,
          18
         ],
         "xaxis": "x",
         "y": [
          "Atlantic",
          "American Eagle",
          "Skywest",
          "Southwest",
          "JetBlue",
          "American",
          "US Airways",
          "United",
          "Virgin",
          "Spirit",
          "Delta",
          "Alaska"
         ],
         "yaxis": "y"
        },
        {
         "alignmentgroup": "True",
         "hovertemplate": "CANCELLATION_REASON=Security<br>CANCELLED=%{x}<br>AIRLINE=%{y}<extra></extra>",
         "legendgroup": "Security",
         "marker": {
          "color": "Silver",
          "pattern": {
           "shape": ""
          }
         },
         "name": "Security",
         "offsetgroup": "Security",
         "orientation": "h",
         "showlegend": true,
         "textposition": "auto",
         "type": "bar",
         "x": [
          12,
          4,
          3,
          1,
          1,
          1
         ],
         "xaxis": "x",
         "y": [
          "Southwest",
          "American",
          "Spirit",
          "Atlantic",
          "American Eagle",
          "JetBlue"
         ],
         "yaxis": "y"
        }
       ],
       "layout": {
        "barmode": "relative",
        "height": 800,
        "legend": {
         "title": {
          "text": "CANCELLATION_REASON"
         },
         "tracegroupgap": 0
        },
        "margin": {
         "t": 60
        },
        "plot_bgcolor": "white",
        "template": {
         "data": {
          "bar": [
           {
            "error_x": {
             "color": "#2a3f5f"
            },
            "error_y": {
             "color": "#2a3f5f"
            },
            "marker": {
             "line": {
              "color": "#E5ECF6",
              "width": 0.5
             },
             "pattern": {
              "fillmode": "overlay",
              "size": 10,
              "solidity": 0.2
             }
            },
            "type": "bar"
           }
          ],
          "barpolar": [
           {
            "marker": {
             "line": {
              "color": "#E5ECF6",
              "width": 0.5
             },
             "pattern": {
              "fillmode": "overlay",
              "size": 10,
              "solidity": 0.2
             }
            },
            "type": "barpolar"
           }
          ],
          "carpet": [
           {
            "aaxis": {
             "endlinecolor": "#2a3f5f",
             "gridcolor": "white",
             "linecolor": "white",
             "minorgridcolor": "white",
             "startlinecolor": "#2a3f5f"
            },
            "baxis": {
             "endlinecolor": "#2a3f5f",
             "gridcolor": "white",
             "linecolor": "white",
             "minorgridcolor": "white",
             "startlinecolor": "#2a3f5f"
            },
            "type": "carpet"
           }
          ],
          "choropleth": [
           {
            "colorbar": {
             "outlinewidth": 0,
             "ticks": ""
            },
            "type": "choropleth"
           }
          ],
          "contour": [
           {
            "colorbar": {
             "outlinewidth": 0,
             "ticks": ""
            },
            "colorscale": [
             [
              0,
              "#0d0887"
             ],
             [
              0.1111111111111111,
              "#46039f"
             ],
             [
              0.2222222222222222,
              "#7201a8"
             ],
             [
              0.3333333333333333,
              "#9c179e"
             ],
             [
              0.4444444444444444,
              "#bd3786"
             ],
             [
              0.5555555555555556,
              "#d8576b"
             ],
             [
              0.6666666666666666,
              "#ed7953"
             ],
             [
              0.7777777777777778,
              "#fb9f3a"
             ],
             [
              0.8888888888888888,
              "#fdca26"
             ],
             [
              1,
              "#f0f921"
             ]
            ],
            "type": "contour"
           }
          ],
          "contourcarpet": [
           {
            "colorbar": {
             "outlinewidth": 0,
             "ticks": ""
            },
            "type": "contourcarpet"
           }
          ],
          "heatmap": [
           {
            "colorbar": {
             "outlinewidth": 0,
             "ticks": ""
            },
            "colorscale": [
             [
              0,
              "#0d0887"
             ],
             [
              0.1111111111111111,
              "#46039f"
             ],
             [
              0.2222222222222222,
              "#7201a8"
             ],
             [
              0.3333333333333333,
              "#9c179e"
             ],
             [
              0.4444444444444444,
              "#bd3786"
             ],
             [
              0.5555555555555556,
              "#d8576b"
             ],
             [
              0.6666666666666666,
              "#ed7953"
             ],
             [
              0.7777777777777778,
              "#fb9f3a"
             ],
             [
              0.8888888888888888,
              "#fdca26"
             ],
             [
              1,
              "#f0f921"
             ]
            ],
            "type": "heatmap"
           }
          ],
          "heatmapgl": [
           {
            "colorbar": {
             "outlinewidth": 0,
             "ticks": ""
            },
            "colorscale": [
             [
              0,
              "#0d0887"
             ],
             [
              0.1111111111111111,
              "#46039f"
             ],
             [
              0.2222222222222222,
              "#7201a8"
             ],
             [
              0.3333333333333333,
              "#9c179e"
             ],
             [
              0.4444444444444444,
              "#bd3786"
             ],
             [
              0.5555555555555556,
              "#d8576b"
             ],
             [
              0.6666666666666666,
              "#ed7953"
             ],
             [
              0.7777777777777778,
              "#fb9f3a"
             ],
             [
              0.8888888888888888,
              "#fdca26"
             ],
             [
              1,
              "#f0f921"
             ]
            ],
            "type": "heatmapgl"
           }
          ],
          "histogram": [
           {
            "marker": {
             "pattern": {
              "fillmode": "overlay",
              "size": 10,
              "solidity": 0.2
             }
            },
            "type": "histogram"
           }
          ],
          "histogram2d": [
           {
            "colorbar": {
             "outlinewidth": 0,
             "ticks": ""
            },
            "colorscale": [
             [
              0,
              "#0d0887"
             ],
             [
              0.1111111111111111,
              "#46039f"
             ],
             [
              0.2222222222222222,
              "#7201a8"
             ],
             [
              0.3333333333333333,
              "#9c179e"
             ],
             [
              0.4444444444444444,
              "#bd3786"
             ],
             [
              0.5555555555555556,
              "#d8576b"
             ],
             [
              0.6666666666666666,
              "#ed7953"
             ],
             [
              0.7777777777777778,
              "#fb9f3a"
             ],
             [
              0.8888888888888888,
              "#fdca26"
             ],
             [
              1,
              "#f0f921"
             ]
            ],
            "type": "histogram2d"
           }
          ],
          "histogram2dcontour": [
           {
            "colorbar": {
             "outlinewidth": 0,
             "ticks": ""
            },
            "colorscale": [
             [
              0,
              "#0d0887"
             ],
             [
              0.1111111111111111,
              "#46039f"
             ],
             [
              0.2222222222222222,
              "#7201a8"
             ],
             [
              0.3333333333333333,
              "#9c179e"
             ],
             [
              0.4444444444444444,
              "#bd3786"
             ],
             [
              0.5555555555555556,
              "#d8576b"
             ],
             [
              0.6666666666666666,
              "#ed7953"
             ],
             [
              0.7777777777777778,
              "#fb9f3a"
             ],
             [
              0.8888888888888888,
              "#fdca26"
             ],
             [
              1,
              "#f0f921"
             ]
            ],
            "type": "histogram2dcontour"
           }
          ],
          "mesh3d": [
           {
            "colorbar": {
             "outlinewidth": 0,
             "ticks": ""
            },
            "type": "mesh3d"
           }
          ],
          "parcoords": [
           {
            "line": {
             "colorbar": {
              "outlinewidth": 0,
              "ticks": ""
             }
            },
            "type": "parcoords"
           }
          ],
          "pie": [
           {
            "automargin": true,
            "type": "pie"
           }
          ],
          "scatter": [
           {
            "fillpattern": {
             "fillmode": "overlay",
             "size": 10,
             "solidity": 0.2
            },
            "type": "scatter"
           }
          ],
          "scatter3d": [
           {
            "line": {
             "colorbar": {
              "outlinewidth": 0,
              "ticks": ""
             }
            },
            "marker": {
             "colorbar": {
              "outlinewidth": 0,
              "ticks": ""
             }
            },
            "type": "scatter3d"
           }
          ],
          "scattercarpet": [
           {
            "marker": {
             "colorbar": {
              "outlinewidth": 0,
              "ticks": ""
             }
            },
            "type": "scattercarpet"
           }
          ],
          "scattergeo": [
           {
            "marker": {
             "colorbar": {
              "outlinewidth": 0,
              "ticks": ""
             }
            },
            "type": "scattergeo"
           }
          ],
          "scattergl": [
           {
            "marker": {
             "colorbar": {
              "outlinewidth": 0,
              "ticks": ""
             }
            },
            "type": "scattergl"
           }
          ],
          "scattermapbox": [
           {
            "marker": {
             "colorbar": {
              "outlinewidth": 0,
              "ticks": ""
             }
            },
            "type": "scattermapbox"
           }
          ],
          "scatterpolar": [
           {
            "marker": {
             "colorbar": {
              "outlinewidth": 0,
              "ticks": ""
             }
            },
            "type": "scatterpolar"
           }
          ],
          "scatterpolargl": [
           {
            "marker": {
             "colorbar": {
              "outlinewidth": 0,
              "ticks": ""
             }
            },
            "type": "scatterpolargl"
           }
          ],
          "scatterternary": [
           {
            "marker": {
             "colorbar": {
              "outlinewidth": 0,
              "ticks": ""
             }
            },
            "type": "scatterternary"
           }
          ],
          "surface": [
           {
            "colorbar": {
             "outlinewidth": 0,
             "ticks": ""
            },
            "colorscale": [
             [
              0,
              "#0d0887"
             ],
             [
              0.1111111111111111,
              "#46039f"
             ],
             [
              0.2222222222222222,
              "#7201a8"
             ],
             [
              0.3333333333333333,
              "#9c179e"
             ],
             [
              0.4444444444444444,
              "#bd3786"
             ],
             [
              0.5555555555555556,
              "#d8576b"
             ],
             [
              0.6666666666666666,
              "#ed7953"
             ],
             [
              0.7777777777777778,
              "#fb9f3a"
             ],
             [
              0.8888888888888888,
              "#fdca26"
             ],
             [
              1,
              "#f0f921"
             ]
            ],
            "type": "surface"
           }
          ],
          "table": [
           {
            "cells": {
             "fill": {
              "color": "#EBF0F8"
             },
             "line": {
              "color": "white"
             }
            },
            "header": {
             "fill": {
              "color": "#C8D4E3"
             },
             "line": {
              "color": "white"
             }
            },
            "type": "table"
           }
          ]
         },
         "layout": {
          "annotationdefaults": {
           "arrowcolor": "#2a3f5f",
           "arrowhead": 0,
           "arrowwidth": 1
          },
          "autotypenumbers": "strict",
          "coloraxis": {
           "colorbar": {
            "outlinewidth": 0,
            "ticks": ""
           }
          },
          "colorscale": {
           "diverging": [
            [
             0,
             "#8e0152"
            ],
            [
             0.1,
             "#c51b7d"
            ],
            [
             0.2,
             "#de77ae"
            ],
            [
             0.3,
             "#f1b6da"
            ],
            [
             0.4,
             "#fde0ef"
            ],
            [
             0.5,
             "#f7f7f7"
            ],
            [
             0.6,
             "#e6f5d0"
            ],
            [
             0.7,
             "#b8e186"
            ],
            [
             0.8,
             "#7fbc41"
            ],
            [
             0.9,
             "#4d9221"
            ],
            [
             1,
             "#276419"
            ]
           ],
           "sequential": [
            [
             0,
             "#0d0887"
            ],
            [
             0.1111111111111111,
             "#46039f"
            ],
            [
             0.2222222222222222,
             "#7201a8"
            ],
            [
             0.3333333333333333,
             "#9c179e"
            ],
            [
             0.4444444444444444,
             "#bd3786"
            ],
            [
             0.5555555555555556,
             "#d8576b"
            ],
            [
             0.6666666666666666,
             "#ed7953"
            ],
            [
             0.7777777777777778,
             "#fb9f3a"
            ],
            [
             0.8888888888888888,
             "#fdca26"
            ],
            [
             1,
             "#f0f921"
            ]
           ],
           "sequentialminus": [
            [
             0,
             "#0d0887"
            ],
            [
             0.1111111111111111,
             "#46039f"
            ],
            [
             0.2222222222222222,
             "#7201a8"
            ],
            [
             0.3333333333333333,
             "#9c179e"
            ],
            [
             0.4444444444444444,
             "#bd3786"
            ],
            [
             0.5555555555555556,
             "#d8576b"
            ],
            [
             0.6666666666666666,
             "#ed7953"
            ],
            [
             0.7777777777777778,
             "#fb9f3a"
            ],
            [
             0.8888888888888888,
             "#fdca26"
            ],
            [
             1,
             "#f0f921"
            ]
           ]
          },
          "colorway": [
           "#636efa",
           "#EF553B",
           "#00cc96",
           "#ab63fa",
           "#FFA15A",
           "#19d3f3",
           "#FF6692",
           "#B6E880",
           "#FF97FF",
           "#FECB52"
          ],
          "font": {
           "color": "#2a3f5f"
          },
          "geo": {
           "bgcolor": "white",
           "lakecolor": "white",
           "landcolor": "#E5ECF6",
           "showlakes": true,
           "showland": true,
           "subunitcolor": "white"
          },
          "hoverlabel": {
           "align": "left"
          },
          "hovermode": "closest",
          "mapbox": {
           "style": "light"
          },
          "paper_bgcolor": "white",
          "plot_bgcolor": "#E5ECF6",
          "polar": {
           "angularaxis": {
            "gridcolor": "white",
            "linecolor": "white",
            "ticks": ""
           },
           "bgcolor": "#E5ECF6",
           "radialaxis": {
            "gridcolor": "white",
            "linecolor": "white",
            "ticks": ""
           }
          },
          "scene": {
           "xaxis": {
            "backgroundcolor": "#E5ECF6",
            "gridcolor": "white",
            "gridwidth": 2,
            "linecolor": "white",
            "showbackground": true,
            "ticks": "",
            "zerolinecolor": "white"
           },
           "yaxis": {
            "backgroundcolor": "#E5ECF6",
            "gridcolor": "white",
            "gridwidth": 2,
            "linecolor": "white",
            "showbackground": true,
            "ticks": "",
            "zerolinecolor": "white"
           },
           "zaxis": {
            "backgroundcolor": "#E5ECF6",
            "gridcolor": "white",
            "gridwidth": 2,
            "linecolor": "white",
            "showbackground": true,
            "ticks": "",
            "zerolinecolor": "white"
           }
          },
          "shapedefaults": {
           "line": {
            "color": "#2a3f5f"
           }
          },
          "ternary": {
           "aaxis": {
            "gridcolor": "white",
            "linecolor": "white",
            "ticks": ""
           },
           "baxis": {
            "gridcolor": "white",
            "linecolor": "white",
            "ticks": ""
           },
           "bgcolor": "#E5ECF6",
           "caxis": {
            "gridcolor": "white",
            "linecolor": "white",
            "ticks": ""
           }
          },
          "title": {
           "x": 0.05
          },
          "xaxis": {
           "automargin": true,
           "gridcolor": "white",
           "linecolor": "white",
           "ticks": "",
           "title": {
            "standoff": 15
           },
           "zerolinecolor": "white",
           "zerolinewidth": 2
          },
          "yaxis": {
           "automargin": true,
           "gridcolor": "white",
           "linecolor": "white",
           "ticks": "",
           "title": {
            "standoff": 15
           },
           "zerolinecolor": "white",
           "zerolinewidth": 2
          }
         }
        },
        "title": {
         "text": "Conditions led to Cancellations in Airlines                 <br>(Click legend to toggle traces)",
         "x": 0.5
        },
        "width": 1200,
        "xaxis": {
         "anchor": "y",
         "domain": [
          0,
          1
         ],
         "gridcolor": "LightGrey",
         "title": {
          "text": "CANCELLED"
         }
        },
        "yaxis": {
         "anchor": "x",
         "categoryorder": "total ascending",
         "domain": [
          0,
          1
         ],
         "title": {
          "text": "AIRLINE"
         }
        }
       }
      }
     },
     "metadata": {},
     "output_type": "display_data"
    }
   ],
   "source": [
    "\n",
    "# Create the bar chart\n",
    "fig = px.bar(\n",
    "             # Set the data\n",
    "             df_reasons,\n",
    "             # Set the orientation to horizontal\n",
    "             orientation=\"h\",\n",
    "             # Set the variable for the y-axis\n",
    "             y=\"AIRLINE\",\n",
    "             # Set the variable for the x-axis\n",
    "             x=\"CANCELLED\",\n",
    "             # Set the color variable and map\n",
    "             color=\"CANCELLATION_REASON\",\n",
    "             color_discrete_map=color_map,\n",
    "             # display the values on the bars \n",
    "             #________\n",
    "             width=1200, height=800,\n",
    "             category_orders={\"CANCELLATION_REASON\": [\"Airline/Carrier\", \"Weather\", \"Air System\", \"Security\"]})\n",
    "\n",
    "# Update the figure layout\n",
    "fig.update_layout( plot_bgcolor='white',yaxis={'categoryorder':'total ascending'},\n",
    "                 # Add title\n",
    "                 title_text = 'Conditions led to Cancellations in Airlines\\\n",
    "                 <br>(Click legend to toggle traces)',\n",
    "                 title_x=0.5)\n",
    "fig.update_xaxes(gridcolor='LightGrey')\n",
    "\n",
    "\n",
    "\n",
    "\n",
    "\n",
    "\n",
    "\n",
    "# Show the plot\n",
    "fig.show()"
   ]
  },
  {
   "cell_type": "code",
   "execution_count": 16,
   "id": "48aa5511",
   "metadata": {},
   "outputs": [],
   "source": [
    "# After showing this graph to you manger they asked to display the values on the bars \n",
    "# try to add \"text_auto='.2s'\" to the px.bar and the code block again"
   ]
  },
  {
   "attachments": {},
   "cell_type": "markdown",
   "id": "c972f75a",
   "metadata": {},
   "source": [
    "### Reflection \n",
    "> After visualizing this stacked bar chart we are able to see which reason caused the most cancellations by specific airways. What can we tell about the variance in reliability in specific airlines?Draw from personal experiences and the data above. Enter your thoughts to the right of the # in the cell below.\n"
   ]
  },
  {
   "cell_type": "code",
   "execution_count": 17,
   "id": "c939c841",
   "metadata": {},
   "outputs": [],
   "source": [
    "#"
   ]
  },
  {
   "cell_type": "code",
   "execution_count": null,
   "id": "e493357f",
   "metadata": {},
   "outputs": [],
   "source": []
  },
  {
   "attachments": {},
   "cell_type": "markdown",
   "id": "d644aa1a",
   "metadata": {},
   "source": [
    "# Which Airports / Cities have the most cancellations frequency?"
   ]
  },
  {
   "cell_type": "code",
   "execution_count": 18,
   "id": "d3150e39",
   "metadata": {},
   "outputs": [
    {
     "data": {
      "text/html": [
       "<div>\n",
       "<style scoped>\n",
       "    .dataframe tbody tr th:only-of-type {\n",
       "        vertical-align: middle;\n",
       "    }\n",
       "\n",
       "    .dataframe tbody tr th {\n",
       "        vertical-align: top;\n",
       "    }\n",
       "\n",
       "    .dataframe thead th {\n",
       "        text-align: right;\n",
       "    }\n",
       "</style>\n",
       "<table border=\"1\" class=\"dataframe\">\n",
       "  <thead>\n",
       "    <tr style=\"text-align: right;\">\n",
       "      <th></th>\n",
       "      <th>AIRPORT_CODE_ORG</th>\n",
       "      <th>LATITUDE_ORG</th>\n",
       "      <th>LONGITUDE_ORG</th>\n",
       "      <th>STATE_ORG</th>\n",
       "      <th>CITY_ORG</th>\n",
       "      <th>CANCELLED</th>\n",
       "    </tr>\n",
       "  </thead>\n",
       "  <tbody>\n",
       "    <tr>\n",
       "      <th>0</th>\n",
       "      <td>PPG</td>\n",
       "      <td>14.33102</td>\n",
       "      <td>-170.71053</td>\n",
       "      <td>AS</td>\n",
       "      <td>Pago Pago</td>\n",
       "      <td>0</td>\n",
       "    </tr>\n",
       "    <tr>\n",
       "      <th>1</th>\n",
       "      <td>LWS</td>\n",
       "      <td>46.37450</td>\n",
       "      <td>-117.01539</td>\n",
       "      <td>ID</td>\n",
       "      <td>Lewiston</td>\n",
       "      <td>0</td>\n",
       "    </tr>\n",
       "    <tr>\n",
       "      <th>2</th>\n",
       "      <td>MVY</td>\n",
       "      <td>41.39303</td>\n",
       "      <td>-70.61433</td>\n",
       "      <td>MA</td>\n",
       "      <td>Marthas Vineyard</td>\n",
       "      <td>0</td>\n",
       "    </tr>\n",
       "    <tr>\n",
       "      <th>3</th>\n",
       "      <td>AKN</td>\n",
       "      <td>58.67680</td>\n",
       "      <td>-156.64922</td>\n",
       "      <td>AK</td>\n",
       "      <td>King Salmon</td>\n",
       "      <td>0</td>\n",
       "    </tr>\n",
       "    <tr>\n",
       "      <th>4</th>\n",
       "      <td>DLG</td>\n",
       "      <td>59.04541</td>\n",
       "      <td>-158.50334</td>\n",
       "      <td>AK</td>\n",
       "      <td>Dillingham</td>\n",
       "      <td>0</td>\n",
       "    </tr>\n",
       "  </tbody>\n",
       "</table>\n",
       "</div>"
      ],
      "text/plain": [
       "  AIRPORT_CODE_ORG  LATITUDE_ORG  LONGITUDE_ORG STATE_ORG          CITY_ORG  \\\n",
       "0              PPG      14.33102     -170.71053        AS         Pago Pago   \n",
       "1              LWS      46.37450     -117.01539        ID          Lewiston   \n",
       "2              MVY      41.39303      -70.61433        MA  Marthas Vineyard   \n",
       "3              AKN      58.67680     -156.64922        AK       King Salmon   \n",
       "4              DLG      59.04541     -158.50334        AK        Dillingham   \n",
       "\n",
       "   CANCELLED  \n",
       "0          0  \n",
       "1          0  \n",
       "2          0  \n",
       "3          0  \n",
       "4          0  "
      ]
     },
     "execution_count": 18,
     "metadata": {},
     "output_type": "execute_result"
    }
   ],
   "source": [
    "df_state_cancel = df_flights.groupby(['AIRPORT_CODE_ORG','LATITUDE_ORG','LONGITUDE_ORG','STATE_ORG','CITY_ORG'])[['CANCELLED']].sum().reset_index()\n",
    "\n",
    "\n",
    "\n",
    "df_state_cancel = df_state_cancel.sort_values('CANCELLED',ascending = True).reset_index(drop= True)\n",
    "df_state_cancel.head()"
   ]
  },
  {
   "attachments": {},
   "cell_type": "markdown",
   "id": "da403ba2",
   "metadata": {},
   "source": [
    "### Bubble Map\n",
    "> Bubble Maps are circles shown over a geographical region with the area of the circle proportional to its value in the dataset ( Cancellations frequency).\n",
    "\"Bubble Maps are good for comparing proportions over geographic regions without the issues caused by regional area size, as you will see on Choropleth Maps.\""
   ]
  },
  {
   "cell_type": "code",
   "execution_count": 19,
   "id": "556d5d60",
   "metadata": {},
   "outputs": [
    {
     "data": {
      "application/vnd.plotly.v1+json": {
       "config": {
        "plotlyServerURL": "https://plot.ly"
       },
       "data": [
        {
         "lat": [
          14.33102,
          46.3745,
          41.39303,
          58.6768,
          59.04541,
          44.6884,
          37.70097,
          41.66934,
          38.75496,
          58.42438,
          42.91131,
          47.50942,
          48.79275,
          13.48345,
          17.70189,
          47.94926,
          44.80744,
          42.20848,
          29.17992,
          42.49103,
          28.10275,
          45.54532,
          59.50336,
          39.67872,
          41.25305,
          40.4409,
          37.09058,
          46.39786,
          32.51633,
          51.87796,
          31.46715,
          45.44906,
          30.7825,
          46.35364,
          35.07297,
          57.04714,
          48.56619,
          56.80165,
          42.4818,
          31.25903,
          31.53552,
          46.60682,
          60.49183,
          64.81368,
          43.10726,
          43.41714,
          18.0083,
          18.49486,
          38.28909,
          56.48433
         ],
         "locationmode": "USA-states",
         "lon": [
          -170.71053,
          -117.01539,
          -70.61433,
          -156.64922,
          -158.50334,
          -111.11764,
          -113.09858,
          -70.28036,
          -109.75484,
          -135.70738,
          -112.59586,
          -94.93372,
          -122.53753,
          -144.79598,
          -64.79856,
          -97.17611,
          -68.82814,
          -75.97961,
          -81.05806,
          -76.45844,
          -80.64581,
          -94.05834,
          -139.66023,
          -75.60653,
          -70.06018,
          -109.50992,
          -113.59306,
          -94.13723,
          -84.93886,
          -176.64603,
          -89.33706,
          -98.42183,
          -83.27672,
          -87.39536,
          -77.04294,
          -135.3616,
          -93.40307,
          -132.94528,
          -114.48774,
          -81.46631,
          -84.19447,
          -111.98275,
          -145.47765,
          -147.85967,
          -78.94538,
          -124.24603,
          -66.56301,
          -67.12944,
          -104.49657,
          -132.36982
         ],
         "marker": {
          "color": "MidnightBlue",
          "line": {
           "color": "rgb(40,40,40)",
           "width": 0.2
          },
          "size": [
           0,
           0,
           0,
           0,
           0,
           0,
           0.1,
           0.1,
           0.1,
           0.1,
           0.2,
           0.3,
           0.3,
           0.3,
           0.3,
           0.3,
           0.3,
           0.3,
           0.4,
           0.4,
           0.5,
           0.5,
           0.5,
           0.5,
           0.6,
           0.6,
           0.6,
           0.7,
           0.7,
           0.7,
           0.7,
           0.8,
           0.8,
           0.8,
           0.8,
           0.9,
           0.9,
           0.9,
           0.9,
           0.9,
           0.9,
           0.9,
           0.9,
           1,
           1,
           1,
           1.1,
           1.1,
           1.1,
           1.1
          ],
          "sizemin": 1,
          "sizemode": "area"
         },
         "name": "0 - 50",
         "text": [
          "<br>STATE: AS<br>AIRPORT: PPG<br>Cancelation Rate: 0",
          "<br>STATE: ID<br>AIRPORT: LWS<br>Cancelation Rate: 0",
          "<br>STATE: MA<br>AIRPORT: MVY<br>Cancelation Rate: 0",
          "<br>STATE: AK<br>AIRPORT: AKN<br>Cancelation Rate: 0",
          "<br>STATE: AK<br>AIRPORT: DLG<br>Cancelation Rate: 0",
          "<br>STATE: MT<br>AIRPORT: WYS<br>Cancelation Rate: 0",
          "<br>STATE: UT<br>AIRPORT: CDC<br>Cancelation Rate: 1",
          "<br>STATE: MA<br>AIRPORT: HYA<br>Cancelation Rate: 1",
          "<br>STATE: UT<br>AIRPORT: CNY<br>Cancelation Rate: 1",
          "<br>STATE: AK<br>AIRPORT: GST<br>Cancelation Rate: 1",
          "<br>STATE: ID<br>AIRPORT: PIH<br>Cancelation Rate: 2",
          "<br>STATE: MN<br>AIRPORT: BJI<br>Cancelation Rate: 3",
          "<br>STATE: WA<br>AIRPORT: BLI<br>Cancelation Rate: 3",
          "<br>STATE: GU<br>AIRPORT: GUM<br>Cancelation Rate: 3",
          "<br>STATE: VI<br>AIRPORT: STX<br>Cancelation Rate: 3",
          "<br>STATE: ND<br>AIRPORT: GFK<br>Cancelation Rate: 3",
          "<br>STATE: ME<br>AIRPORT: BGR<br>Cancelation Rate: 3",
          "<br>STATE: NY<br>AIRPORT: BGM<br>Cancelation Rate: 3",
          "<br>STATE: FL<br>AIRPORT: DAB<br>Cancelation Rate: 4",
          "<br>STATE: NY<br>AIRPORT: ITH<br>Cancelation Rate: 4",
          "<br>STATE: FL<br>AIRPORT: MLB<br>Cancelation Rate: 5",
          "<br>STATE: MN<br>AIRPORT: STC<br>Cancelation Rate: 5",
          "<br>STATE: AK<br>AIRPORT: YAK<br>Cancelation Rate: 5",
          "<br>STATE: DE<br>AIRPORT: ILG<br>Cancelation Rate: 5",
          "<br>STATE: MA<br>AIRPORT: ACK<br>Cancelation Rate: 6",
          "<br>STATE: UT<br>AIRPORT: VEL<br>Cancelation Rate: 6",
          "<br>STATE: UT<br>AIRPORT: SGU<br>Cancelation Rate: 6",
          "<br>STATE: MN<br>AIRPORT: BRD<br>Cancelation Rate: 7",
          "<br>STATE: GA<br>AIRPORT: CSG<br>Cancelation Rate: 7",
          "<br>STATE: AK<br>AIRPORT: ADK<br>Cancelation Rate: 7",
          "<br>STATE: MS<br>AIRPORT: PIB<br>Cancelation Rate: 7",
          "<br>STATE: SD<br>AIRPORT: ABR<br>Cancelation Rate: 8",
          "<br>STATE: GA<br>AIRPORT: VLD<br>Cancelation Rate: 8",
          "<br>STATE: MI<br>AIRPORT: MQT<br>Cancelation Rate: 8",
          "<br>STATE: NC<br>AIRPORT: EWN<br>Cancelation Rate: 8",
          "<br>STATE: AK<br>AIRPORT: SIT<br>Cancelation Rate: 9",
          "<br>STATE: MN<br>AIRPORT: INL<br>Cancelation Rate: 9",
          "<br>STATE: AK<br>AIRPORT: PSG<br>Cancelation Rate: 9",
          "<br>STATE: ID<br>AIRPORT: TWF<br>Cancelation Rate: 9",
          "<br>STATE: GA<br>AIRPORT: BQK<br>Cancelation Rate: 9",
          "<br>STATE: GA<br>AIRPORT: ABY<br>Cancelation Rate: 9",
          "<br>STATE: MT<br>AIRPORT: HLN<br>Cancelation Rate: 9",
          "<br>STATE: AK<br>AIRPORT: CDV<br>Cancelation Rate: 9",
          "<br>STATE: AK<br>AIRPORT: FAI<br>Cancelation Rate: 10",
          "<br>STATE: NY<br>AIRPORT: IAG<br>Cancelation Rate: 10",
          "<br>STATE: OR<br>AIRPORT: OTH<br>Cancelation Rate: 10",
          "<br>STATE: PR<br>AIRPORT: PSE<br>Cancelation Rate: 11",
          "<br>STATE: PR<br>AIRPORT: BQN<br>Cancelation Rate: 11",
          "<br>STATE: CO<br>AIRPORT: PUB<br>Cancelation Rate: 11",
          "<br>STATE: AK<br>AIRPORT: WRG<br>Cancelation Rate: 11"
         ],
         "type": "scattergeo"
        },
        {
         "lat": [
          45.81835,
          44.3489,
          44.52019,
          41.50409,
          19.72026,
          34.89925,
          45.80766,
          33.12723,
          32.33313,
          47.482,
          40.82493,
          33.45033,
          34.99147,
          34.82916,
          33.36996,
          45.63119,
          38.84494,
          34.27061,
          41.78016,
          37.62405,
          46.25075,
          60.77978,
          40.48118,
          31.32134,
          45.72267,
          46.79739,
          70.19476,
          41.59422,
          48.3114,
          24.55611,
          45.9548,
          43.51456,
          46.91631,
          47.3866,
          40.50898,
          36.47521,
          45.57093,
          66.88468,
          40.96747,
          32.68753,
          32.65658,
          57.74997,
          41.31205,
          40.85121,
          37.92752,
          38.53396,
          45.07807,
          42.26734,
          71.28545,
          48.25938
         ],
         "locationmode": "USA-states",
         "lon": [
          -88.11454,
          -105.53936,
          -109.0238,
          -74.10484,
          -155.04847,
          -120.45758,
          -108.54286,
          -117.27873,
          -88.75121,
          -111.37069,
          -115.7917,
          -88.59137,
          -78.88,
          -77.61214,
          -81.9645,
          -89.46745,
          -99.27403,
          -77.90256,
          -124.23653,
          -118.83777,
          -84.47239,
          -161.838,
          -107.21766,
          -85.44963,
          -87.09373,
          -102.80195,
          -148.46516,
          -109.06519,
          -114.25507,
          -81.75956,
          -112.49746,
          -112.07017,
          -114.09056,
          -92.83899,
          -122.2934,
          -82.40742,
          -84.79672,
          -162.59855,
          -98.30861,
          -103.21703,
          -114.60597,
          -152.49386,
          -105.67499,
          -77.8463,
          -100.72441,
          -106.93318,
          -83.56029,
          -71.87571,
          -156.766,
          -101.28033
         ],
         "marker": {
          "color": "Gold",
          "line": {
           "color": "rgb(40,40,40)",
           "width": 0.2
          },
          "size": [
           1.1,
           1.1,
           1.2,
           1.2,
           1.2,
           1.2,
           1.3,
           1.3,
           1.4,
           1.4,
           1.4,
           1.4,
           1.5,
           1.5,
           1.5,
           1.5,
           1.5,
           1.6,
           1.6,
           1.6,
           1.6,
           1.6,
           1.6,
           1.7,
           1.7,
           1.7,
           1.8,
           1.8,
           1.9,
           1.9,
           1.9,
           1.9,
           1.9,
           2,
           2.1,
           2.1,
           2.1,
           2.2,
           2.3,
           2.3,
           2.3,
           2.3,
           2.4,
           2.5,
           2.5,
           2.5,
           2.6,
           2.6,
           2.7,
           2.7
          ],
          "sizemin": 1,
          "sizemode": "area"
         },
         "name": "50 - 100",
         "text": [
          "<br>STATE: MI<br>AIRPORT: IMT<br>Cancelation Rate: 11",
          "<br>STATE: WY<br>AIRPORT: GCC<br>Cancelation Rate: 11",
          "<br>STATE: WY<br>AIRPORT: COD<br>Cancelation Rate: 12",
          "<br>STATE: NY<br>AIRPORT: SWF<br>Cancelation Rate: 12",
          "<br>STATE: HI<br>AIRPORT: ITO<br>Cancelation Rate: 12",
          "<br>STATE: CA<br>AIRPORT: SMX<br>Cancelation Rate: 12",
          "<br>STATE: MT<br>AIRPORT: BIL<br>Cancelation Rate: 13",
          "<br>STATE: CA<br>AIRPORT: CLD<br>Cancelation Rate: 13",
          "<br>STATE: MS<br>AIRPORT: MEI<br>Cancelation Rate: 14",
          "<br>STATE: MT<br>AIRPORT: GTF<br>Cancelation Rate: 14",
          "<br>STATE: NV<br>AIRPORT: EKO<br>Cancelation Rate: 14",
          "<br>STATE: MS<br>AIRPORT: GTR<br>Cancelation Rate: 14",
          "<br>STATE: NC<br>AIRPORT: FAY<br>Cancelation Rate: 15",
          "<br>STATE: NC<br>AIRPORT: OAJ<br>Cancelation Rate: 15",
          "<br>STATE: GA<br>AIRPORT: AGS<br>Cancelation Rate: 15",
          "<br>STATE: WI<br>AIRPORT: RHI<br>Cancelation Rate: 15",
          "<br>STATE: KS<br>AIRPORT: HYS<br>Cancelation Rate: 15",
          "<br>STATE: NC<br>AIRPORT: ILM<br>Cancelation Rate: 16",
          "<br>STATE: CA<br>AIRPORT: CEC<br>Cancelation Rate: 16",
          "<br>STATE: CA<br>AIRPORT: MMH<br>Cancelation Rate: 16",
          "<br>STATE: MI<br>AIRPORT: CIU<br>Cancelation Rate: 16",
          "<br>STATE: AK<br>AIRPORT: BET<br>Cancelation Rate: 16",
          "<br>STATE: CO<br>AIRPORT: HDN<br>Cancelation Rate: 16",
          "<br>STATE: AL<br>AIRPORT: DHN<br>Cancelation Rate: 17",
          "<br>STATE: MI<br>AIRPORT: ESC<br>Cancelation Rate: 17",
          "<br>STATE: ND<br>AIRPORT: DIK<br>Cancelation Rate: 17",
          "<br>STATE: AK<br>AIRPORT: SCC<br>Cancelation Rate: 18",
          "<br>STATE: WY<br>AIRPORT: RKS<br>Cancelation Rate: 18",
          "<br>STATE: MT<br>AIRPORT: FCA<br>Cancelation Rate: 19",
          "<br>STATE: FL<br>AIRPORT: EYW<br>Cancelation Rate: 19",
          "<br>STATE: MT<br>AIRPORT: BTM<br>Cancelation Rate: 19",
          "<br>STATE: ID<br>AIRPORT: IDA<br>Cancelation Rate: 19",
          "<br>STATE: MT<br>AIRPORT: MSO<br>Cancelation Rate: 19",
          "<br>STATE: MN<br>AIRPORT: HIB<br>Cancelation Rate: 20",
          "<br>STATE: CA<br>AIRPORT: RDD<br>Cancelation Rate: 21",
          "<br>STATE: TN<br>AIRPORT: TRI<br>Cancelation Rate: 21",
          "<br>STATE: MI<br>AIRPORT: PLN<br>Cancelation Rate: 21",
          "<br>STATE: AK<br>AIRPORT: OTZ<br>Cancelation Rate: 22",
          "<br>STATE: NE<br>AIRPORT: GRI<br>Cancelation Rate: 23",
          "<br>STATE: NM<br>AIRPORT: HOB<br>Cancelation Rate: 23",
          "<br>STATE: AZ<br>AIRPORT: YUM<br>Cancelation Rate: 23",
          "<br>STATE: AK<br>AIRPORT: ADQ<br>Cancelation Rate: 23",
          "<br>STATE: WY<br>AIRPORT: LAR<br>Cancelation Rate: 24",
          "<br>STATE: PA<br>AIRPORT: SCE<br>Cancelation Rate: 25",
          "<br>STATE: KS<br>AIRPORT: GCK<br>Cancelation Rate: 25",
          "<br>STATE: CO<br>AIRPORT: GUC<br>Cancelation Rate: 25",
          "<br>STATE: MI<br>AIRPORT: APN<br>Cancelation Rate: 26",
          "<br>STATE: MA<br>AIRPORT: ORH<br>Cancelation Rate: 26",
          "<br>STATE: AK<br>AIRPORT: BRW<br>Cancelation Rate: 27",
          "<br>STATE: ND<br>AIRPORT: MOT<br>Cancelation Rate: 27"
         ],
         "type": "scattergeo"
        },
        {
         "lat": [
          64.5122,
          37.1319,
          55.35557,
          32.38486,
          41.33815,
          42.4026,
          38.50887,
          48.17794,
          42.90836,
          46.26468,
          44.25407,
          44.86526,
          37.15181,
          42.55708,
          42.08202,
          40.27594,
          39.64257,
          42.37423,
          27.39533,
          29.69006,
          39.12241,
          40.65236,
          45.7769,
          19.73877,
          42.15991,
          39.45758,
          35.4336,
          30.39653,
          26.22851,
          21.97598,
          37.06083,
          37.15152,
          47.16842,
          48.11425,
          42.7787,
          44.04532,
          47.61986,
          43.16949,
          58.35496,
          18.33731,
          35.13845,
          40.27669,
          40.97812,
          46.84209,
          43.60732,
          32.30064,
          33.30156,
          30.1261,
          44.77762,
          35.33659,
          42.40296,
          46.92972,
          38.37315,
          37.32547,
          46.77411,
          33.81772,
          35.61678,
          33.45371,
          33.9888,
          35.43619,
          43.87938,
          29.95083,
          27.54374,
          38.81809,
          41.58681,
          35.23706,
          39.84395,
          40.1935,
          43.53291,
          44.12326,
          36.77619,
          40.85097,
          39.14097,
          35.03527,
          32.51087,
          31.61129,
          30.40728,
          31.35775,
          43.90883,
          44.25741,
          34.64045,
          31.32737,
          43.50484,
          44.473,
          44.74144,
          33.93884,
          34.56771,
          30.69142,
          25.90683,
          32.41132,
          33.67975,
          30.48325,
          40.91631,
          32.35414,
          38.13864,
          33.82922,
          43.56444,
          41.70895,
          42.23488,
          40.47799,
          30.47331,
          42.9655,
          30.58859,
          46.91935,
          26.17583,
          38.80581,
          40.03925,
          42.74812,
          38.03799,
          61.17432,
          20.89865,
          30.20528,
          34.42621,
          31.80667,
          39.49858,
          36.58698,
          35.21937,
          40.79524,
          34.89567,
          43.64617,
          32.12758,
          43.11119,
          41.44853,
          32.44663,
          44.48507,
          42.93452,
          27.77036,
          43.58135,
          32.11608,
          40.66424,
          31.0649,
          33.66364,
          30.53316,
          38.03697,
          32.31117,
          40.97847,
          35.81249,
          37.24433,
          21.31869,
          33.56294,
          34.056,
          43.11887,
          18.43942,
          37.64996,
          30.49406,
          35.04022,
          45.58872,
          41.88459,
          36.19837,
          38.17439,
          32.89865,
          31.94253,
          41.53493,
          36.09775,
          36.89461,
          41.30252,
          41.724,
          34.7294,
          42.88082,
          39.22316,
          41.06696,
          43.13986,
          39.90238,
          36.28187,
          35.39309,
          34.20062,
          42.94052,
          26.53617,
          29.53369,
          35.04242,
          26.68316,
          38.69542,
          41.93887,
          33.67566,
          40.49147,
          40.78839,
          29.99339,
          37.50517,
          37.36186,
          39.71733,
          39.29761,
          47.44898,
          39.04614,
          39.99799,
          38.94453,
          37.72129,
          42.94722,
          30.19453,
          27.97547,
          38.74769,
          41.41089,
          35.87764,
          29.64542,
          25.79325,
          32.73356,
          26.07258,
          44.88055,
          32.84711,
          33.43417,
          36.08036,
          36.12448,
          39.87195,
          35.21401,
          28.42889,
          42.21206,
          39.1754,
          40.63975,
          41.78598,
          38.85208,
          39.85841,
          29.98047,
          37.619,
          33.94254,
          33.64044,
          42.36435
         ],
         "locationmode": "USA-states",
         "lon": [
          -165.44525,
          -76.49299,
          -131.71374,
          -94.71171,
          -75.72427,
          -96.38437,
          -107.89383,
          -103.64235,
          -106.46447,
          -119.11903,
          -121.14996,
          -91.48507,
          -94.49827,
          -92.40034,
          -80.17622,
          -79.4048,
          -106.9177,
          -122.8735,
          -82.55411,
          -82.27178,
          -108.52673,
          -75.4404,
          -111.15301,
          -156.04563,
          -76.89144,
          -74.57717,
          -119.05677,
          -84.35033,
          -97.65439,
          -159.33896,
          -88.77375,
          -107.75377,
          -88.48906,
          -98.90878,
          -84.58736,
          -103.05737,
          -117.53384,
          -86.23822,
          -134.57628,
          -64.97336,
          -111.67122,
          -74.81347,
          -124.10862,
          -92.19365,
          -110.73774,
          -86.39398,
          -104.53056,
          -93.2234,
          -89.66678,
          -94.36744,
          -90.70917,
          -98.6782,
          -81.59319,
          -79.97543,
          -100.74672,
          -118.15161,
          -106.08814,
          -93.99102,
          -98.49189,
          -82.54181,
          -91.25654,
          -94.02069,
          -99.46154,
          -92.21963,
          -83.80783,
          -120.64239,
          -89.67762,
          -76.7634,
          -84.07965,
          -123.21869,
          -119.71814,
          -96.75925,
          -96.67083,
          -85.20379,
          -92.03769,
          -97.23052,
          -89.07009,
          -100.49631,
          -92.49799,
          -88.51948,
          -86.77311,
          -92.54856,
          -114.29659,
          -73.15031,
          -85.58224,
          -81.11954,
          -98.41664,
          -88.24283,
          -97.42586,
          -99.6819,
          -78.92833,
          -86.5254,
          -81.44247,
          -95.40239,
          -78.45286,
          -116.50625,
          -116.22278,
          -86.31847,
          -85.55206,
          -88.91595,
          -87.18744,
          -83.74346,
          -96.36382,
          -96.81499,
          -98.23861,
          -104.70025,
          -88.27806,
          -73.80298,
          -87.53063,
          -149.99619,
          -156.43046,
          -91.98766,
          -119.84037,
          -106.37781,
          -119.76806,
          -121.84295,
          -101.70593,
          -73.10021,
          -82.21886,
          -70.30875,
          -81.20214,
          -76.10631,
          -90.50754,
          -93.8256,
          -88.12959,
          -71.43706,
          -97.50122,
          -96.7417,
          -110.94103,
          -89.69331,
          -97.8278,
          -101.82278,
          -91.14963,
          -84.60539,
          -90.07589,
          -85.19515,
          -83.99286,
          -93.38686,
          -157.92241,
          -86.75355,
          -117.60119,
          -77.67238,
          -66.00183,
          -97.43305,
          -81.68786,
          -106.60919,
          -122.5975,
          -91.71087,
          -95.88824,
          -85.736,
          -80.04051,
          -102.20191,
          -93.66068,
          -79.9373,
          -76.20122,
          -95.89417,
          -71.42822,
          -92.22425,
          -85.52277,
          -106.86885,
          -73.70757,
          -89.33751,
          -84.21938,
          -94.30681,
          -97.60073,
          -118.3585,
          -78.73217,
          -81.75517,
          -98.46978,
          -89.97667,
          -80.09559,
          -121.59077,
          -72.68323,
          -117.86822,
          -80.23287,
          -111.97777,
          -90.25803,
          -77.31967,
          -121.92901,
          -86.29438,
          -94.71391,
          -122.30931,
          -84.66217,
          -82.89188,
          -77.45581,
          -122.22072,
          -87.89658,
          -97.66987,
          -82.53325,
          -90.35999,
          -81.8494,
          -78.78747,
          -95.27889,
          -80.29056,
          -117.18966,
          -80.15275,
          -93.21692,
          -96.85177,
          -112.00806,
          -115.15233,
          -86.67818,
          -75.24114,
          -80.94313,
          -81.31603,
          -83.34884,
          -76.6682,
          -73.77893,
          -87.75242,
          -77.03772,
          -104.667,
          -95.33972,
          -122.37484,
          -118.40807,
          -84.42694,
          -71.00518
         ],
         "marker": {
          "color": "Teal",
          "line": {
           "color": "rgb(40,40,40)",
           "width": 0.2
          },
          "size": [
           2.7,
           2.7,
           2.8,
           2.8,
           2.8,
           2.9,
           2.9,
           2.9,
           2.9,
           2.9,
           3,
           3.3,
           3.3,
           3.5,
           3.6,
           3.6,
           3.7,
           3.9,
           3.9,
           3.9,
           3.9,
           3.9,
           3.9,
           4,
           4,
           4,
           4.2,
           4.2,
           4.3,
           4.4,
           4.4,
           4.4,
           4.5,
           4.6,
           4.7,
           4.8,
           4.9,
           4.9,
           4.9,
           4.9,
           5,
           5.1,
           5.1,
           5.2,
           5.4,
           5.4,
           5.5,
           5.6,
           5.6,
           5.8,
           5.8,
           5.9,
           5.9,
           5.9,
           6,
           6,
           6,
           6,
           6.1,
           6.1,
           6.3,
           6.3,
           6.4,
           6.4,
           6.5,
           6.5,
           6.5,
           6.6,
           6.7,
           6.7,
           6.7,
           6.8,
           6.8,
           7,
           7.3,
           7.3,
           7.6,
           7.7,
           7.9,
           8.3,
           8.3,
           8.6,
           8.8,
           8.9,
           9.2,
           9.4,
           9.4,
           9.6,
           9.7,
           9.7,
           9.8,
           9.9,
           10,
           10,
           10,
           10.1,
           10.1,
           10.1,
           10.2,
           10.4,
           10.8,
           10.9,
           10.9,
           11.1,
           11.1,
           11.6,
           11.7,
           11.8,
           12,
           12.4,
           12.6,
           12.6,
           12.7,
           13.2,
           13.3,
           13.4,
           13.4,
           13.5,
           13.8,
           13.8,
           14.5,
           14.6,
           14.7,
           15,
           15.1,
           15.1,
           15.1,
           15.4,
           15.4,
           15.5,
           15.6,
           16.2,
           16.3,
           17,
           17,
           17.1,
           17.2,
           17.4,
           17.4,
           18.1,
           18.2,
           18.5,
           19.1,
           19.5,
           21.1,
           21.2,
           21.2,
           22.4,
           23.1,
           23.1,
           23.4,
           25.1,
           25.5,
           25.6,
           26.3,
           26.3,
           26.7,
           26.7,
           27.6,
           27.6,
           27.9,
           28.4,
           29.1,
           29.6,
           30,
           31.5,
           31.7,
           32.6,
           33.1,
           34.5,
           35.4,
           35.8,
           36.2,
           38.6,
           38.8,
           39.5,
           41.1,
           42.3,
           43.8,
           44.1,
           44.3,
           45,
           50.8,
           53.8,
           55.5,
           57.3,
           57.7,
           57.8,
           62.4,
           64.7,
           73.4,
           74.1,
           77.4,
           78.3,
           78.5,
           79.4,
           80.8,
           85,
           90.2,
           93.6,
           106.6,
           107.4,
           108.1,
           111.8,
           127,
           153.3,
           192.2,
           195.9,
           202.7,
           212.3,
           213,
           214.8,
           216.4,
           255.7,
           265.4
          ],
          "sizemin": 1,
          "sizemode": "area"
         },
         "name": "100 - 315",
         "text": [
          "<br>STATE: AK<br>AIRPORT: OME<br>Cancelation Rate: 27",
          "<br>STATE: VA<br>AIRPORT: PHF<br>Cancelation Rate: 27",
          "<br>STATE: AK<br>AIRPORT: KTN<br>Cancelation Rate: 28",
          "<br>STATE: TX<br>AIRPORT: GGG<br>Cancelation Rate: 28",
          "<br>STATE: PA<br>AIRPORT: AVP<br>Cancelation Rate: 28",
          "<br>STATE: IA<br>AIRPORT: SUX<br>Cancelation Rate: 29",
          "<br>STATE: CO<br>AIRPORT: MTJ<br>Cancelation Rate: 29",
          "<br>STATE: ND<br>AIRPORT: ISN<br>Cancelation Rate: 29",
          "<br>STATE: WY<br>AIRPORT: CPR<br>Cancelation Rate: 29",
          "<br>STATE: WA<br>AIRPORT: PSC<br>Cancelation Rate: 29",
          "<br>STATE: OR<br>AIRPORT: RDM<br>Cancelation Rate: 30",
          "<br>STATE: WI<br>AIRPORT: EAU<br>Cancelation Rate: 33",
          "<br>STATE: MO<br>AIRPORT: JLN<br>Cancelation Rate: 33",
          "<br>STATE: IA<br>AIRPORT: ALO<br>Cancelation Rate: 35",
          "<br>STATE: PA<br>AIRPORT: ERI<br>Cancelation Rate: 36",
          "<br>STATE: PA<br>AIRPORT: LBE<br>Cancelation Rate: 36",
          "<br>STATE: CO<br>AIRPORT: EGE<br>Cancelation Rate: 37",
          "<br>STATE: OR<br>AIRPORT: MFR<br>Cancelation Rate: 39",
          "<br>STATE: FL<br>AIRPORT: SRQ<br>Cancelation Rate: 39",
          "<br>STATE: FL<br>AIRPORT: GNV<br>Cancelation Rate: 39",
          "<br>STATE: CO<br>AIRPORT: GJT<br>Cancelation Rate: 39",
          "<br>STATE: PA<br>AIRPORT: ABE<br>Cancelation Rate: 39",
          "<br>STATE: MT<br>AIRPORT: BZN<br>Cancelation Rate: 39",
          "<br>STATE: HI<br>AIRPORT: KOA<br>Cancelation Rate: 40",
          "<br>STATE: NY<br>AIRPORT: ELM<br>Cancelation Rate: 40",
          "<br>STATE: NJ<br>AIRPORT: ACY<br>Cancelation Rate: 40",
          "<br>STATE: CA<br>AIRPORT: BFL<br>Cancelation Rate: 42",
          "<br>STATE: FL<br>AIRPORT: TLH<br>Cancelation Rate: 42",
          "<br>STATE: TX<br>AIRPORT: HRL<br>Cancelation Rate: 43",
          "<br>STATE: HI<br>AIRPORT: LIH<br>Cancelation Rate: 44",
          "<br>STATE: KY<br>AIRPORT: PAH<br>Cancelation Rate: 44",
          "<br>STATE: CO<br>AIRPORT: DRO<br>Cancelation Rate: 44",
          "<br>STATE: MI<br>AIRPORT: CMX<br>Cancelation Rate: 45",
          "<br>STATE: ND<br>AIRPORT: DVL<br>Cancelation Rate: 46",
          "<br>STATE: MI<br>AIRPORT: LAN<br>Cancelation Rate: 47",
          "<br>STATE: SD<br>AIRPORT: RAP<br>Cancelation Rate: 48",
          "<br>STATE: WA<br>AIRPORT: GEG<br>Cancelation Rate: 49",
          "<br>STATE: MI<br>AIRPORT: MKG<br>Cancelation Rate: 49",
          "<br>STATE: AK<br>AIRPORT: JNU<br>Cancelation Rate: 49",
          "<br>STATE: VI<br>AIRPORT: STT<br>Cancelation Rate: 49",
          "<br>STATE: AZ<br>AIRPORT: FLG<br>Cancelation Rate: 50",
          "<br>STATE: NJ<br>AIRPORT: TTN<br>Cancelation Rate: 51",
          "<br>STATE: CA<br>AIRPORT: ACV<br>Cancelation Rate: 51",
          "<br>STATE: MN<br>AIRPORT: DLH<br>Cancelation Rate: 52",
          "<br>STATE: WY<br>AIRPORT: JAC<br>Cancelation Rate: 54",
          "<br>STATE: AL<br>AIRPORT: MGM<br>Cancelation Rate: 54",
          "<br>STATE: NM<br>AIRPORT: ROW<br>Cancelation Rate: 55",
          "<br>STATE: LA<br>AIRPORT: LCH<br>Cancelation Rate: 56",
          "<br>STATE: WI<br>AIRPORT: CWA<br>Cancelation Rate: 56",
          "<br>STATE: AR<br>AIRPORT: FSM<br>Cancelation Rate: 58",
          "<br>STATE: IA<br>AIRPORT: DBQ<br>Cancelation Rate: 58",
          "<br>STATE: ND<br>AIRPORT: JMS<br>Cancelation Rate: 59",
          "<br>STATE: WV<br>AIRPORT: CRW<br>Cancelation Rate: 59",
          "<br>STATE: VA<br>AIRPORT: ROA<br>Cancelation Rate: 59",
          "<br>STATE: ND<br>AIRPORT: BIS<br>Cancelation Rate: 60",
          "<br>STATE: CA<br>AIRPORT: LGB<br>Cancelation Rate: 60",
          "<br>STATE: NM<br>AIRPORT: SAF<br>Cancelation Rate: 60",
          "<br>STATE: AR<br>AIRPORT: TXK<br>Cancelation Rate: 60",
          "<br>STATE: TX<br>AIRPORT: SPS<br>Cancelation Rate: 61",
          "<br>STATE: NC<br>AIRPORT: AVL<br>Cancelation Rate: 61",
          "<br>STATE: WI<br>AIRPORT: LSE<br>Cancelation Rate: 63",
          "<br>STATE: TX<br>AIRPORT: BPT<br>Cancelation Rate: 63",
          "<br>STATE: TX<br>AIRPORT: LRD<br>Cancelation Rate: 64",
          "<br>STATE: MO<br>AIRPORT: COU<br>Cancelation Rate: 64",
          "<br>STATE: OH<br>AIRPORT: TOL<br>Cancelation Rate: 65",
          "<br>STATE: CA<br>AIRPORT: SBP<br>Cancelation Rate: 65",
          "<br>STATE: IL<br>AIRPORT: SPI<br>Cancelation Rate: 65",
          "<br>STATE: PA<br>AIRPORT: MDT<br>Cancelation Rate: 66",
          "<br>STATE: MI<br>AIRPORT: MBS<br>Cancelation Rate: 67",
          "<br>STATE: OR<br>AIRPORT: EUG<br>Cancelation Rate: 67",
          "<br>STATE: CA<br>AIRPORT: FAT<br>Cancelation Rate: 67",
          "<br>STATE: NE<br>AIRPORT: LNK<br>Cancelation Rate: 68",
          "<br>STATE: KS<br>AIRPORT: MHK<br>Cancelation Rate: 68",
          "<br>STATE: TN<br>AIRPORT: CHA<br>Cancelation Rate: 70",
          "<br>STATE: LA<br>AIRPORT: MLU<br>Cancelation Rate: 73",
          "<br>STATE: TX<br>AIRPORT: ACT<br>Cancelation Rate: 73",
          "<br>STATE: MS<br>AIRPORT: GPT<br>Cancelation Rate: 76",
          "<br>STATE: TX<br>AIRPORT: SJT<br>Cancelation Rate: 77",
          "<br>STATE: MN<br>AIRPORT: RST<br>Cancelation Rate: 79",
          "<br>STATE: WI<br>AIRPORT: ATW<br>Cancelation Rate: 83",
          "<br>STATE: AL<br>AIRPORT: HSV<br>Cancelation Rate: 83",
          "<br>STATE: LA<br>AIRPORT: AEX<br>Cancelation Rate: 86",
          "<br>STATE: ID<br>AIRPORT: SUN<br>Cancelation Rate: 88",
          "<br>STATE: VT<br>AIRPORT: BTV<br>Cancelation Rate: 89",
          "<br>STATE: MI<br>AIRPORT: TVC<br>Cancelation Rate: 92",
          "<br>STATE: SC<br>AIRPORT: CAE<br>Cancelation Rate: 94",
          "<br>STATE: OK<br>AIRPORT: LAW<br>Cancelation Rate: 94",
          "<br>STATE: AL<br>AIRPORT: MOB<br>Cancelation Rate: 96",
          "<br>STATE: TX<br>AIRPORT: BRO<br>Cancelation Rate: 97",
          "<br>STATE: TX<br>AIRPORT: ABI<br>Cancelation Rate: 97",
          "<br>STATE: SC<br>AIRPORT: MYR<br>Cancelation Rate: 98",
          "<br>STATE: FL<br>AIRPORT: VPS<br>Cancelation Rate: 99",
          "<br>STATE: OH<br>AIRPORT: CAK<br>Cancelation Rate: 100",
          "<br>STATE: TX<br>AIRPORT: TYR<br>Cancelation Rate: 100",
          "<br>STATE: VA<br>AIRPORT: CHO<br>Cancelation Rate: 100",
          "<br>STATE: CA<br>AIRPORT: PSP<br>Cancelation Rate: 101",
          "<br>STATE: ID<br>AIRPORT: BOI<br>Cancelation Rate: 101",
          "<br>STATE: IN<br>AIRPORT: SBN<br>Cancelation Rate: 101",
          "<br>STATE: MI<br>AIRPORT: AZO<br>Cancelation Rate: 102",
          "<br>STATE: IL<br>AIRPORT: BMI<br>Cancelation Rate: 104",
          "<br>STATE: FL<br>AIRPORT: PNS<br>Cancelation Rate: 108",
          "<br>STATE: MI<br>AIRPORT: FNT<br>Cancelation Rate: 109",
          "<br>STATE: TX<br>AIRPORT: CLL<br>Cancelation Rate: 109",
          "<br>STATE: ND<br>AIRPORT: FAR<br>Cancelation Rate: 111",
          "<br>STATE: TX<br>AIRPORT: MFE<br>Cancelation Rate: 111",
          "<br>STATE: CO<br>AIRPORT: COS<br>Cancelation Rate: 116",
          "<br>STATE: IL<br>AIRPORT: CMI<br>Cancelation Rate: 117",
          "<br>STATE: NY<br>AIRPORT: ALB<br>Cancelation Rate: 118",
          "<br>STATE: IN<br>AIRPORT: EVV<br>Cancelation Rate: 120",
          "<br>STATE: AK<br>AIRPORT: ANC<br>Cancelation Rate: 124",
          "<br>STATE: HI<br>AIRPORT: OGG<br>Cancelation Rate: 126",
          "<br>STATE: LA<br>AIRPORT: LFT<br>Cancelation Rate: 126",
          "<br>STATE: CA<br>AIRPORT: SBA<br>Cancelation Rate: 127",
          "<br>STATE: TX<br>AIRPORT: ELP<br>Cancelation Rate: 132",
          "<br>STATE: NV<br>AIRPORT: RNO<br>Cancelation Rate: 133",
          "<br>STATE: CA<br>AIRPORT: MRY<br>Cancelation Rate: 134",
          "<br>STATE: TX<br>AIRPORT: AMA<br>Cancelation Rate: 134",
          "<br>STATE: NY<br>AIRPORT: ISP<br>Cancelation Rate: 135",
          "<br>STATE: SC<br>AIRPORT: GSP<br>Cancelation Rate: 138",
          "<br>STATE: ME<br>AIRPORT: PWM<br>Cancelation Rate: 138",
          "<br>STATE: GA<br>AIRPORT: SAV<br>Cancelation Rate: 145",
          "<br>STATE: NY<br>AIRPORT: SYR<br>Cancelation Rate: 146",
          "<br>STATE: IL<br>AIRPORT: MLI<br>Cancelation Rate: 147",
          "<br>STATE: LA<br>AIRPORT: SHV<br>Cancelation Rate: 150",
          "<br>STATE: WI<br>AIRPORT: GRB<br>Cancelation Rate: 151",
          "<br>STATE: NH<br>AIRPORT: MHT<br>Cancelation Rate: 151",
          "<br>STATE: TX<br>AIRPORT: CRP<br>Cancelation Rate: 151",
          "<br>STATE: SD<br>AIRPORT: FSD<br>Cancelation Rate: 154",
          "<br>STATE: AZ<br>AIRPORT: TUS<br>Cancelation Rate: 154",
          "<br>STATE: IL<br>AIRPORT: PIA<br>Cancelation Rate: 155",
          "<br>STATE: TX<br>AIRPORT: GRK<br>Cancelation Rate: 156",
          "<br>STATE: TX<br>AIRPORT: LBB<br>Cancelation Rate: 162",
          "<br>STATE: LA<br>AIRPORT: BTR<br>Cancelation Rate: 163",
          "<br>STATE: KY<br>AIRPORT: LEX<br>Cancelation Rate: 170",
          "<br>STATE: MS<br>AIRPORT: JAN<br>Cancelation Rate: 170",
          "<br>STATE: IN<br>AIRPORT: FWA<br>Cancelation Rate: 171",
          "<br>STATE: TN<br>AIRPORT: TYS<br>Cancelation Rate: 172",
          "<br>STATE: MO<br>AIRPORT: SGF<br>Cancelation Rate: 174",
          "<br>STATE: HI<br>AIRPORT: HNL<br>Cancelation Rate: 174",
          "<br>STATE: AL<br>AIRPORT: BHM<br>Cancelation Rate: 181",
          "<br>STATE: CA<br>AIRPORT: ONT<br>Cancelation Rate: 182",
          "<br>STATE: NY<br>AIRPORT: ROC<br>Cancelation Rate: 185",
          "<br>STATE: PR<br>AIRPORT: SJU<br>Cancelation Rate: 191",
          "<br>STATE: KS<br>AIRPORT: ICT<br>Cancelation Rate: 195",
          "<br>STATE: FL<br>AIRPORT: JAX<br>Cancelation Rate: 211",
          "<br>STATE: NM<br>AIRPORT: ABQ<br>Cancelation Rate: 212",
          "<br>STATE: OR<br>AIRPORT: PDX<br>Cancelation Rate: 212",
          "<br>STATE: IA<br>AIRPORT: CID<br>Cancelation Rate: 224",
          "<br>STATE: OK<br>AIRPORT: TUL<br>Cancelation Rate: 231",
          "<br>STATE: KY<br>AIRPORT: SDF<br>Cancelation Rate: 231",
          "<br>STATE: SC<br>AIRPORT: CHS<br>Cancelation Rate: 234",
          "<br>STATE: TX<br>AIRPORT: MAF<br>Cancelation Rate: 251",
          "<br>STATE: IA<br>AIRPORT: DSM<br>Cancelation Rate: 255",
          "<br>STATE: NC<br>AIRPORT: GSO<br>Cancelation Rate: 256",
          "<br>STATE: VA<br>AIRPORT: ORF<br>Cancelation Rate: 263",
          "<br>STATE: NE<br>AIRPORT: OMA<br>Cancelation Rate: 263",
          "<br>STATE: RI<br>AIRPORT: PVD<br>Cancelation Rate: 267",
          "<br>STATE: AR<br>AIRPORT: LIT<br>Cancelation Rate: 267",
          "<br>STATE: MI<br>AIRPORT: GRR<br>Cancelation Rate: 276",
          "<br>STATE: CO<br>AIRPORT: ASE<br>Cancelation Rate: 276",
          "<br>STATE: NY<br>AIRPORT: HPN<br>Cancelation Rate: 279",
          "<br>STATE: WI<br>AIRPORT: MSN<br>Cancelation Rate: 284",
          "<br>STATE: OH<br>AIRPORT: DAY<br>Cancelation Rate: 291",
          "<br>STATE: AR<br>AIRPORT: XNA<br>Cancelation Rate: 296",
          "<br>STATE: OK<br>AIRPORT: OKC<br>Cancelation Rate: 300",
          "<br>STATE: CA<br>AIRPORT: BUR<br>Cancelation Rate: 315",
          "<br>STATE: NY<br>AIRPORT: BUF<br>Cancelation Rate: 317",
          "<br>STATE: FL<br>AIRPORT: RSW<br>Cancelation Rate: 326",
          "<br>STATE: TX<br>AIRPORT: SAT<br>Cancelation Rate: 331",
          "<br>STATE: TN<br>AIRPORT: MEM<br>Cancelation Rate: 345",
          "<br>STATE: FL<br>AIRPORT: PBI<br>Cancelation Rate: 354",
          "<br>STATE: CA<br>AIRPORT: SMF<br>Cancelation Rate: 358",
          "<br>STATE: CT<br>AIRPORT: BDL<br>Cancelation Rate: 362",
          "<br>STATE: CA<br>AIRPORT: SNA<br>Cancelation Rate: 386",
          "<br>STATE: PA<br>AIRPORT: PIT<br>Cancelation Rate: 388",
          "<br>STATE: UT<br>AIRPORT: SLC<br>Cancelation Rate: 395",
          "<br>STATE: LA<br>AIRPORT: MSY<br>Cancelation Rate: 411",
          "<br>STATE: VA<br>AIRPORT: RIC<br>Cancelation Rate: 423",
          "<br>STATE: CA<br>AIRPORT: SJC<br>Cancelation Rate: 438",
          "<br>STATE: IN<br>AIRPORT: IND<br>Cancelation Rate: 441",
          "<br>STATE: MO<br>AIRPORT: MCI<br>Cancelation Rate: 443",
          "<br>STATE: WA<br>AIRPORT: SEA<br>Cancelation Rate: 450",
          "<br>STATE: KY<br>AIRPORT: CVG<br>Cancelation Rate: 508",
          "<br>STATE: OH<br>AIRPORT: CMH<br>Cancelation Rate: 538",
          "<br>STATE: VA<br>AIRPORT: IAD<br>Cancelation Rate: 555",
          "<br>STATE: CA<br>AIRPORT: OAK<br>Cancelation Rate: 573",
          "<br>STATE: WI<br>AIRPORT: MKE<br>Cancelation Rate: 577",
          "<br>STATE: TX<br>AIRPORT: AUS<br>Cancelation Rate: 578",
          "<br>STATE: FL<br>AIRPORT: TPA<br>Cancelation Rate: 624",
          "<br>STATE: MO<br>AIRPORT: STL<br>Cancelation Rate: 647",
          "<br>STATE: OH<br>AIRPORT: CLE<br>Cancelation Rate: 734",
          "<br>STATE: NC<br>AIRPORT: RDU<br>Cancelation Rate: 741",
          "<br>STATE: TX<br>AIRPORT: HOU<br>Cancelation Rate: 774",
          "<br>STATE: FL<br>AIRPORT: MIA<br>Cancelation Rate: 783",
          "<br>STATE: CA<br>AIRPORT: SAN<br>Cancelation Rate: 785",
          "<br>STATE: FL<br>AIRPORT: FLL<br>Cancelation Rate: 794",
          "<br>STATE: MN<br>AIRPORT: MSP<br>Cancelation Rate: 808",
          "<br>STATE: TX<br>AIRPORT: DAL<br>Cancelation Rate: 850",
          "<br>STATE: AZ<br>AIRPORT: PHX<br>Cancelation Rate: 902",
          "<br>STATE: NV<br>AIRPORT: LAS<br>Cancelation Rate: 936",
          "<br>STATE: TN<br>AIRPORT: BNA<br>Cancelation Rate: 1066",
          "<br>STATE: PA<br>AIRPORT: PHL<br>Cancelation Rate: 1074",
          "<br>STATE: NC<br>AIRPORT: CLT<br>Cancelation Rate: 1081",
          "<br>STATE: FL<br>AIRPORT: MCO<br>Cancelation Rate: 1118",
          "<br>STATE: MI<br>AIRPORT: DTW<br>Cancelation Rate: 1270",
          "<br>STATE: MD<br>AIRPORT: BWI<br>Cancelation Rate: 1533",
          "<br>STATE: NY<br>AIRPORT: JFK<br>Cancelation Rate: 1922",
          "<br>STATE: IL<br>AIRPORT: MDW<br>Cancelation Rate: 1959",
          "<br>STATE: VA<br>AIRPORT: DCA<br>Cancelation Rate: 2027",
          "<br>STATE: CO<br>AIRPORT: DEN<br>Cancelation Rate: 2123",
          "<br>STATE: TX<br>AIRPORT: IAH<br>Cancelation Rate: 2130",
          "<br>STATE: CA<br>AIRPORT: SFO<br>Cancelation Rate: 2148",
          "<br>STATE: CA<br>AIRPORT: LAX<br>Cancelation Rate: 2164",
          "<br>STATE: GA<br>AIRPORT: ATL<br>Cancelation Rate: 2557",
          "<br>STATE: MA<br>AIRPORT: BOS<br>Cancelation Rate: 2654"
         ],
         "type": "scattergeo"
        },
        {
         "lat": [
          40.6925,
          40.77724,
          32.89595,
          41.9796
         ],
         "locationmode": "USA-states",
         "lon": [
          -74.16866,
          -73.87261,
          -97.0372,
          -87.90446
         ],
         "marker": {
          "color": "crimson",
          "line": {
           "color": "rgb(40,40,40)",
           "width": 0.2
          },
          "size": [
           311,
           453.1,
           625.4,
           854.8
          ],
          "sizemin": 1,
          "sizemode": "area"
         },
         "name": "315 - 8548",
         "text": [
          "<br>STATE: NJ<br>AIRPORT: EWR<br>Cancelation Rate: 3110",
          "<br>STATE: NY<br>AIRPORT: LGA<br>Cancelation Rate: 4531",
          "<br>STATE: TX<br>AIRPORT: DFW<br>Cancelation Rate: 6254",
          "<br>STATE: IL<br>AIRPORT: ORD<br>Cancelation Rate: 8548"
         ],
         "type": "scattergeo"
        }
       ],
       "layout": {
        "geo": {
         "landcolor": "rgb(217, 217, 217)",
         "scope": "usa"
        },
        "showlegend": true,
        "template": {
         "data": {
          "bar": [
           {
            "error_x": {
             "color": "#2a3f5f"
            },
            "error_y": {
             "color": "#2a3f5f"
            },
            "marker": {
             "line": {
              "color": "#E5ECF6",
              "width": 0.5
             },
             "pattern": {
              "fillmode": "overlay",
              "size": 10,
              "solidity": 0.2
             }
            },
            "type": "bar"
           }
          ],
          "barpolar": [
           {
            "marker": {
             "line": {
              "color": "#E5ECF6",
              "width": 0.5
             },
             "pattern": {
              "fillmode": "overlay",
              "size": 10,
              "solidity": 0.2
             }
            },
            "type": "barpolar"
           }
          ],
          "carpet": [
           {
            "aaxis": {
             "endlinecolor": "#2a3f5f",
             "gridcolor": "white",
             "linecolor": "white",
             "minorgridcolor": "white",
             "startlinecolor": "#2a3f5f"
            },
            "baxis": {
             "endlinecolor": "#2a3f5f",
             "gridcolor": "white",
             "linecolor": "white",
             "minorgridcolor": "white",
             "startlinecolor": "#2a3f5f"
            },
            "type": "carpet"
           }
          ],
          "choropleth": [
           {
            "colorbar": {
             "outlinewidth": 0,
             "ticks": ""
            },
            "type": "choropleth"
           }
          ],
          "contour": [
           {
            "colorbar": {
             "outlinewidth": 0,
             "ticks": ""
            },
            "colorscale": [
             [
              0,
              "#0d0887"
             ],
             [
              0.1111111111111111,
              "#46039f"
             ],
             [
              0.2222222222222222,
              "#7201a8"
             ],
             [
              0.3333333333333333,
              "#9c179e"
             ],
             [
              0.4444444444444444,
              "#bd3786"
             ],
             [
              0.5555555555555556,
              "#d8576b"
             ],
             [
              0.6666666666666666,
              "#ed7953"
             ],
             [
              0.7777777777777778,
              "#fb9f3a"
             ],
             [
              0.8888888888888888,
              "#fdca26"
             ],
             [
              1,
              "#f0f921"
             ]
            ],
            "type": "contour"
           }
          ],
          "contourcarpet": [
           {
            "colorbar": {
             "outlinewidth": 0,
             "ticks": ""
            },
            "type": "contourcarpet"
           }
          ],
          "heatmap": [
           {
            "colorbar": {
             "outlinewidth": 0,
             "ticks": ""
            },
            "colorscale": [
             [
              0,
              "#0d0887"
             ],
             [
              0.1111111111111111,
              "#46039f"
             ],
             [
              0.2222222222222222,
              "#7201a8"
             ],
             [
              0.3333333333333333,
              "#9c179e"
             ],
             [
              0.4444444444444444,
              "#bd3786"
             ],
             [
              0.5555555555555556,
              "#d8576b"
             ],
             [
              0.6666666666666666,
              "#ed7953"
             ],
             [
              0.7777777777777778,
              "#fb9f3a"
             ],
             [
              0.8888888888888888,
              "#fdca26"
             ],
             [
              1,
              "#f0f921"
             ]
            ],
            "type": "heatmap"
           }
          ],
          "heatmapgl": [
           {
            "colorbar": {
             "outlinewidth": 0,
             "ticks": ""
            },
            "colorscale": [
             [
              0,
              "#0d0887"
             ],
             [
              0.1111111111111111,
              "#46039f"
             ],
             [
              0.2222222222222222,
              "#7201a8"
             ],
             [
              0.3333333333333333,
              "#9c179e"
             ],
             [
              0.4444444444444444,
              "#bd3786"
             ],
             [
              0.5555555555555556,
              "#d8576b"
             ],
             [
              0.6666666666666666,
              "#ed7953"
             ],
             [
              0.7777777777777778,
              "#fb9f3a"
             ],
             [
              0.8888888888888888,
              "#fdca26"
             ],
             [
              1,
              "#f0f921"
             ]
            ],
            "type": "heatmapgl"
           }
          ],
          "histogram": [
           {
            "marker": {
             "pattern": {
              "fillmode": "overlay",
              "size": 10,
              "solidity": 0.2
             }
            },
            "type": "histogram"
           }
          ],
          "histogram2d": [
           {
            "colorbar": {
             "outlinewidth": 0,
             "ticks": ""
            },
            "colorscale": [
             [
              0,
              "#0d0887"
             ],
             [
              0.1111111111111111,
              "#46039f"
             ],
             [
              0.2222222222222222,
              "#7201a8"
             ],
             [
              0.3333333333333333,
              "#9c179e"
             ],
             [
              0.4444444444444444,
              "#bd3786"
             ],
             [
              0.5555555555555556,
              "#d8576b"
             ],
             [
              0.6666666666666666,
              "#ed7953"
             ],
             [
              0.7777777777777778,
              "#fb9f3a"
             ],
             [
              0.8888888888888888,
              "#fdca26"
             ],
             [
              1,
              "#f0f921"
             ]
            ],
            "type": "histogram2d"
           }
          ],
          "histogram2dcontour": [
           {
            "colorbar": {
             "outlinewidth": 0,
             "ticks": ""
            },
            "colorscale": [
             [
              0,
              "#0d0887"
             ],
             [
              0.1111111111111111,
              "#46039f"
             ],
             [
              0.2222222222222222,
              "#7201a8"
             ],
             [
              0.3333333333333333,
              "#9c179e"
             ],
             [
              0.4444444444444444,
              "#bd3786"
             ],
             [
              0.5555555555555556,
              "#d8576b"
             ],
             [
              0.6666666666666666,
              "#ed7953"
             ],
             [
              0.7777777777777778,
              "#fb9f3a"
             ],
             [
              0.8888888888888888,
              "#fdca26"
             ],
             [
              1,
              "#f0f921"
             ]
            ],
            "type": "histogram2dcontour"
           }
          ],
          "mesh3d": [
           {
            "colorbar": {
             "outlinewidth": 0,
             "ticks": ""
            },
            "type": "mesh3d"
           }
          ],
          "parcoords": [
           {
            "line": {
             "colorbar": {
              "outlinewidth": 0,
              "ticks": ""
             }
            },
            "type": "parcoords"
           }
          ],
          "pie": [
           {
            "automargin": true,
            "type": "pie"
           }
          ],
          "scatter": [
           {
            "fillpattern": {
             "fillmode": "overlay",
             "size": 10,
             "solidity": 0.2
            },
            "type": "scatter"
           }
          ],
          "scatter3d": [
           {
            "line": {
             "colorbar": {
              "outlinewidth": 0,
              "ticks": ""
             }
            },
            "marker": {
             "colorbar": {
              "outlinewidth": 0,
              "ticks": ""
             }
            },
            "type": "scatter3d"
           }
          ],
          "scattercarpet": [
           {
            "marker": {
             "colorbar": {
              "outlinewidth": 0,
              "ticks": ""
             }
            },
            "type": "scattercarpet"
           }
          ],
          "scattergeo": [
           {
            "marker": {
             "colorbar": {
              "outlinewidth": 0,
              "ticks": ""
             }
            },
            "type": "scattergeo"
           }
          ],
          "scattergl": [
           {
            "marker": {
             "colorbar": {
              "outlinewidth": 0,
              "ticks": ""
             }
            },
            "type": "scattergl"
           }
          ],
          "scattermapbox": [
           {
            "marker": {
             "colorbar": {
              "outlinewidth": 0,
              "ticks": ""
             }
            },
            "type": "scattermapbox"
           }
          ],
          "scatterpolar": [
           {
            "marker": {
             "colorbar": {
              "outlinewidth": 0,
              "ticks": ""
             }
            },
            "type": "scatterpolar"
           }
          ],
          "scatterpolargl": [
           {
            "marker": {
             "colorbar": {
              "outlinewidth": 0,
              "ticks": ""
             }
            },
            "type": "scatterpolargl"
           }
          ],
          "scatterternary": [
           {
            "marker": {
             "colorbar": {
              "outlinewidth": 0,
              "ticks": ""
             }
            },
            "type": "scatterternary"
           }
          ],
          "surface": [
           {
            "colorbar": {
             "outlinewidth": 0,
             "ticks": ""
            },
            "colorscale": [
             [
              0,
              "#0d0887"
             ],
             [
              0.1111111111111111,
              "#46039f"
             ],
             [
              0.2222222222222222,
              "#7201a8"
             ],
             [
              0.3333333333333333,
              "#9c179e"
             ],
             [
              0.4444444444444444,
              "#bd3786"
             ],
             [
              0.5555555555555556,
              "#d8576b"
             ],
             [
              0.6666666666666666,
              "#ed7953"
             ],
             [
              0.7777777777777778,
              "#fb9f3a"
             ],
             [
              0.8888888888888888,
              "#fdca26"
             ],
             [
              1,
              "#f0f921"
             ]
            ],
            "type": "surface"
           }
          ],
          "table": [
           {
            "cells": {
             "fill": {
              "color": "#EBF0F8"
             },
             "line": {
              "color": "white"
             }
            },
            "header": {
             "fill": {
              "color": "#C8D4E3"
             },
             "line": {
              "color": "white"
             }
            },
            "type": "table"
           }
          ]
         },
         "layout": {
          "annotationdefaults": {
           "arrowcolor": "#2a3f5f",
           "arrowhead": 0,
           "arrowwidth": 1
          },
          "autotypenumbers": "strict",
          "coloraxis": {
           "colorbar": {
            "outlinewidth": 0,
            "ticks": ""
           }
          },
          "colorscale": {
           "diverging": [
            [
             0,
             "#8e0152"
            ],
            [
             0.1,
             "#c51b7d"
            ],
            [
             0.2,
             "#de77ae"
            ],
            [
             0.3,
             "#f1b6da"
            ],
            [
             0.4,
             "#fde0ef"
            ],
            [
             0.5,
             "#f7f7f7"
            ],
            [
             0.6,
             "#e6f5d0"
            ],
            [
             0.7,
             "#b8e186"
            ],
            [
             0.8,
             "#7fbc41"
            ],
            [
             0.9,
             "#4d9221"
            ],
            [
             1,
             "#276419"
            ]
           ],
           "sequential": [
            [
             0,
             "#0d0887"
            ],
            [
             0.1111111111111111,
             "#46039f"
            ],
            [
             0.2222222222222222,
             "#7201a8"
            ],
            [
             0.3333333333333333,
             "#9c179e"
            ],
            [
             0.4444444444444444,
             "#bd3786"
            ],
            [
             0.5555555555555556,
             "#d8576b"
            ],
            [
             0.6666666666666666,
             "#ed7953"
            ],
            [
             0.7777777777777778,
             "#fb9f3a"
            ],
            [
             0.8888888888888888,
             "#fdca26"
            ],
            [
             1,
             "#f0f921"
            ]
           ],
           "sequentialminus": [
            [
             0,
             "#0d0887"
            ],
            [
             0.1111111111111111,
             "#46039f"
            ],
            [
             0.2222222222222222,
             "#7201a8"
            ],
            [
             0.3333333333333333,
             "#9c179e"
            ],
            [
             0.4444444444444444,
             "#bd3786"
            ],
            [
             0.5555555555555556,
             "#d8576b"
            ],
            [
             0.6666666666666666,
             "#ed7953"
            ],
            [
             0.7777777777777778,
             "#fb9f3a"
            ],
            [
             0.8888888888888888,
             "#fdca26"
            ],
            [
             1,
             "#f0f921"
            ]
           ]
          },
          "colorway": [
           "#636efa",
           "#EF553B",
           "#00cc96",
           "#ab63fa",
           "#FFA15A",
           "#19d3f3",
           "#FF6692",
           "#B6E880",
           "#FF97FF",
           "#FECB52"
          ],
          "font": {
           "color": "#2a3f5f"
          },
          "geo": {
           "bgcolor": "white",
           "lakecolor": "white",
           "landcolor": "#E5ECF6",
           "showlakes": true,
           "showland": true,
           "subunitcolor": "white"
          },
          "hoverlabel": {
           "align": "left"
          },
          "hovermode": "closest",
          "mapbox": {
           "style": "light"
          },
          "paper_bgcolor": "white",
          "plot_bgcolor": "#E5ECF6",
          "polar": {
           "angularaxis": {
            "gridcolor": "white",
            "linecolor": "white",
            "ticks": ""
           },
           "bgcolor": "#E5ECF6",
           "radialaxis": {
            "gridcolor": "white",
            "linecolor": "white",
            "ticks": ""
           }
          },
          "scene": {
           "xaxis": {
            "backgroundcolor": "#E5ECF6",
            "gridcolor": "white",
            "gridwidth": 2,
            "linecolor": "white",
            "showbackground": true,
            "ticks": "",
            "zerolinecolor": "white"
           },
           "yaxis": {
            "backgroundcolor": "#E5ECF6",
            "gridcolor": "white",
            "gridwidth": 2,
            "linecolor": "white",
            "showbackground": true,
            "ticks": "",
            "zerolinecolor": "white"
           },
           "zaxis": {
            "backgroundcolor": "#E5ECF6",
            "gridcolor": "white",
            "gridwidth": 2,
            "linecolor": "white",
            "showbackground": true,
            "ticks": "",
            "zerolinecolor": "white"
           }
          },
          "shapedefaults": {
           "line": {
            "color": "#2a3f5f"
           }
          },
          "ternary": {
           "aaxis": {
            "gridcolor": "white",
            "linecolor": "white",
            "ticks": ""
           },
           "baxis": {
            "gridcolor": "white",
            "linecolor": "white",
            "ticks": ""
           },
           "bgcolor": "#E5ECF6",
           "caxis": {
            "gridcolor": "white",
            "linecolor": "white",
            "ticks": ""
           }
          },
          "title": {
           "x": 0.05
          },
          "xaxis": {
           "automargin": true,
           "gridcolor": "white",
           "linecolor": "white",
           "ticks": "",
           "title": {
            "standoff": 15
           },
           "zerolinecolor": "white",
           "zerolinewidth": 2
          },
          "yaxis": {
           "automargin": true,
           "gridcolor": "white",
           "linecolor": "white",
           "ticks": "",
           "title": {
            "standoff": 15
           },
           "zerolinecolor": "white",
           "zerolinewidth": 2
          }
         }
        },
        "title": {
         "text": "Airports / Cities that have the most Cancellations frequency<br>(Click legend to toggle traces)",
         "x": 0.5
        }
       }
      }
     },
     "metadata": {},
     "output_type": "display_data"
    }
   ],
   "source": [
    "\n",
    "df_state_cancel['text'] = '<br>STATE: '+ df_state_cancel['STATE_ORG'] + '<br>AIRPORT: ' + (df_state_cancel['AIRPORT_CODE_ORG'])+ '<br>Cancelation Rate: ' + (df_state_cancel['CANCELLED']).astype(str)\n",
    "limits = [(0,50),(50,100),(100,315), (315,8548)]\n",
    "colors = [\"MidnightBlue\", \"Gold\",\"Teal\", \"crimson\"]\n",
    "cities = []\n",
    "scale = 10\n",
    "\n",
    "\n",
    "#fig.data = []\n",
    "\n",
    "fig = go.Figure()\n",
    "\n",
    "for i in range(len(limits)):\n",
    "    lim = limits[i]\n",
    "    df_sub = df_state_cancel[lim[0]:lim[1]]\n",
    "    fig.add_trace(go.Scattergeo(\n",
    "        locationmode = 'USA-states',\n",
    "        lon = df_sub['LONGITUDE_ORG'],\n",
    "        lat = df_sub['LATITUDE_ORG'],\n",
    "        text = df_sub['text'],\n",
    "        marker = dict(\n",
    "            size = df_sub['CANCELLED']/scale,\n",
    "            color = colors[i],\n",
    "            line_color='rgb(40,40,40)',\n",
    "            line_width=0.2,\n",
    "            sizemode = 'area',\n",
    "            sizemin=1),\n",
    "        name = '{0} - {1}'.format(lim[0],lim[1])))\n",
    "\n",
    "\n",
    "\n",
    "fig.update_layout(\n",
    "        title_text = 'Airports / Cities that have the most Cancellations frequency<br>(Click legend to toggle traces)',\n",
    "        title_x=0.5,\n",
    "        showlegend = True,\n",
    "        geo = dict(\n",
    "            scope = 'usa',\n",
    "            landcolor = 'rgb(217, 217, 217)',\n",
    "        )\n",
    "    )\n",
    "\n",
    "\n",
    "fig.show()"
   ]
  },
  {
   "attachments": {},
   "cell_type": "markdown",
   "id": "011ed528",
   "metadata": {},
   "source": [
    "### Reflection \n",
    "> After visualizing this Bubble Map, we can see the most cancellations by specific airlines/cities/states. What can we tell about ########################\n"
   ]
  },
  {
   "cell_type": "code",
   "execution_count": 20,
   "id": "c905c79f",
   "metadata": {},
   "outputs": [],
   "source": [
    "#"
   ]
  },
  {
   "cell_type": "code",
   "execution_count": null,
   "id": "6dfb7c42",
   "metadata": {},
   "outputs": [],
   "source": []
  },
  {
   "cell_type": "code",
   "execution_count": null,
   "id": "fc1362d1",
   "metadata": {},
   "outputs": [],
   "source": []
  },
  {
   "attachments": {},
   "cell_type": "markdown",
   "id": "8a0e7b5b",
   "metadata": {},
   "source": [
    "# What day of the week had the most cancellations and what was the cause?"
   ]
  },
  {
   "attachments": {},
   "cell_type": "markdown",
   "id": "91b6011e",
   "metadata": {},
   "source": [
    "## Flight Cancellations rate throughout the week\n"
   ]
  },
  {
   "cell_type": "code",
   "execution_count": 21,
   "id": "ef5ff14b",
   "metadata": {},
   "outputs": [
    {
     "data": {
      "text/html": [
       "<div>\n",
       "<style scoped>\n",
       "    .dataframe tbody tr th:only-of-type {\n",
       "        vertical-align: middle;\n",
       "    }\n",
       "\n",
       "    .dataframe tbody tr th {\n",
       "        vertical-align: top;\n",
       "    }\n",
       "\n",
       "    .dataframe thead th {\n",
       "        text-align: right;\n",
       "    }\n",
       "</style>\n",
       "<table border=\"1\" class=\"dataframe\">\n",
       "  <thead>\n",
       "    <tr style=\"text-align: right;\">\n",
       "      <th></th>\n",
       "      <th>DAY_OF_WEEK</th>\n",
       "      <th>CANCELLATION_REASON</th>\n",
       "      <th>CANCELLED</th>\n",
       "    </tr>\n",
       "  </thead>\n",
       "  <tbody>\n",
       "    <tr>\n",
       "      <th>0</th>\n",
       "      <td>1</td>\n",
       "      <td>Airline/Carrier</td>\n",
       "      <td>4307</td>\n",
       "    </tr>\n",
       "    <tr>\n",
       "      <th>1</th>\n",
       "      <td>1</td>\n",
       "      <td>Weather</td>\n",
       "      <td>12690</td>\n",
       "    </tr>\n",
       "    <tr>\n",
       "      <th>2</th>\n",
       "      <td>1</td>\n",
       "      <td>Air System</td>\n",
       "      <td>3925</td>\n",
       "    </tr>\n",
       "    <tr>\n",
       "      <th>3</th>\n",
       "      <td>1</td>\n",
       "      <td>Security</td>\n",
       "      <td>4</td>\n",
       "    </tr>\n",
       "    <tr>\n",
       "      <th>4</th>\n",
       "      <td>2</td>\n",
       "      <td>Airline/Carrier</td>\n",
       "      <td>4279</td>\n",
       "    </tr>\n",
       "    <tr>\n",
       "      <th>5</th>\n",
       "      <td>2</td>\n",
       "      <td>Weather</td>\n",
       "      <td>8367</td>\n",
       "    </tr>\n",
       "    <tr>\n",
       "      <th>6</th>\n",
       "      <td>2</td>\n",
       "      <td>Air System</td>\n",
       "      <td>2315</td>\n",
       "    </tr>\n",
       "    <tr>\n",
       "      <th>7</th>\n",
       "      <td>2</td>\n",
       "      <td>Security</td>\n",
       "      <td>4</td>\n",
       "    </tr>\n",
       "    <tr>\n",
       "      <th>8</th>\n",
       "      <td>3</td>\n",
       "      <td>Airline/Carrier</td>\n",
       "      <td>3696</td>\n",
       "    </tr>\n",
       "    <tr>\n",
       "      <th>9</th>\n",
       "      <td>3</td>\n",
       "      <td>Weather</td>\n",
       "      <td>4959</td>\n",
       "    </tr>\n",
       "    <tr>\n",
       "      <th>10</th>\n",
       "      <td>3</td>\n",
       "      <td>Air System</td>\n",
       "      <td>1809</td>\n",
       "    </tr>\n",
       "    <tr>\n",
       "      <th>11</th>\n",
       "      <td>3</td>\n",
       "      <td>Security</td>\n",
       "      <td>8</td>\n",
       "    </tr>\n",
       "    <tr>\n",
       "      <th>12</th>\n",
       "      <td>4</td>\n",
       "      <td>Air System</td>\n",
       "      <td>2778</td>\n",
       "    </tr>\n",
       "    <tr>\n",
       "      <th>13</th>\n",
       "      <td>4</td>\n",
       "      <td>Airline/Carrier</td>\n",
       "      <td>3428</td>\n",
       "    </tr>\n",
       "    <tr>\n",
       "      <th>14</th>\n",
       "      <td>4</td>\n",
       "      <td>Weather</td>\n",
       "      <td>5790</td>\n",
       "    </tr>\n",
       "    <tr>\n",
       "      <th>15</th>\n",
       "      <td>5</td>\n",
       "      <td>Airline/Carrier</td>\n",
       "      <td>3127</td>\n",
       "    </tr>\n",
       "    <tr>\n",
       "      <th>16</th>\n",
       "      <td>5</td>\n",
       "      <td>Weather</td>\n",
       "      <td>3292</td>\n",
       "    </tr>\n",
       "    <tr>\n",
       "      <th>17</th>\n",
       "      <td>5</td>\n",
       "      <td>Air System</td>\n",
       "      <td>1257</td>\n",
       "    </tr>\n",
       "    <tr>\n",
       "      <th>18</th>\n",
       "      <td>5</td>\n",
       "      <td>Security</td>\n",
       "      <td>5</td>\n",
       "    </tr>\n",
       "    <tr>\n",
       "      <th>19</th>\n",
       "      <td>6</td>\n",
       "      <td>Airline/Carrier</td>\n",
       "      <td>2510</td>\n",
       "    </tr>\n",
       "    <tr>\n",
       "      <th>20</th>\n",
       "      <td>6</td>\n",
       "      <td>Weather</td>\n",
       "      <td>4598</td>\n",
       "    </tr>\n",
       "    <tr>\n",
       "      <th>21</th>\n",
       "      <td>6</td>\n",
       "      <td>Air System</td>\n",
       "      <td>1261</td>\n",
       "    </tr>\n",
       "    <tr>\n",
       "      <th>22</th>\n",
       "      <td>6</td>\n",
       "      <td>Security</td>\n",
       "      <td>1</td>\n",
       "    </tr>\n",
       "    <tr>\n",
       "      <th>23</th>\n",
       "      <td>7</td>\n",
       "      <td>Weather</td>\n",
       "      <td>8178</td>\n",
       "    </tr>\n",
       "    <tr>\n",
       "      <th>24</th>\n",
       "      <td>7</td>\n",
       "      <td>Airline/Carrier</td>\n",
       "      <td>2962</td>\n",
       "    </tr>\n",
       "  </tbody>\n",
       "</table>\n",
       "</div>"
      ],
      "text/plain": [
       "   DAY_OF_WEEK CANCELLATION_REASON  CANCELLED\n",
       "0            1     Airline/Carrier       4307\n",
       "1            1             Weather      12690\n",
       "2            1          Air System       3925\n",
       "3            1            Security          4\n",
       "4            2     Airline/Carrier       4279\n",
       "5            2             Weather       8367\n",
       "6            2          Air System       2315\n",
       "7            2            Security          4\n",
       "8            3     Airline/Carrier       3696\n",
       "9            3             Weather       4959\n",
       "10           3          Air System       1809\n",
       "11           3            Security          8\n",
       "12           4          Air System       2778\n",
       "13           4     Airline/Carrier       3428\n",
       "14           4             Weather       5790\n",
       "15           5     Airline/Carrier       3127\n",
       "16           5             Weather       3292\n",
       "17           5          Air System       1257\n",
       "18           5            Security          5\n",
       "19           6     Airline/Carrier       2510\n",
       "20           6             Weather       4598\n",
       "21           6          Air System       1261\n",
       "22           6            Security          1\n",
       "23           7             Weather       8178\n",
       "24           7     Airline/Carrier       2962"
      ]
     },
     "execution_count": 21,
     "metadata": {},
     "output_type": "execute_result"
    }
   ],
   "source": [
    "DAY_Cancel = df_flights.groupby(['DAY_OF_WEEK', 'CANCELLATION_REASON'])['CANCELLED'].sum().reset_index()\n",
    "DAY_Cancel[\"DAY_OF_WEEK\"] = DAY_Cancel[\"DAY_OF_WEEK\"].astype(str)\n",
    "#  Create a new column with full airlines names \n",
    "DAY_Cancel['CANCELLATION_REASON'] = DAY_Cancel['CANCELLATION_REASON'].astype('category')\n",
    "DAY_Cancel['CANCELLATION_REASON'] = DAY_Cancel['CANCELLATION_REASON'].cat.rename_categories(reasons_names)\n",
    "\n",
    "DAY_Cancel = DAY_Cancel.sort_values('DAY_OF_WEEK',ascending = True).reset_index(drop=True)\n",
    "\n",
    "DAY_Cancel.head(25)\n"
   ]
  },
  {
   "attachments": {},
   "cell_type": "markdown",
   "id": "ae830a95",
   "metadata": {},
   "source": [
    "## stacked bar chart for week days and cancellations "
   ]
  },
  {
   "cell_type": "code",
   "execution_count": 22,
   "id": "bd31b1d1",
   "metadata": {},
   "outputs": [
    {
     "data": {
      "application/vnd.plotly.v1+json": {
       "config": {
        "plotlyServerURL": "https://plot.ly"
       },
       "data": [
        {
         "alignmentgroup": "True",
         "hovertemplate": "CANCELLATION_REASON=Airline/Carrier<br>CANCELLED=%{x}<br>DAY_OF_WEEK=%{y}<extra></extra>",
         "legendgroup": "Airline/Carrier",
         "marker": {
          "color": "MidnightBlue",
          "pattern": {
           "shape": ""
          }
         },
         "name": "Airline/Carrier",
         "offsetgroup": "Airline/Carrier",
         "orientation": "h",
         "showlegend": true,
         "textposition": "auto",
         "type": "bar",
         "x": [
          4307,
          4279,
          3696,
          3428,
          3127,
          2510,
          2962
         ],
         "xaxis": "x",
         "y": [
          "1",
          "2",
          "3",
          "4",
          "5",
          "6",
          "7"
         ],
         "yaxis": "y"
        },
        {
         "alignmentgroup": "True",
         "hovertemplate": "CANCELLATION_REASON=Weather<br>CANCELLED=%{x}<br>DAY_OF_WEEK=%{y}<extra></extra>",
         "legendgroup": "Weather",
         "marker": {
          "color": "Turquoise",
          "pattern": {
           "shape": ""
          }
         },
         "name": "Weather",
         "offsetgroup": "Weather",
         "orientation": "h",
         "showlegend": true,
         "textposition": "auto",
         "type": "bar",
         "x": [
          12690,
          8367,
          4959,
          5790,
          3292,
          4598,
          8178
         ],
         "xaxis": "x",
         "y": [
          "1",
          "2",
          "3",
          "4",
          "5",
          "6",
          "7"
         ],
         "yaxis": "y"
        },
        {
         "alignmentgroup": "True",
         "hovertemplate": "CANCELLATION_REASON=Air System<br>CANCELLED=%{x}<br>DAY_OF_WEEK=%{y}<extra></extra>",
         "legendgroup": "Air System",
         "marker": {
          "color": "Gold",
          "pattern": {
           "shape": ""
          }
         },
         "name": "Air System",
         "offsetgroup": "Air System",
         "orientation": "h",
         "showlegend": true,
         "textposition": "auto",
         "type": "bar",
         "x": [
          3925,
          2315,
          1809,
          2778,
          1257,
          1261,
          1880
         ],
         "xaxis": "x",
         "y": [
          "1",
          "2",
          "3",
          "4",
          "5",
          "6",
          "7"
         ],
         "yaxis": "y"
        },
        {
         "alignmentgroup": "True",
         "hovertemplate": "CANCELLATION_REASON=Security<br>CANCELLED=%{x}<br>DAY_OF_WEEK=%{y}<extra></extra>",
         "legendgroup": "Security",
         "marker": {
          "color": "Silver",
          "pattern": {
           "shape": ""
          }
         },
         "name": "Security",
         "offsetgroup": "Security",
         "orientation": "h",
         "showlegend": true,
         "textposition": "auto",
         "type": "bar",
         "x": [
          4,
          4,
          8,
          5,
          1
         ],
         "xaxis": "x",
         "y": [
          "1",
          "2",
          "3",
          "5",
          "6"
         ],
         "yaxis": "y"
        }
       ],
       "layout": {
        "barmode": "relative",
        "height": 800,
        "legend": {
         "title": {
          "text": "CANCELLATION_REASON"
         },
         "tracegroupgap": 0
        },
        "margin": {
         "t": 60
        },
        "plot_bgcolor": "white",
        "template": {
         "data": {
          "bar": [
           {
            "error_x": {
             "color": "#2a3f5f"
            },
            "error_y": {
             "color": "#2a3f5f"
            },
            "marker": {
             "line": {
              "color": "#E5ECF6",
              "width": 0.5
             },
             "pattern": {
              "fillmode": "overlay",
              "size": 10,
              "solidity": 0.2
             }
            },
            "type": "bar"
           }
          ],
          "barpolar": [
           {
            "marker": {
             "line": {
              "color": "#E5ECF6",
              "width": 0.5
             },
             "pattern": {
              "fillmode": "overlay",
              "size": 10,
              "solidity": 0.2
             }
            },
            "type": "barpolar"
           }
          ],
          "carpet": [
           {
            "aaxis": {
             "endlinecolor": "#2a3f5f",
             "gridcolor": "white",
             "linecolor": "white",
             "minorgridcolor": "white",
             "startlinecolor": "#2a3f5f"
            },
            "baxis": {
             "endlinecolor": "#2a3f5f",
             "gridcolor": "white",
             "linecolor": "white",
             "minorgridcolor": "white",
             "startlinecolor": "#2a3f5f"
            },
            "type": "carpet"
           }
          ],
          "choropleth": [
           {
            "colorbar": {
             "outlinewidth": 0,
             "ticks": ""
            },
            "type": "choropleth"
           }
          ],
          "contour": [
           {
            "colorbar": {
             "outlinewidth": 0,
             "ticks": ""
            },
            "colorscale": [
             [
              0,
              "#0d0887"
             ],
             [
              0.1111111111111111,
              "#46039f"
             ],
             [
              0.2222222222222222,
              "#7201a8"
             ],
             [
              0.3333333333333333,
              "#9c179e"
             ],
             [
              0.4444444444444444,
              "#bd3786"
             ],
             [
              0.5555555555555556,
              "#d8576b"
             ],
             [
              0.6666666666666666,
              "#ed7953"
             ],
             [
              0.7777777777777778,
              "#fb9f3a"
             ],
             [
              0.8888888888888888,
              "#fdca26"
             ],
             [
              1,
              "#f0f921"
             ]
            ],
            "type": "contour"
           }
          ],
          "contourcarpet": [
           {
            "colorbar": {
             "outlinewidth": 0,
             "ticks": ""
            },
            "type": "contourcarpet"
           }
          ],
          "heatmap": [
           {
            "colorbar": {
             "outlinewidth": 0,
             "ticks": ""
            },
            "colorscale": [
             [
              0,
              "#0d0887"
             ],
             [
              0.1111111111111111,
              "#46039f"
             ],
             [
              0.2222222222222222,
              "#7201a8"
             ],
             [
              0.3333333333333333,
              "#9c179e"
             ],
             [
              0.4444444444444444,
              "#bd3786"
             ],
             [
              0.5555555555555556,
              "#d8576b"
             ],
             [
              0.6666666666666666,
              "#ed7953"
             ],
             [
              0.7777777777777778,
              "#fb9f3a"
             ],
             [
              0.8888888888888888,
              "#fdca26"
             ],
             [
              1,
              "#f0f921"
             ]
            ],
            "type": "heatmap"
           }
          ],
          "heatmapgl": [
           {
            "colorbar": {
             "outlinewidth": 0,
             "ticks": ""
            },
            "colorscale": [
             [
              0,
              "#0d0887"
             ],
             [
              0.1111111111111111,
              "#46039f"
             ],
             [
              0.2222222222222222,
              "#7201a8"
             ],
             [
              0.3333333333333333,
              "#9c179e"
             ],
             [
              0.4444444444444444,
              "#bd3786"
             ],
             [
              0.5555555555555556,
              "#d8576b"
             ],
             [
              0.6666666666666666,
              "#ed7953"
             ],
             [
              0.7777777777777778,
              "#fb9f3a"
             ],
             [
              0.8888888888888888,
              "#fdca26"
             ],
             [
              1,
              "#f0f921"
             ]
            ],
            "type": "heatmapgl"
           }
          ],
          "histogram": [
           {
            "marker": {
             "pattern": {
              "fillmode": "overlay",
              "size": 10,
              "solidity": 0.2
             }
            },
            "type": "histogram"
           }
          ],
          "histogram2d": [
           {
            "colorbar": {
             "outlinewidth": 0,
             "ticks": ""
            },
            "colorscale": [
             [
              0,
              "#0d0887"
             ],
             [
              0.1111111111111111,
              "#46039f"
             ],
             [
              0.2222222222222222,
              "#7201a8"
             ],
             [
              0.3333333333333333,
              "#9c179e"
             ],
             [
              0.4444444444444444,
              "#bd3786"
             ],
             [
              0.5555555555555556,
              "#d8576b"
             ],
             [
              0.6666666666666666,
              "#ed7953"
             ],
             [
              0.7777777777777778,
              "#fb9f3a"
             ],
             [
              0.8888888888888888,
              "#fdca26"
             ],
             [
              1,
              "#f0f921"
             ]
            ],
            "type": "histogram2d"
           }
          ],
          "histogram2dcontour": [
           {
            "colorbar": {
             "outlinewidth": 0,
             "ticks": ""
            },
            "colorscale": [
             [
              0,
              "#0d0887"
             ],
             [
              0.1111111111111111,
              "#46039f"
             ],
             [
              0.2222222222222222,
              "#7201a8"
             ],
             [
              0.3333333333333333,
              "#9c179e"
             ],
             [
              0.4444444444444444,
              "#bd3786"
             ],
             [
              0.5555555555555556,
              "#d8576b"
             ],
             [
              0.6666666666666666,
              "#ed7953"
             ],
             [
              0.7777777777777778,
              "#fb9f3a"
             ],
             [
              0.8888888888888888,
              "#fdca26"
             ],
             [
              1,
              "#f0f921"
             ]
            ],
            "type": "histogram2dcontour"
           }
          ],
          "mesh3d": [
           {
            "colorbar": {
             "outlinewidth": 0,
             "ticks": ""
            },
            "type": "mesh3d"
           }
          ],
          "parcoords": [
           {
            "line": {
             "colorbar": {
              "outlinewidth": 0,
              "ticks": ""
             }
            },
            "type": "parcoords"
           }
          ],
          "pie": [
           {
            "automargin": true,
            "type": "pie"
           }
          ],
          "scatter": [
           {
            "fillpattern": {
             "fillmode": "overlay",
             "size": 10,
             "solidity": 0.2
            },
            "type": "scatter"
           }
          ],
          "scatter3d": [
           {
            "line": {
             "colorbar": {
              "outlinewidth": 0,
              "ticks": ""
             }
            },
            "marker": {
             "colorbar": {
              "outlinewidth": 0,
              "ticks": ""
             }
            },
            "type": "scatter3d"
           }
          ],
          "scattercarpet": [
           {
            "marker": {
             "colorbar": {
              "outlinewidth": 0,
              "ticks": ""
             }
            },
            "type": "scattercarpet"
           }
          ],
          "scattergeo": [
           {
            "marker": {
             "colorbar": {
              "outlinewidth": 0,
              "ticks": ""
             }
            },
            "type": "scattergeo"
           }
          ],
          "scattergl": [
           {
            "marker": {
             "colorbar": {
              "outlinewidth": 0,
              "ticks": ""
             }
            },
            "type": "scattergl"
           }
          ],
          "scattermapbox": [
           {
            "marker": {
             "colorbar": {
              "outlinewidth": 0,
              "ticks": ""
             }
            },
            "type": "scattermapbox"
           }
          ],
          "scatterpolar": [
           {
            "marker": {
             "colorbar": {
              "outlinewidth": 0,
              "ticks": ""
             }
            },
            "type": "scatterpolar"
           }
          ],
          "scatterpolargl": [
           {
            "marker": {
             "colorbar": {
              "outlinewidth": 0,
              "ticks": ""
             }
            },
            "type": "scatterpolargl"
           }
          ],
          "scatterternary": [
           {
            "marker": {
             "colorbar": {
              "outlinewidth": 0,
              "ticks": ""
             }
            },
            "type": "scatterternary"
           }
          ],
          "surface": [
           {
            "colorbar": {
             "outlinewidth": 0,
             "ticks": ""
            },
            "colorscale": [
             [
              0,
              "#0d0887"
             ],
             [
              0.1111111111111111,
              "#46039f"
             ],
             [
              0.2222222222222222,
              "#7201a8"
             ],
             [
              0.3333333333333333,
              "#9c179e"
             ],
             [
              0.4444444444444444,
              "#bd3786"
             ],
             [
              0.5555555555555556,
              "#d8576b"
             ],
             [
              0.6666666666666666,
              "#ed7953"
             ],
             [
              0.7777777777777778,
              "#fb9f3a"
             ],
             [
              0.8888888888888888,
              "#fdca26"
             ],
             [
              1,
              "#f0f921"
             ]
            ],
            "type": "surface"
           }
          ],
          "table": [
           {
            "cells": {
             "fill": {
              "color": "#EBF0F8"
             },
             "line": {
              "color": "white"
             }
            },
            "header": {
             "fill": {
              "color": "#C8D4E3"
             },
             "line": {
              "color": "white"
             }
            },
            "type": "table"
           }
          ]
         },
         "layout": {
          "annotationdefaults": {
           "arrowcolor": "#2a3f5f",
           "arrowhead": 0,
           "arrowwidth": 1
          },
          "autotypenumbers": "strict",
          "coloraxis": {
           "colorbar": {
            "outlinewidth": 0,
            "ticks": ""
           }
          },
          "colorscale": {
           "diverging": [
            [
             0,
             "#8e0152"
            ],
            [
             0.1,
             "#c51b7d"
            ],
            [
             0.2,
             "#de77ae"
            ],
            [
             0.3,
             "#f1b6da"
            ],
            [
             0.4,
             "#fde0ef"
            ],
            [
             0.5,
             "#f7f7f7"
            ],
            [
             0.6,
             "#e6f5d0"
            ],
            [
             0.7,
             "#b8e186"
            ],
            [
             0.8,
             "#7fbc41"
            ],
            [
             0.9,
             "#4d9221"
            ],
            [
             1,
             "#276419"
            ]
           ],
           "sequential": [
            [
             0,
             "#0d0887"
            ],
            [
             0.1111111111111111,
             "#46039f"
            ],
            [
             0.2222222222222222,
             "#7201a8"
            ],
            [
             0.3333333333333333,
             "#9c179e"
            ],
            [
             0.4444444444444444,
             "#bd3786"
            ],
            [
             0.5555555555555556,
             "#d8576b"
            ],
            [
             0.6666666666666666,
             "#ed7953"
            ],
            [
             0.7777777777777778,
             "#fb9f3a"
            ],
            [
             0.8888888888888888,
             "#fdca26"
            ],
            [
             1,
             "#f0f921"
            ]
           ],
           "sequentialminus": [
            [
             0,
             "#0d0887"
            ],
            [
             0.1111111111111111,
             "#46039f"
            ],
            [
             0.2222222222222222,
             "#7201a8"
            ],
            [
             0.3333333333333333,
             "#9c179e"
            ],
            [
             0.4444444444444444,
             "#bd3786"
            ],
            [
             0.5555555555555556,
             "#d8576b"
            ],
            [
             0.6666666666666666,
             "#ed7953"
            ],
            [
             0.7777777777777778,
             "#fb9f3a"
            ],
            [
             0.8888888888888888,
             "#fdca26"
            ],
            [
             1,
             "#f0f921"
            ]
           ]
          },
          "colorway": [
           "#636efa",
           "#EF553B",
           "#00cc96",
           "#ab63fa",
           "#FFA15A",
           "#19d3f3",
           "#FF6692",
           "#B6E880",
           "#FF97FF",
           "#FECB52"
          ],
          "font": {
           "color": "#2a3f5f"
          },
          "geo": {
           "bgcolor": "white",
           "lakecolor": "white",
           "landcolor": "#E5ECF6",
           "showlakes": true,
           "showland": true,
           "subunitcolor": "white"
          },
          "hoverlabel": {
           "align": "left"
          },
          "hovermode": "closest",
          "mapbox": {
           "style": "light"
          },
          "paper_bgcolor": "white",
          "plot_bgcolor": "#E5ECF6",
          "polar": {
           "angularaxis": {
            "gridcolor": "white",
            "linecolor": "white",
            "ticks": ""
           },
           "bgcolor": "#E5ECF6",
           "radialaxis": {
            "gridcolor": "white",
            "linecolor": "white",
            "ticks": ""
           }
          },
          "scene": {
           "xaxis": {
            "backgroundcolor": "#E5ECF6",
            "gridcolor": "white",
            "gridwidth": 2,
            "linecolor": "white",
            "showbackground": true,
            "ticks": "",
            "zerolinecolor": "white"
           },
           "yaxis": {
            "backgroundcolor": "#E5ECF6",
            "gridcolor": "white",
            "gridwidth": 2,
            "linecolor": "white",
            "showbackground": true,
            "ticks": "",
            "zerolinecolor": "white"
           },
           "zaxis": {
            "backgroundcolor": "#E5ECF6",
            "gridcolor": "white",
            "gridwidth": 2,
            "linecolor": "white",
            "showbackground": true,
            "ticks": "",
            "zerolinecolor": "white"
           }
          },
          "shapedefaults": {
           "line": {
            "color": "#2a3f5f"
           }
          },
          "ternary": {
           "aaxis": {
            "gridcolor": "white",
            "linecolor": "white",
            "ticks": ""
           },
           "baxis": {
            "gridcolor": "white",
            "linecolor": "white",
            "ticks": ""
           },
           "bgcolor": "#E5ECF6",
           "caxis": {
            "gridcolor": "white",
            "linecolor": "white",
            "ticks": ""
           }
          },
          "title": {
           "x": 0.05
          },
          "xaxis": {
           "automargin": true,
           "gridcolor": "white",
           "linecolor": "white",
           "ticks": "",
           "title": {
            "standoff": 15
           },
           "zerolinecolor": "white",
           "zerolinewidth": 2
          },
          "yaxis": {
           "automargin": true,
           "gridcolor": "white",
           "linecolor": "white",
           "ticks": "",
           "title": {
            "standoff": 15
           },
           "zerolinecolor": "white",
           "zerolinewidth": 2
          }
         }
        },
        "title": {
         "text": "Conditions led to Cancellations in Airlines<br>(Click legend to toggle traces)",
         "x": 0.5
        },
        "width": 1200,
        "xaxis": {
         "anchor": "y",
         "domain": [
          0,
          1
         ],
         "gridcolor": "LightGrey",
         "title": {
          "text": "CANCELLED"
         }
        },
        "yaxis": {
         "anchor": "x",
         "categoryorder": "category descending",
         "domain": [
          0,
          1
         ],
         "ticktext": [
          "Sun ",
          "Mon ",
          "Tues ",
          "Wed",
          "Thurs",
          "Fri",
          "Sat"
         ],
         "tickvals": [
          1,
          2,
          3,
          4,
          5,
          6,
          7
         ],
         "title": {
          "text": "DAY_OF_WEEK"
         }
        }
       }
      }
     },
     "metadata": {},
     "output_type": "display_data"
    }
   ],
   "source": [
    "# Create color_map for Cancellations reasons names\n",
    "color_map ={'Airline/Carrier':'MidnightBlue','Weather':'Turquoise','Air System':'Gold','Security':'Silver'}\n",
    "\n",
    "# Create the bar chart\n",
    "fig = px.bar(\n",
    "             # Set the data\n",
    "             DAY_Cancel,\n",
    "             # Set the orientation to horizontal\n",
    "             orientation=\"h\",\n",
    "             # Set the variable for the y-axis\n",
    "             y=\"DAY_OF_WEEK\",\n",
    "             # Set the variable for the x-axis\n",
    "             x=\"CANCELLED\",\n",
    "             # Set the color variable and map\n",
    "             color=\"CANCELLATION_REASON\",\n",
    "             color_discrete_map=color_map,\n",
    "             width=1200, height=800)\n",
    "\n",
    "# Update the figure layout\n",
    "\n",
    "fig.update_xaxes(gridcolor='LightGrey')\n",
    "fig.update_yaxes(tickvals = [1, 2, 3, 4, 5, 6,7],ticktext = [\"Sun \", \"Mon \", \"Tues \", \"Wed\", \"Thurs\", \"Fri\", \"Sat\"])\n",
    "\n",
    "fig.update_layout( plot_bgcolor='white',  yaxis={'categoryorder':'category descending'},\n",
    "                  # Add title\n",
    "                  title=\"Conditions led to Cancellations in Airlines<br>(Click legend to toggle traces)\",title_x=0.5)\n",
    "\n",
    "\n",
    "\n",
    "# Show the plot\n",
    "fig.show()"
   ]
  },
  {
   "attachments": {},
   "cell_type": "markdown",
   "id": "89915a6b",
   "metadata": {},
   "source": [
    "### Reflection \n",
    "> What day of the week had the most cancellations and what caused them?\n",
    ">What would be the best day of the week to book a flight with the lowest chance of it being cancelled?"
   ]
  },
  {
   "cell_type": "code",
   "execution_count": 23,
   "id": "2cbbff65",
   "metadata": {},
   "outputs": [],
   "source": [
    "#"
   ]
  },
  {
   "cell_type": "code",
   "execution_count": null,
   "id": "2a374656",
   "metadata": {},
   "outputs": [],
   "source": []
  },
  {
   "attachments": {},
   "cell_type": "markdown",
   "id": "ba357236",
   "metadata": {},
   "source": [
    "# Does the time of year affect cancellation rates?"
   ]
  },
  {
   "attachments": {},
   "cell_type": "markdown",
   "id": "b5ca6739",
   "metadata": {},
   "source": [
    "### Time Series and Cancellation Reasons Visualization\n",
    "Create an entire date column by merging year, month, and day into one column, then convert it to date-type to use in our time series. "
   ]
  },
  {
   "cell_type": "code",
   "execution_count": 24,
   "id": "dd1f1ec2",
   "metadata": {},
   "outputs": [
    {
     "name": "stdout",
     "output_type": "stream",
     "text": [
      "0         2015-01-01\n",
      "1         2015-01-01\n",
      "2         2015-01-01\n",
      "3         2015-01-01\n",
      "4         2015-01-01\n",
      "             ...    \n",
      "5332909   2015-12-27\n",
      "5332910   2015-12-28\n",
      "5332911   2015-12-29\n",
      "5332912   2015-12-30\n",
      "5332913   2015-12-31\n",
      "Name: DATE, Length: 5332914, dtype: datetime64[ns]\n"
     ]
    }
   ],
   "source": [
    "# Merging columns\n",
    "df_flights['DATE'] = df_flights[\"YEAR\"].astype(str)+'/'+df_flights[\"MONTH\"] .astype(str)+'/'+df_flights[\"DAY\"].astype(str)\n",
    "\n",
    "# Creat a datetime64 data type \n",
    "df_flights['DATE'] = pd.to_datetime(df_flights['DATE'], errors='coerce')\n",
    "\n",
    "# Confirm if it is converted correctly \n",
    "print(df_flights['DATE'])"
   ]
  },
  {
   "cell_type": "code",
   "execution_count": 25,
   "id": "c44d2d38",
   "metadata": {},
   "outputs": [
    {
     "data": {
      "text/html": [
       "<div>\n",
       "<style scoped>\n",
       "    .dataframe tbody tr th:only-of-type {\n",
       "        vertical-align: middle;\n",
       "    }\n",
       "\n",
       "    .dataframe tbody tr th {\n",
       "        vertical-align: top;\n",
       "    }\n",
       "\n",
       "    .dataframe thead th {\n",
       "        text-align: right;\n",
       "    }\n",
       "</style>\n",
       "<table border=\"1\" class=\"dataframe\">\n",
       "  <thead>\n",
       "    <tr style=\"text-align: right;\">\n",
       "      <th></th>\n",
       "      <th>DATE</th>\n",
       "      <th>CANCELLATION_REASON</th>\n",
       "      <th>CANCELLED</th>\n",
       "    </tr>\n",
       "  </thead>\n",
       "  <tbody>\n",
       "    <tr>\n",
       "      <th>0</th>\n",
       "      <td>2015-01-01</td>\n",
       "      <td>A</td>\n",
       "      <td>81</td>\n",
       "    </tr>\n",
       "    <tr>\n",
       "      <th>1</th>\n",
       "      <td>2015-01-01</td>\n",
       "      <td>B</td>\n",
       "      <td>328</td>\n",
       "    </tr>\n",
       "    <tr>\n",
       "      <th>2</th>\n",
       "      <td>2015-01-01</td>\n",
       "      <td>C</td>\n",
       "      <td>57</td>\n",
       "    </tr>\n",
       "    <tr>\n",
       "      <th>3</th>\n",
       "      <td>2015-01-02</td>\n",
       "      <td>A</td>\n",
       "      <td>102</td>\n",
       "    </tr>\n",
       "    <tr>\n",
       "      <th>4</th>\n",
       "      <td>2015-01-02</td>\n",
       "      <td>B</td>\n",
       "      <td>112</td>\n",
       "    </tr>\n",
       "    <tr>\n",
       "      <th>...</th>\n",
       "      <td>...</td>\n",
       "      <td>...</td>\n",
       "      <td>...</td>\n",
       "    </tr>\n",
       "    <tr>\n",
       "      <th>985</th>\n",
       "      <td>2015-12-30</td>\n",
       "      <td>B</td>\n",
       "      <td>171</td>\n",
       "    </tr>\n",
       "    <tr>\n",
       "      <th>986</th>\n",
       "      <td>2015-12-30</td>\n",
       "      <td>C</td>\n",
       "      <td>5</td>\n",
       "    </tr>\n",
       "    <tr>\n",
       "      <th>987</th>\n",
       "      <td>2015-12-31</td>\n",
       "      <td>A</td>\n",
       "      <td>21</td>\n",
       "    </tr>\n",
       "    <tr>\n",
       "      <th>988</th>\n",
       "      <td>2015-12-31</td>\n",
       "      <td>B</td>\n",
       "      <td>20</td>\n",
       "    </tr>\n",
       "    <tr>\n",
       "      <th>989</th>\n",
       "      <td>2015-12-31</td>\n",
       "      <td>C</td>\n",
       "      <td>1</td>\n",
       "    </tr>\n",
       "  </tbody>\n",
       "</table>\n",
       "<p>990 rows × 3 columns</p>\n",
       "</div>"
      ],
      "text/plain": [
       "          DATE CANCELLATION_REASON  CANCELLED\n",
       "0   2015-01-01                   A         81\n",
       "1   2015-01-01                   B        328\n",
       "2   2015-01-01                   C         57\n",
       "3   2015-01-02                   A        102\n",
       "4   2015-01-02                   B        112\n",
       "..         ...                 ...        ...\n",
       "985 2015-12-30                   B        171\n",
       "986 2015-12-30                   C          5\n",
       "987 2015-12-31                   A         21\n",
       "988 2015-12-31                   B         20\n",
       "989 2015-12-31                   C          1\n",
       "\n",
       "[990 rows x 3 columns]"
      ]
     },
     "execution_count": 25,
     "metadata": {},
     "output_type": "execute_result"
    }
   ],
   "source": [
    "df_date = df_flights.groupby(['DATE', 'CANCELLATION_REASON'])['CANCELLED'].sum().reset_index()\n",
    "df_date"
   ]
  },
  {
   "cell_type": "code",
   "execution_count": 26,
   "id": "cbeda76d",
   "metadata": {},
   "outputs": [
    {
     "data": {
      "application/vnd.plotly.v1+json": {
       "config": {
        "plotlyServerURL": "https://plot.ly"
       },
       "data": [
        {
         "hovertemplate": "Cancellation Reasons=Airline/Carrier<br>Date=%{x}<br>Cancellation frequency=%{y}<extra></extra>",
         "legendgroup": "Airline/Carrier",
         "line": {
          "color": "MidnightBlue",
          "dash": "solid"
         },
         "marker": {
          "symbol": "circle"
         },
         "mode": "lines",
         "name": "Airline/Carrier",
         "orientation": "v",
         "showlegend": true,
         "type": "scatter",
         "x": [
          "2015-01-01T00:00:00",
          "2015-01-02T00:00:00",
          "2015-01-03T00:00:00",
          "2015-01-04T00:00:00",
          "2015-01-05T00:00:00",
          "2015-01-06T00:00:00",
          "2015-01-07T00:00:00",
          "2015-01-08T00:00:00",
          "2015-01-09T00:00:00",
          "2015-01-10T00:00:00",
          "2015-01-11T00:00:00",
          "2015-01-12T00:00:00",
          "2015-01-13T00:00:00",
          "2015-01-14T00:00:00",
          "2015-01-15T00:00:00",
          "2015-01-16T00:00:00",
          "2015-01-17T00:00:00",
          "2015-01-18T00:00:00",
          "2015-01-19T00:00:00",
          "2015-01-20T00:00:00",
          "2015-01-21T00:00:00",
          "2015-01-22T00:00:00",
          "2015-01-23T00:00:00",
          "2015-01-24T00:00:00",
          "2015-01-25T00:00:00",
          "2015-01-26T00:00:00",
          "2015-01-27T00:00:00",
          "2015-01-28T00:00:00",
          "2015-01-29T00:00:00",
          "2015-01-30T00:00:00",
          "2015-01-31T00:00:00",
          "2015-02-01T00:00:00",
          "2015-02-02T00:00:00",
          "2015-02-03T00:00:00",
          "2015-02-04T00:00:00",
          "2015-02-05T00:00:00",
          "2015-02-06T00:00:00",
          "2015-02-07T00:00:00",
          "2015-02-08T00:00:00",
          "2015-02-09T00:00:00",
          "2015-02-10T00:00:00",
          "2015-02-11T00:00:00",
          "2015-02-12T00:00:00",
          "2015-02-13T00:00:00",
          "2015-02-14T00:00:00",
          "2015-02-15T00:00:00",
          "2015-02-16T00:00:00",
          "2015-02-17T00:00:00",
          "2015-02-18T00:00:00",
          "2015-02-19T00:00:00",
          "2015-02-20T00:00:00",
          "2015-02-21T00:00:00",
          "2015-02-22T00:00:00",
          "2015-02-23T00:00:00",
          "2015-02-24T00:00:00",
          "2015-02-25T00:00:00",
          "2015-02-26T00:00:00",
          "2015-02-27T00:00:00",
          "2015-02-28T00:00:00",
          "2015-03-01T00:00:00",
          "2015-03-02T00:00:00",
          "2015-03-03T00:00:00",
          "2015-03-04T00:00:00",
          "2015-03-05T00:00:00",
          "2015-03-06T00:00:00",
          "2015-03-07T00:00:00",
          "2015-03-08T00:00:00",
          "2015-03-09T00:00:00",
          "2015-03-10T00:00:00",
          "2015-03-11T00:00:00",
          "2015-03-12T00:00:00",
          "2015-03-13T00:00:00",
          "2015-03-14T00:00:00",
          "2015-03-15T00:00:00",
          "2015-03-16T00:00:00",
          "2015-03-17T00:00:00",
          "2015-03-18T00:00:00",
          "2015-03-19T00:00:00",
          "2015-03-20T00:00:00",
          "2015-03-21T00:00:00",
          "2015-03-22T00:00:00",
          "2015-03-23T00:00:00",
          "2015-03-24T00:00:00",
          "2015-03-25T00:00:00",
          "2015-03-26T00:00:00",
          "2015-03-27T00:00:00",
          "2015-03-28T00:00:00",
          "2015-03-29T00:00:00",
          "2015-03-30T00:00:00",
          "2015-03-31T00:00:00",
          "2015-04-01T00:00:00",
          "2015-04-02T00:00:00",
          "2015-04-03T00:00:00",
          "2015-04-04T00:00:00",
          "2015-04-05T00:00:00",
          "2015-04-06T00:00:00",
          "2015-04-07T00:00:00",
          "2015-04-08T00:00:00",
          "2015-04-09T00:00:00",
          "2015-04-10T00:00:00",
          "2015-04-11T00:00:00",
          "2015-04-12T00:00:00",
          "2015-04-13T00:00:00",
          "2015-04-14T00:00:00",
          "2015-04-15T00:00:00",
          "2015-04-16T00:00:00",
          "2015-04-17T00:00:00",
          "2015-04-18T00:00:00",
          "2015-04-19T00:00:00",
          "2015-04-20T00:00:00",
          "2015-04-21T00:00:00",
          "2015-04-22T00:00:00",
          "2015-04-23T00:00:00",
          "2015-04-24T00:00:00",
          "2015-04-25T00:00:00",
          "2015-04-26T00:00:00",
          "2015-04-27T00:00:00",
          "2015-04-28T00:00:00",
          "2015-04-29T00:00:00",
          "2015-04-30T00:00:00",
          "2015-05-01T00:00:00",
          "2015-05-02T00:00:00",
          "2015-05-03T00:00:00",
          "2015-05-04T00:00:00",
          "2015-05-05T00:00:00",
          "2015-05-06T00:00:00",
          "2015-05-07T00:00:00",
          "2015-05-08T00:00:00",
          "2015-05-09T00:00:00",
          "2015-05-10T00:00:00",
          "2015-05-11T00:00:00",
          "2015-05-12T00:00:00",
          "2015-05-13T00:00:00",
          "2015-05-14T00:00:00",
          "2015-05-15T00:00:00",
          "2015-05-16T00:00:00",
          "2015-05-17T00:00:00",
          "2015-05-18T00:00:00",
          "2015-05-19T00:00:00",
          "2015-05-20T00:00:00",
          "2015-05-21T00:00:00",
          "2015-05-22T00:00:00",
          "2015-05-23T00:00:00",
          "2015-05-24T00:00:00",
          "2015-05-25T00:00:00",
          "2015-05-26T00:00:00",
          "2015-05-27T00:00:00",
          "2015-05-28T00:00:00",
          "2015-05-29T00:00:00",
          "2015-05-30T00:00:00",
          "2015-05-31T00:00:00",
          "2015-06-01T00:00:00",
          "2015-06-02T00:00:00",
          "2015-06-03T00:00:00",
          "2015-06-04T00:00:00",
          "2015-06-05T00:00:00",
          "2015-06-06T00:00:00",
          "2015-06-07T00:00:00",
          "2015-06-08T00:00:00",
          "2015-06-09T00:00:00",
          "2015-06-10T00:00:00",
          "2015-06-11T00:00:00",
          "2015-06-12T00:00:00",
          "2015-06-13T00:00:00",
          "2015-06-14T00:00:00",
          "2015-06-15T00:00:00",
          "2015-06-16T00:00:00",
          "2015-06-17T00:00:00",
          "2015-06-18T00:00:00",
          "2015-06-19T00:00:00",
          "2015-06-20T00:00:00",
          "2015-06-21T00:00:00",
          "2015-06-22T00:00:00",
          "2015-06-23T00:00:00",
          "2015-06-24T00:00:00",
          "2015-06-25T00:00:00",
          "2015-06-26T00:00:00",
          "2015-06-27T00:00:00",
          "2015-06-28T00:00:00",
          "2015-06-29T00:00:00",
          "2015-06-30T00:00:00",
          "2015-07-01T00:00:00",
          "2015-07-02T00:00:00",
          "2015-07-03T00:00:00",
          "2015-07-04T00:00:00",
          "2015-07-05T00:00:00",
          "2015-07-06T00:00:00",
          "2015-07-07T00:00:00",
          "2015-07-08T00:00:00",
          "2015-07-09T00:00:00",
          "2015-07-10T00:00:00",
          "2015-07-11T00:00:00",
          "2015-07-12T00:00:00",
          "2015-07-13T00:00:00",
          "2015-07-14T00:00:00",
          "2015-07-15T00:00:00",
          "2015-07-16T00:00:00",
          "2015-07-17T00:00:00",
          "2015-07-18T00:00:00",
          "2015-07-19T00:00:00",
          "2015-07-20T00:00:00",
          "2015-07-21T00:00:00",
          "2015-07-22T00:00:00",
          "2015-07-23T00:00:00",
          "2015-07-24T00:00:00",
          "2015-07-25T00:00:00",
          "2015-07-26T00:00:00",
          "2015-07-27T00:00:00",
          "2015-07-28T00:00:00",
          "2015-07-29T00:00:00",
          "2015-07-30T00:00:00",
          "2015-07-31T00:00:00",
          "2015-08-01T00:00:00",
          "2015-08-02T00:00:00",
          "2015-08-03T00:00:00",
          "2015-08-04T00:00:00",
          "2015-08-05T00:00:00",
          "2015-08-06T00:00:00",
          "2015-08-07T00:00:00",
          "2015-08-08T00:00:00",
          "2015-08-09T00:00:00",
          "2015-08-10T00:00:00",
          "2015-08-11T00:00:00",
          "2015-08-12T00:00:00",
          "2015-08-13T00:00:00",
          "2015-08-14T00:00:00",
          "2015-08-15T00:00:00",
          "2015-08-16T00:00:00",
          "2015-08-17T00:00:00",
          "2015-08-18T00:00:00",
          "2015-08-19T00:00:00",
          "2015-08-20T00:00:00",
          "2015-08-21T00:00:00",
          "2015-08-22T00:00:00",
          "2015-08-23T00:00:00",
          "2015-08-24T00:00:00",
          "2015-08-25T00:00:00",
          "2015-08-26T00:00:00",
          "2015-08-27T00:00:00",
          "2015-08-28T00:00:00",
          "2015-08-29T00:00:00",
          "2015-08-30T00:00:00",
          "2015-08-31T00:00:00",
          "2015-09-01T00:00:00",
          "2015-09-02T00:00:00",
          "2015-09-03T00:00:00",
          "2015-09-04T00:00:00",
          "2015-09-05T00:00:00",
          "2015-09-06T00:00:00",
          "2015-09-07T00:00:00",
          "2015-09-08T00:00:00",
          "2015-09-09T00:00:00",
          "2015-09-10T00:00:00",
          "2015-09-11T00:00:00",
          "2015-09-12T00:00:00",
          "2015-09-13T00:00:00",
          "2015-09-14T00:00:00",
          "2015-09-15T00:00:00",
          "2015-09-16T00:00:00",
          "2015-09-17T00:00:00",
          "2015-09-18T00:00:00",
          "2015-09-19T00:00:00",
          "2015-09-20T00:00:00",
          "2015-09-21T00:00:00",
          "2015-09-22T00:00:00",
          "2015-09-23T00:00:00",
          "2015-09-24T00:00:00",
          "2015-09-25T00:00:00",
          "2015-09-26T00:00:00",
          "2015-09-27T00:00:00",
          "2015-09-28T00:00:00",
          "2015-09-29T00:00:00",
          "2015-09-30T00:00:00",
          "2015-11-01T00:00:00",
          "2015-11-02T00:00:00",
          "2015-11-03T00:00:00",
          "2015-11-04T00:00:00",
          "2015-11-05T00:00:00",
          "2015-11-06T00:00:00",
          "2015-11-07T00:00:00",
          "2015-11-08T00:00:00",
          "2015-11-09T00:00:00",
          "2015-11-10T00:00:00",
          "2015-11-11T00:00:00",
          "2015-11-12T00:00:00",
          "2015-11-13T00:00:00",
          "2015-11-14T00:00:00",
          "2015-11-15T00:00:00",
          "2015-11-16T00:00:00",
          "2015-11-17T00:00:00",
          "2015-11-18T00:00:00",
          "2015-11-19T00:00:00",
          "2015-11-20T00:00:00",
          "2015-11-21T00:00:00",
          "2015-11-22T00:00:00",
          "2015-11-23T00:00:00",
          "2015-11-24T00:00:00",
          "2015-11-25T00:00:00",
          "2015-11-26T00:00:00",
          "2015-11-27T00:00:00",
          "2015-11-28T00:00:00",
          "2015-11-29T00:00:00",
          "2015-11-30T00:00:00",
          "2015-12-01T00:00:00",
          "2015-12-02T00:00:00",
          "2015-12-03T00:00:00",
          "2015-12-04T00:00:00",
          "2015-12-05T00:00:00",
          "2015-12-06T00:00:00",
          "2015-12-07T00:00:00",
          "2015-12-08T00:00:00",
          "2015-12-09T00:00:00",
          "2015-12-10T00:00:00",
          "2015-12-11T00:00:00",
          "2015-12-12T00:00:00",
          "2015-12-13T00:00:00",
          "2015-12-14T00:00:00",
          "2015-12-15T00:00:00",
          "2015-12-16T00:00:00",
          "2015-12-17T00:00:00",
          "2015-12-18T00:00:00",
          "2015-12-19T00:00:00",
          "2015-12-20T00:00:00",
          "2015-12-21T00:00:00",
          "2015-12-22T00:00:00",
          "2015-12-23T00:00:00",
          "2015-12-24T00:00:00",
          "2015-12-25T00:00:00",
          "2015-12-26T00:00:00",
          "2015-12-27T00:00:00",
          "2015-12-28T00:00:00",
          "2015-12-29T00:00:00",
          "2015-12-30T00:00:00",
          "2015-12-31T00:00:00"
         ],
         "xaxis": "x",
         "y": [
          81,
          102,
          152,
          175,
          287,
          175,
          110,
          235,
          187,
          56,
          74,
          147,
          122,
          91,
          71,
          30,
          23,
          44,
          32,
          51,
          59,
          67,
          54,
          26,
          29,
          127,
          95,
          28,
          42,
          49,
          53,
          87,
          265,
          101,
          95,
          102,
          40,
          39,
          61,
          124,
          65,
          21,
          32,
          45,
          35,
          73,
          113,
          166,
          80,
          75,
          92,
          68,
          134,
          153,
          176,
          205,
          111,
          126,
          131,
          144,
          154,
          118,
          141,
          243,
          174,
          106,
          82,
          97,
          87,
          47,
          37,
          42,
          36,
          42,
          38,
          43,
          49,
          34,
          68,
          69,
          31,
          216,
          110,
          45,
          43,
          25,
          31,
          29,
          51,
          62,
          67,
          70,
          82,
          25,
          48,
          43,
          61,
          62,
          72,
          126,
          99,
          43,
          49,
          56,
          54,
          59,
          63,
          41,
          52,
          93,
          88,
          47,
          26,
          66,
          51,
          27,
          98,
          51,
          35,
          42,
          54,
          50,
          59,
          64,
          60,
          51,
          44,
          41,
          77,
          133,
          60,
          81,
          44,
          36,
          33,
          15,
          34,
          84,
          108,
          44,
          50,
          34,
          23,
          23,
          90,
          161,
          131,
          89,
          107,
          31,
          96,
          112,
          111,
          60,
          71,
          73,
          34,
          44,
          91,
          181,
          128,
          142,
          92,
          95,
          113,
          141,
          212,
          255,
          161,
          118,
          109,
          172,
          140,
          163,
          180,
          115,
          124,
          111,
          65,
          86,
          120,
          108,
          96,
          52,
          40,
          60,
          59,
          104,
          119,
          108,
          59,
          45,
          44,
          119,
          121,
          126,
          79,
          59,
          147,
          87,
          96,
          73,
          83,
          68,
          96,
          46,
          66,
          74,
          95,
          75,
          81,
          103,
          100,
          119,
          105,
          79,
          86,
          70,
          85,
          52,
          84,
          101,
          125,
          90,
          71,
          73,
          62,
          66,
          67,
          114,
          105,
          110,
          62,
          42,
          35,
          86,
          79,
          93,
          54,
          30,
          35,
          29,
          55,
          71,
          63,
          61,
          56,
          29,
          13,
          22,
          51,
          46,
          65,
          44,
          21,
          30,
          40,
          32,
          55,
          33,
          37,
          22,
          19,
          31,
          37,
          28,
          21,
          20,
          9,
          10,
          42,
          47,
          33,
          33,
          60,
          36,
          74,
          91,
          68,
          34,
          13,
          23,
          35,
          36,
          27,
          26,
          22,
          31,
          45,
          83,
          92,
          61,
          18,
          21,
          27,
          27,
          11,
          4,
          5,
          21,
          20,
          22,
          19,
          18,
          26,
          21,
          13,
          14,
          16,
          16,
          22,
          32,
          18,
          18,
          15,
          27,
          62,
          30,
          34,
          38,
          51,
          35,
          25,
          29,
          39,
          54,
          79,
          89,
          113,
          192,
          174,
          153,
          105,
          21
         ],
         "yaxis": "y"
        },
        {
         "hovertemplate": "Cancellation Reasons=Weather<br>Date=%{x}<br>Cancellation frequency=%{y}<extra></extra>",
         "legendgroup": "Weather",
         "line": {
          "color": "Turquoise",
          "dash": "solid"
         },
         "marker": {
          "symbol": "circle"
         },
         "mode": "lines",
         "name": "Weather",
         "orientation": "v",
         "showlegend": true,
         "type": "scatter",
         "x": [
          "2015-01-01T00:00:00",
          "2015-01-02T00:00:00",
          "2015-01-03T00:00:00",
          "2015-01-04T00:00:00",
          "2015-01-05T00:00:00",
          "2015-01-06T00:00:00",
          "2015-01-07T00:00:00",
          "2015-01-08T00:00:00",
          "2015-01-09T00:00:00",
          "2015-01-10T00:00:00",
          "2015-01-11T00:00:00",
          "2015-01-12T00:00:00",
          "2015-01-13T00:00:00",
          "2015-01-14T00:00:00",
          "2015-01-15T00:00:00",
          "2015-01-16T00:00:00",
          "2015-01-17T00:00:00",
          "2015-01-18T00:00:00",
          "2015-01-19T00:00:00",
          "2015-01-20T00:00:00",
          "2015-01-21T00:00:00",
          "2015-01-22T00:00:00",
          "2015-01-23T00:00:00",
          "2015-01-24T00:00:00",
          "2015-01-25T00:00:00",
          "2015-01-26T00:00:00",
          "2015-01-27T00:00:00",
          "2015-01-28T00:00:00",
          "2015-01-29T00:00:00",
          "2015-01-30T00:00:00",
          "2015-01-31T00:00:00",
          "2015-02-01T00:00:00",
          "2015-02-02T00:00:00",
          "2015-02-03T00:00:00",
          "2015-02-04T00:00:00",
          "2015-02-05T00:00:00",
          "2015-02-06T00:00:00",
          "2015-02-07T00:00:00",
          "2015-02-08T00:00:00",
          "2015-02-09T00:00:00",
          "2015-02-10T00:00:00",
          "2015-02-11T00:00:00",
          "2015-02-12T00:00:00",
          "2015-02-13T00:00:00",
          "2015-02-14T00:00:00",
          "2015-02-15T00:00:00",
          "2015-02-16T00:00:00",
          "2015-02-17T00:00:00",
          "2015-02-18T00:00:00",
          "2015-02-19T00:00:00",
          "2015-02-20T00:00:00",
          "2015-02-21T00:00:00",
          "2015-02-22T00:00:00",
          "2015-02-23T00:00:00",
          "2015-02-24T00:00:00",
          "2015-02-25T00:00:00",
          "2015-02-26T00:00:00",
          "2015-02-27T00:00:00",
          "2015-02-28T00:00:00",
          "2015-03-01T00:00:00",
          "2015-03-02T00:00:00",
          "2015-03-03T00:00:00",
          "2015-03-04T00:00:00",
          "2015-03-05T00:00:00",
          "2015-03-06T00:00:00",
          "2015-03-07T00:00:00",
          "2015-03-08T00:00:00",
          "2015-03-09T00:00:00",
          "2015-03-10T00:00:00",
          "2015-03-11T00:00:00",
          "2015-03-12T00:00:00",
          "2015-03-13T00:00:00",
          "2015-03-14T00:00:00",
          "2015-03-15T00:00:00",
          "2015-03-16T00:00:00",
          "2015-03-17T00:00:00",
          "2015-03-18T00:00:00",
          "2015-03-19T00:00:00",
          "2015-03-20T00:00:00",
          "2015-03-21T00:00:00",
          "2015-03-22T00:00:00",
          "2015-03-23T00:00:00",
          "2015-03-24T00:00:00",
          "2015-03-25T00:00:00",
          "2015-03-26T00:00:00",
          "2015-03-27T00:00:00",
          "2015-03-28T00:00:00",
          "2015-03-29T00:00:00",
          "2015-03-30T00:00:00",
          "2015-03-31T00:00:00",
          "2015-04-01T00:00:00",
          "2015-04-02T00:00:00",
          "2015-04-03T00:00:00",
          "2015-04-04T00:00:00",
          "2015-04-05T00:00:00",
          "2015-04-06T00:00:00",
          "2015-04-07T00:00:00",
          "2015-04-08T00:00:00",
          "2015-04-09T00:00:00",
          "2015-04-10T00:00:00",
          "2015-04-11T00:00:00",
          "2015-04-12T00:00:00",
          "2015-04-13T00:00:00",
          "2015-04-14T00:00:00",
          "2015-04-15T00:00:00",
          "2015-04-16T00:00:00",
          "2015-04-17T00:00:00",
          "2015-04-18T00:00:00",
          "2015-04-19T00:00:00",
          "2015-04-20T00:00:00",
          "2015-04-21T00:00:00",
          "2015-04-22T00:00:00",
          "2015-04-23T00:00:00",
          "2015-04-24T00:00:00",
          "2015-04-25T00:00:00",
          "2015-04-26T00:00:00",
          "2015-04-27T00:00:00",
          "2015-04-28T00:00:00",
          "2015-04-29T00:00:00",
          "2015-05-01T00:00:00",
          "2015-05-02T00:00:00",
          "2015-05-03T00:00:00",
          "2015-05-04T00:00:00",
          "2015-05-05T00:00:00",
          "2015-05-06T00:00:00",
          "2015-05-07T00:00:00",
          "2015-05-08T00:00:00",
          "2015-05-09T00:00:00",
          "2015-05-10T00:00:00",
          "2015-05-11T00:00:00",
          "2015-05-12T00:00:00",
          "2015-05-13T00:00:00",
          "2015-05-14T00:00:00",
          "2015-05-15T00:00:00",
          "2015-05-16T00:00:00",
          "2015-05-17T00:00:00",
          "2015-05-18T00:00:00",
          "2015-05-19T00:00:00",
          "2015-05-20T00:00:00",
          "2015-05-21T00:00:00",
          "2015-05-22T00:00:00",
          "2015-05-23T00:00:00",
          "2015-05-24T00:00:00",
          "2015-05-25T00:00:00",
          "2015-05-26T00:00:00",
          "2015-05-27T00:00:00",
          "2015-05-28T00:00:00",
          "2015-05-29T00:00:00",
          "2015-05-30T00:00:00",
          "2015-05-31T00:00:00",
          "2015-06-01T00:00:00",
          "2015-06-02T00:00:00",
          "2015-06-03T00:00:00",
          "2015-06-04T00:00:00",
          "2015-06-05T00:00:00",
          "2015-06-06T00:00:00",
          "2015-06-07T00:00:00",
          "2015-06-08T00:00:00",
          "2015-06-09T00:00:00",
          "2015-06-10T00:00:00",
          "2015-06-11T00:00:00",
          "2015-06-12T00:00:00",
          "2015-06-13T00:00:00",
          "2015-06-14T00:00:00",
          "2015-06-15T00:00:00",
          "2015-06-16T00:00:00",
          "2015-06-17T00:00:00",
          "2015-06-18T00:00:00",
          "2015-06-19T00:00:00",
          "2015-06-20T00:00:00",
          "2015-06-21T00:00:00",
          "2015-06-22T00:00:00",
          "2015-06-23T00:00:00",
          "2015-06-24T00:00:00",
          "2015-06-25T00:00:00",
          "2015-06-26T00:00:00",
          "2015-06-27T00:00:00",
          "2015-06-28T00:00:00",
          "2015-06-29T00:00:00",
          "2015-06-30T00:00:00",
          "2015-07-01T00:00:00",
          "2015-07-02T00:00:00",
          "2015-07-03T00:00:00",
          "2015-07-04T00:00:00",
          "2015-07-05T00:00:00",
          "2015-07-06T00:00:00",
          "2015-07-07T00:00:00",
          "2015-07-08T00:00:00",
          "2015-07-09T00:00:00",
          "2015-07-10T00:00:00",
          "2015-07-11T00:00:00",
          "2015-07-12T00:00:00",
          "2015-07-13T00:00:00",
          "2015-07-14T00:00:00",
          "2015-07-15T00:00:00",
          "2015-07-16T00:00:00",
          "2015-07-17T00:00:00",
          "2015-07-18T00:00:00",
          "2015-07-19T00:00:00",
          "2015-07-20T00:00:00",
          "2015-07-21T00:00:00",
          "2015-07-22T00:00:00",
          "2015-07-23T00:00:00",
          "2015-07-24T00:00:00",
          "2015-07-25T00:00:00",
          "2015-07-26T00:00:00",
          "2015-07-27T00:00:00",
          "2015-07-28T00:00:00",
          "2015-07-29T00:00:00",
          "2015-07-30T00:00:00",
          "2015-07-31T00:00:00",
          "2015-08-01T00:00:00",
          "2015-08-02T00:00:00",
          "2015-08-03T00:00:00",
          "2015-08-04T00:00:00",
          "2015-08-05T00:00:00",
          "2015-08-06T00:00:00",
          "2015-08-07T00:00:00",
          "2015-08-08T00:00:00",
          "2015-08-09T00:00:00",
          "2015-08-10T00:00:00",
          "2015-08-11T00:00:00",
          "2015-08-12T00:00:00",
          "2015-08-13T00:00:00",
          "2015-08-14T00:00:00",
          "2015-08-15T00:00:00",
          "2015-08-16T00:00:00",
          "2015-08-17T00:00:00",
          "2015-08-18T00:00:00",
          "2015-08-19T00:00:00",
          "2015-08-20T00:00:00",
          "2015-08-21T00:00:00",
          "2015-08-22T00:00:00",
          "2015-08-23T00:00:00",
          "2015-08-24T00:00:00",
          "2015-08-25T00:00:00",
          "2015-08-26T00:00:00",
          "2015-08-27T00:00:00",
          "2015-08-28T00:00:00",
          "2015-08-29T00:00:00",
          "2015-08-30T00:00:00",
          "2015-08-31T00:00:00",
          "2015-09-01T00:00:00",
          "2015-09-02T00:00:00",
          "2015-09-03T00:00:00",
          "2015-09-04T00:00:00",
          "2015-09-05T00:00:00",
          "2015-09-06T00:00:00",
          "2015-09-07T00:00:00",
          "2015-09-08T00:00:00",
          "2015-09-09T00:00:00",
          "2015-09-10T00:00:00",
          "2015-09-11T00:00:00",
          "2015-09-12T00:00:00",
          "2015-09-13T00:00:00",
          "2015-09-14T00:00:00",
          "2015-09-15T00:00:00",
          "2015-09-16T00:00:00",
          "2015-09-17T00:00:00",
          "2015-09-18T00:00:00",
          "2015-09-19T00:00:00",
          "2015-09-20T00:00:00",
          "2015-09-21T00:00:00",
          "2015-09-22T00:00:00",
          "2015-09-23T00:00:00",
          "2015-09-24T00:00:00",
          "2015-09-25T00:00:00",
          "2015-09-26T00:00:00",
          "2015-09-28T00:00:00",
          "2015-09-29T00:00:00",
          "2015-11-01T00:00:00",
          "2015-11-02T00:00:00",
          "2015-11-03T00:00:00",
          "2015-11-04T00:00:00",
          "2015-11-05T00:00:00",
          "2015-11-06T00:00:00",
          "2015-11-07T00:00:00",
          "2015-11-08T00:00:00",
          "2015-11-09T00:00:00",
          "2015-11-10T00:00:00",
          "2015-11-11T00:00:00",
          "2015-11-12T00:00:00",
          "2015-11-13T00:00:00",
          "2015-11-14T00:00:00",
          "2015-11-15T00:00:00",
          "2015-11-16T00:00:00",
          "2015-11-17T00:00:00",
          "2015-11-18T00:00:00",
          "2015-11-19T00:00:00",
          "2015-11-20T00:00:00",
          "2015-11-21T00:00:00",
          "2015-11-22T00:00:00",
          "2015-11-23T00:00:00",
          "2015-11-24T00:00:00",
          "2015-11-25T00:00:00",
          "2015-11-26T00:00:00",
          "2015-11-27T00:00:00",
          "2015-11-28T00:00:00",
          "2015-11-29T00:00:00",
          "2015-11-30T00:00:00",
          "2015-12-01T00:00:00",
          "2015-12-02T00:00:00",
          "2015-12-03T00:00:00",
          "2015-12-04T00:00:00",
          "2015-12-05T00:00:00",
          "2015-12-06T00:00:00",
          "2015-12-07T00:00:00",
          "2015-12-08T00:00:00",
          "2015-12-09T00:00:00",
          "2015-12-10T00:00:00",
          "2015-12-11T00:00:00",
          "2015-12-12T00:00:00",
          "2015-12-13T00:00:00",
          "2015-12-14T00:00:00",
          "2015-12-15T00:00:00",
          "2015-12-16T00:00:00",
          "2015-12-17T00:00:00",
          "2015-12-18T00:00:00",
          "2015-12-19T00:00:00",
          "2015-12-20T00:00:00",
          "2015-12-21T00:00:00",
          "2015-12-22T00:00:00",
          "2015-12-23T00:00:00",
          "2015-12-24T00:00:00",
          "2015-12-25T00:00:00",
          "2015-12-26T00:00:00",
          "2015-12-27T00:00:00",
          "2015-12-28T00:00:00",
          "2015-12-29T00:00:00",
          "2015-12-30T00:00:00",
          "2015-12-31T00:00:00"
         ],
         "xaxis": "x",
         "y": [
          328,
          112,
          96,
          137,
          126,
          144,
          97,
          339,
          136,
          50,
          94,
          197,
          64,
          81,
          27,
          19,
          7,
          39,
          27,
          34,
          43,
          33,
          54,
          110,
          49,
          1288,
          2513,
          648,
          31,
          22,
          75,
          1527,
          2025,
          452,
          126,
          169,
          135,
          16,
          358,
          939,
          113,
          12,
          4,
          1,
          378,
          1138,
          946,
          597,
          47,
          22,
          183,
          766,
          539,
          1130,
          588,
          919,
          608,
          680,
          1029,
          1289,
          376,
          645,
          998,
          2161,
          228,
          8,
          31,
          30,
          71,
          75,
          10,
          2,
          12,
          9,
          8,
          2,
          4,
          10,
          309,
          12,
          17,
          435,
          20,
          6,
          33,
          19,
          15,
          13,
          6,
          10,
          18,
          32,
          20,
          8,
          13,
          10,
          13,
          32,
          432,
          67,
          5,
          5,
          117,
          28,
          9,
          138,
          212,
          26,
          32,
          180,
          77,
          17,
          5,
          156,
          23,
          40,
          66,
          7,
          1,
          2,
          5,
          5,
          11,
          10,
          151,
          24,
          76,
          116,
          717,
          155,
          14,
          16,
          3,
          9,
          5,
          54,
          79,
          26,
          13,
          18,
          12,
          71,
          9,
          295,
          326,
          226,
          55,
          63,
          108,
          106,
          214,
          32,
          29,
          7,
          27,
          4,
          77,
          193,
          129,
          47,
          99,
          92,
          39,
          57,
          585,
          450,
          280,
          87,
          20,
          101,
          56,
          260,
          81,
          93,
          88,
          53,
          61,
          23,
          10,
          31,
          54,
          16,
          7,
          4,
          10,
          79,
          52,
          38,
          66,
          21,
          3,
          1,
          70,
          76,
          27,
          5,
          19,
          81,
          37,
          22,
          23,
          15,
          16,
          1,
          5,
          7,
          7,
          28,
          5,
          50,
          37,
          41,
          197,
          48,
          10,
          7,
          22,
          8,
          6,
          9,
          107,
          28,
          10,
          25,
          24,
          43,
          19,
          71,
          107,
          111,
          202,
          27,
          10,
          13,
          14,
          11,
          2,
          31,
          25,
          7,
          2,
          73,
          4,
          1,
          22,
          16,
          5,
          1,
          3,
          172,
          11,
          32,
          11,
          3,
          23,
          1,
          9,
          1,
          61,
          96,
          12,
          1,
          3,
          1,
          3,
          3,
          5,
          2,
          1,
          2,
          19,
          97,
          60,
          59,
          97,
          36,
          4,
          3,
          5,
          24,
          76,
          12,
          6,
          1,
          10,
          172,
          251,
          175,
          27,
          60,
          723,
          228,
          47,
          11,
          4,
          8,
          33,
          27,
          34,
          30,
          24,
          32,
          61,
          12,
          48,
          32,
          130,
          34,
          36,
          22,
          14,
          137,
          85,
          69,
          469,
          33,
          12,
          72,
          21,
          72,
          102,
          61,
          100,
          217,
          53,
          269,
          941,
          1831,
          433,
          171,
          20
         ],
         "yaxis": "y"
        },
        {
         "hovertemplate": "National Air Systemancellation Reasons=National Air System<br>Date=%{x}<br>National Air Systemancellation frequency=%{y}<extra></extra>",
         "legendgroup": "National Air System",
         "line": {
          "color": "Gold",
          "dash": "solid"
         },
         "marker": {
          "symbol": "circle"
         },
         "mode": "lines",
         "name": "National Air System",
         "orientation": "v",
         "showlegend": true,
         "type": "scatter",
         "x": [
          "2015-01-01T00:00:00",
          "2015-01-02T00:00:00",
          "2015-01-03T00:00:00",
          "2015-01-04T00:00:00",
          "2015-01-05T00:00:00",
          "2015-01-06T00:00:00",
          "2015-01-07T00:00:00",
          "2015-01-08T00:00:00",
          "2015-01-09T00:00:00",
          "2015-01-10T00:00:00",
          "2015-01-11T00:00:00",
          "2015-01-12T00:00:00",
          "2015-01-13T00:00:00",
          "2015-01-14T00:00:00",
          "2015-01-15T00:00:00",
          "2015-01-16T00:00:00",
          "2015-01-17T00:00:00",
          "2015-01-18T00:00:00",
          "2015-01-19T00:00:00",
          "2015-01-20T00:00:00",
          "2015-01-21T00:00:00",
          "2015-01-22T00:00:00",
          "2015-01-23T00:00:00",
          "2015-01-24T00:00:00",
          "2015-01-25T00:00:00",
          "2015-01-26T00:00:00",
          "2015-01-27T00:00:00",
          "2015-01-28T00:00:00",
          "2015-01-29T00:00:00",
          "2015-01-30T00:00:00",
          "2015-01-31T00:00:00",
          "2015-02-01T00:00:00",
          "2015-02-02T00:00:00",
          "2015-02-03T00:00:00",
          "2015-02-04T00:00:00",
          "2015-02-05T00:00:00",
          "2015-02-06T00:00:00",
          "2015-02-07T00:00:00",
          "2015-02-08T00:00:00",
          "2015-02-09T00:00:00",
          "2015-02-10T00:00:00",
          "2015-02-11T00:00:00",
          "2015-02-12T00:00:00",
          "2015-02-13T00:00:00",
          "2015-02-14T00:00:00",
          "2015-02-15T00:00:00",
          "2015-02-16T00:00:00",
          "2015-02-17T00:00:00",
          "2015-02-18T00:00:00",
          "2015-02-19T00:00:00",
          "2015-02-20T00:00:00",
          "2015-02-21T00:00:00",
          "2015-02-22T00:00:00",
          "2015-02-23T00:00:00",
          "2015-02-24T00:00:00",
          "2015-02-25T00:00:00",
          "2015-02-26T00:00:00",
          "2015-02-27T00:00:00",
          "2015-02-28T00:00:00",
          "2015-03-01T00:00:00",
          "2015-03-02T00:00:00",
          "2015-03-03T00:00:00",
          "2015-03-04T00:00:00",
          "2015-03-05T00:00:00",
          "2015-03-06T00:00:00",
          "2015-03-07T00:00:00",
          "2015-03-08T00:00:00",
          "2015-03-09T00:00:00",
          "2015-03-10T00:00:00",
          "2015-03-11T00:00:00",
          "2015-03-12T00:00:00",
          "2015-03-13T00:00:00",
          "2015-03-14T00:00:00",
          "2015-03-15T00:00:00",
          "2015-03-16T00:00:00",
          "2015-03-17T00:00:00",
          "2015-03-18T00:00:00",
          "2015-03-19T00:00:00",
          "2015-03-20T00:00:00",
          "2015-03-21T00:00:00",
          "2015-03-22T00:00:00",
          "2015-03-23T00:00:00",
          "2015-03-24T00:00:00",
          "2015-03-26T00:00:00",
          "2015-03-27T00:00:00",
          "2015-03-28T00:00:00",
          "2015-03-29T00:00:00",
          "2015-03-30T00:00:00",
          "2015-03-31T00:00:00",
          "2015-04-01T00:00:00",
          "2015-04-02T00:00:00",
          "2015-04-03T00:00:00",
          "2015-04-04T00:00:00",
          "2015-04-05T00:00:00",
          "2015-04-06T00:00:00",
          "2015-04-07T00:00:00",
          "2015-04-08T00:00:00",
          "2015-04-09T00:00:00",
          "2015-04-10T00:00:00",
          "2015-04-11T00:00:00",
          "2015-04-12T00:00:00",
          "2015-04-14T00:00:00",
          "2015-04-15T00:00:00",
          "2015-04-16T00:00:00",
          "2015-04-17T00:00:00",
          "2015-04-18T00:00:00",
          "2015-04-19T00:00:00",
          "2015-04-20T00:00:00",
          "2015-04-21T00:00:00",
          "2015-04-22T00:00:00",
          "2015-04-23T00:00:00",
          "2015-04-24T00:00:00",
          "2015-04-25T00:00:00",
          "2015-04-26T00:00:00",
          "2015-04-27T00:00:00",
          "2015-04-29T00:00:00",
          "2015-05-02T00:00:00",
          "2015-05-03T00:00:00",
          "2015-05-04T00:00:00",
          "2015-05-05T00:00:00",
          "2015-05-06T00:00:00",
          "2015-05-07T00:00:00",
          "2015-05-08T00:00:00",
          "2015-05-09T00:00:00",
          "2015-05-10T00:00:00",
          "2015-05-11T00:00:00",
          "2015-05-12T00:00:00",
          "2015-05-14T00:00:00",
          "2015-05-15T00:00:00",
          "2015-05-16T00:00:00",
          "2015-05-17T00:00:00",
          "2015-05-18T00:00:00",
          "2015-05-19T00:00:00",
          "2015-05-20T00:00:00",
          "2015-05-21T00:00:00",
          "2015-05-22T00:00:00",
          "2015-05-23T00:00:00",
          "2015-05-24T00:00:00",
          "2015-05-25T00:00:00",
          "2015-05-26T00:00:00",
          "2015-05-27T00:00:00",
          "2015-05-28T00:00:00",
          "2015-05-29T00:00:00",
          "2015-05-30T00:00:00",
          "2015-05-31T00:00:00",
          "2015-06-01T00:00:00",
          "2015-06-02T00:00:00",
          "2015-06-03T00:00:00",
          "2015-06-04T00:00:00",
          "2015-06-05T00:00:00",
          "2015-06-06T00:00:00",
          "2015-06-07T00:00:00",
          "2015-06-08T00:00:00",
          "2015-06-09T00:00:00",
          "2015-06-10T00:00:00",
          "2015-06-11T00:00:00",
          "2015-06-12T00:00:00",
          "2015-06-13T00:00:00",
          "2015-06-14T00:00:00",
          "2015-06-15T00:00:00",
          "2015-06-16T00:00:00",
          "2015-06-17T00:00:00",
          "2015-06-18T00:00:00",
          "2015-06-19T00:00:00",
          "2015-06-20T00:00:00",
          "2015-06-21T00:00:00",
          "2015-06-22T00:00:00",
          "2015-06-23T00:00:00",
          "2015-06-24T00:00:00",
          "2015-06-25T00:00:00",
          "2015-06-26T00:00:00",
          "2015-06-27T00:00:00",
          "2015-06-28T00:00:00",
          "2015-06-29T00:00:00",
          "2015-06-30T00:00:00",
          "2015-07-01T00:00:00",
          "2015-07-02T00:00:00",
          "2015-07-03T00:00:00",
          "2015-07-05T00:00:00",
          "2015-07-06T00:00:00",
          "2015-07-07T00:00:00",
          "2015-07-08T00:00:00",
          "2015-07-09T00:00:00",
          "2015-07-10T00:00:00",
          "2015-07-11T00:00:00",
          "2015-07-12T00:00:00",
          "2015-07-13T00:00:00",
          "2015-07-14T00:00:00",
          "2015-07-15T00:00:00",
          "2015-07-16T00:00:00",
          "2015-07-17T00:00:00",
          "2015-07-18T00:00:00",
          "2015-07-19T00:00:00",
          "2015-07-20T00:00:00",
          "2015-07-21T00:00:00",
          "2015-07-22T00:00:00",
          "2015-07-23T00:00:00",
          "2015-07-24T00:00:00",
          "2015-07-25T00:00:00",
          "2015-07-26T00:00:00",
          "2015-07-27T00:00:00",
          "2015-07-28T00:00:00",
          "2015-07-29T00:00:00",
          "2015-07-30T00:00:00",
          "2015-07-31T00:00:00",
          "2015-08-01T00:00:00",
          "2015-08-02T00:00:00",
          "2015-08-03T00:00:00",
          "2015-08-04T00:00:00",
          "2015-08-05T00:00:00",
          "2015-08-06T00:00:00",
          "2015-08-07T00:00:00",
          "2015-08-08T00:00:00",
          "2015-08-09T00:00:00",
          "2015-08-10T00:00:00",
          "2015-08-11T00:00:00",
          "2015-08-12T00:00:00",
          "2015-08-13T00:00:00",
          "2015-08-14T00:00:00",
          "2015-08-15T00:00:00",
          "2015-08-16T00:00:00",
          "2015-08-17T00:00:00",
          "2015-08-18T00:00:00",
          "2015-08-19T00:00:00",
          "2015-08-20T00:00:00",
          "2015-08-21T00:00:00",
          "2015-08-22T00:00:00",
          "2015-08-23T00:00:00",
          "2015-08-24T00:00:00",
          "2015-08-25T00:00:00",
          "2015-08-26T00:00:00",
          "2015-08-27T00:00:00",
          "2015-08-28T00:00:00",
          "2015-08-29T00:00:00",
          "2015-08-30T00:00:00",
          "2015-08-31T00:00:00",
          "2015-09-01T00:00:00",
          "2015-09-02T00:00:00",
          "2015-09-03T00:00:00",
          "2015-09-04T00:00:00",
          "2015-09-05T00:00:00",
          "2015-09-07T00:00:00",
          "2015-09-08T00:00:00",
          "2015-09-09T00:00:00",
          "2015-09-10T00:00:00",
          "2015-09-11T00:00:00",
          "2015-09-13T00:00:00",
          "2015-09-14T00:00:00",
          "2015-09-15T00:00:00",
          "2015-09-16T00:00:00",
          "2015-09-17T00:00:00",
          "2015-09-18T00:00:00",
          "2015-09-19T00:00:00",
          "2015-09-20T00:00:00",
          "2015-09-21T00:00:00",
          "2015-09-22T00:00:00",
          "2015-09-23T00:00:00",
          "2015-09-24T00:00:00",
          "2015-09-25T00:00:00",
          "2015-09-26T00:00:00",
          "2015-09-28T00:00:00",
          "2015-09-30T00:00:00",
          "2015-11-01T00:00:00",
          "2015-11-02T00:00:00",
          "2015-11-03T00:00:00",
          "2015-11-04T00:00:00",
          "2015-11-05T00:00:00",
          "2015-11-06T00:00:00",
          "2015-11-07T00:00:00",
          "2015-11-08T00:00:00",
          "2015-11-09T00:00:00",
          "2015-11-10T00:00:00",
          "2015-11-11T00:00:00",
          "2015-11-12T00:00:00",
          "2015-11-13T00:00:00",
          "2015-11-14T00:00:00",
          "2015-11-15T00:00:00",
          "2015-11-16T00:00:00",
          "2015-11-17T00:00:00",
          "2015-11-18T00:00:00",
          "2015-11-19T00:00:00",
          "2015-11-20T00:00:00",
          "2015-11-21T00:00:00",
          "2015-11-22T00:00:00",
          "2015-11-23T00:00:00",
          "2015-11-24T00:00:00",
          "2015-11-27T00:00:00",
          "2015-11-28T00:00:00",
          "2015-11-29T00:00:00",
          "2015-12-01T00:00:00",
          "2015-12-02T00:00:00",
          "2015-12-03T00:00:00",
          "2015-12-06T00:00:00",
          "2015-12-07T00:00:00",
          "2015-12-08T00:00:00",
          "2015-12-09T00:00:00",
          "2015-12-10T00:00:00",
          "2015-12-11T00:00:00",
          "2015-12-13T00:00:00",
          "2015-12-14T00:00:00",
          "2015-12-15T00:00:00",
          "2015-12-16T00:00:00",
          "2015-12-17T00:00:00",
          "2015-12-18T00:00:00",
          "2015-12-19T00:00:00",
          "2015-12-20T00:00:00",
          "2015-12-21T00:00:00",
          "2015-12-22T00:00:00",
          "2015-12-23T00:00:00",
          "2015-12-24T00:00:00",
          "2015-12-26T00:00:00",
          "2015-12-27T00:00:00",
          "2015-12-28T00:00:00",
          "2015-12-29T00:00:00",
          "2015-12-30T00:00:00",
          "2015-12-31T00:00:00"
         ],
         "xaxis": "x",
         "y": [
          57,
          43,
          83,
          121,
          22,
          76,
          96,
          239,
          146,
          83,
          186,
          92,
          11,
          6,
          6,
          9,
          2,
          31,
          6,
          7,
          17,
          4,
          2,
          72,
          85,
          188,
          276,
          66,
          10,
          43,
          2,
          365,
          508,
          46,
          41,
          96,
          56,
          8,
          58,
          197,
          19,
          16,
          1,
          3,
          43,
          163,
          119,
          103,
          16,
          21,
          28,
          102,
          76,
          36,
          7,
          61,
          52,
          3,
          10,
          81,
          53,
          158,
          95,
          454,
          74,
          3,
          9,
          18,
          11,
          4,
          6,
          2,
          3,
          100,
          10,
          73,
          113,
          2,
          198,
          16,
          10,
          60,
          7,
          56,
          13,
          4,
          1,
          2,
          3,
          3,
          29,
          4,
          55,
          5,
          3,
          1,
          27,
          325,
          54,
          5,
          2,
          2,
          4,
          30,
          8,
          4,
          1,
          310,
          12,
          20,
          5,
          7,
          12,
          2,
          2,
          3,
          1,
          2,
          13,
          8,
          18,
          3,
          51,
          3,
          14,
          87,
          23,
          14,
          21,
          3,
          22,
          122,
          22,
          10,
          48,
          4,
          1,
          2,
          2,
          7,
          169,
          23,
          10,
          21,
          182,
          226,
          33,
          6,
          10,
          13,
          6,
          58,
          200,
          47,
          6,
          9,
          82,
          12,
          24,
          419,
          190,
          132,
          45,
          17,
          55,
          10,
          238,
          190,
          24,
          8,
          10,
          17,
          6,
          6,
          77,
          55,
          2,
          2,
          4,
          79,
          92,
          54,
          86,
          33,
          5,
          15,
          176,
          173,
          100,
          7,
          5,
          51,
          37,
          22,
          76,
          8,
          3,
          54,
          3,
          11,
          7,
          1,
          2,
          162,
          10,
          23,
          16,
          7,
          11,
          10,
          7,
          10,
          4,
          19,
          166,
          148,
          10,
          26,
          5,
          339,
          26,
          103,
          17,
          26,
          304,
          25,
          7,
          8,
          7,
          17,
          6,
          2,
          6,
          4,
          1,
          16,
          3,
          10,
          9,
          43,
          1,
          1,
          46,
          9,
          251,
          4,
          2,
          6,
          4,
          8,
          11,
          23,
          6,
          2,
          29,
          3,
          1,
          1,
          1,
          1,
          2,
          5,
          34,
          16,
          18,
          30,
          24,
          53,
          2,
          10,
          6,
          35,
          119,
          58,
          12,
          13,
          9,
          12,
          46,
          282,
          178,
          21,
          162,
          12,
          1,
          3,
          3,
          1,
          4,
          36,
          56,
          21,
          1,
          32,
          8,
          1,
          6,
          1,
          6,
          85,
          29,
          1,
          54,
          45,
          3,
          22,
          41,
          41,
          58,
          12,
          10,
          25,
          172,
          99,
          5,
          1
         ],
         "yaxis": "y"
        },
        {
         "hovertemplate": "Cancellation Reasons=Security<br>Securityate=%{x}<br>Cancellation frequency=%{y}<extra></extra>",
         "legendgroup": "Security",
         "line": {
          "color": "Red",
          "dash": "solid"
         },
         "marker": {
          "symbol": "circle"
         },
         "mode": "lines",
         "name": "Security",
         "orientation": "v",
         "showlegend": true,
         "type": "scatter",
         "x": [
          "2015-01-10T00:00:00",
          "2015-02-02T00:00:00",
          "2015-03-20T00:00:00",
          "2015-05-27T00:00:00",
          "2015-07-07T00:00:00",
          "2015-08-25T00:00:00",
          "2015-11-04T00:00:00",
          "2015-11-09T00:00:00",
          "2015-11-10T00:00:00"
         ],
         "xaxis": "x",
         "y": [
          1,
          1,
          5,
          1,
          1,
          2,
          7,
          3,
          1
         ],
         "yaxis": "y"
        }
       ],
       "layout": {
        "height": 800,
        "legend": {
         "title": {
          "text": "Cancellation Reasons"
         },
         "tracegroupgap": 0
        },
        "margin": {
         "t": 60
        },
        "plot_bgcolor": "white",
        "template": {
         "data": {
          "bar": [
           {
            "error_x": {
             "color": "#2a3f5f"
            },
            "error_y": {
             "color": "#2a3f5f"
            },
            "marker": {
             "line": {
              "color": "#E5ECF6",
              "width": 0.5
             },
             "pattern": {
              "fillmode": "overlay",
              "size": 10,
              "solidity": 0.2
             }
            },
            "type": "bar"
           }
          ],
          "barpolar": [
           {
            "marker": {
             "line": {
              "color": "#E5ECF6",
              "width": 0.5
             },
             "pattern": {
              "fillmode": "overlay",
              "size": 10,
              "solidity": 0.2
             }
            },
            "type": "barpolar"
           }
          ],
          "carpet": [
           {
            "aaxis": {
             "endlinecolor": "#2a3f5f",
             "gridcolor": "white",
             "linecolor": "white",
             "minorgridcolor": "white",
             "startlinecolor": "#2a3f5f"
            },
            "baxis": {
             "endlinecolor": "#2a3f5f",
             "gridcolor": "white",
             "linecolor": "white",
             "minorgridcolor": "white",
             "startlinecolor": "#2a3f5f"
            },
            "type": "carpet"
           }
          ],
          "choropleth": [
           {
            "colorbar": {
             "outlinewidth": 0,
             "ticks": ""
            },
            "type": "choropleth"
           }
          ],
          "contour": [
           {
            "colorbar": {
             "outlinewidth": 0,
             "ticks": ""
            },
            "colorscale": [
             [
              0,
              "#0d0887"
             ],
             [
              0.1111111111111111,
              "#46039f"
             ],
             [
              0.2222222222222222,
              "#7201a8"
             ],
             [
              0.3333333333333333,
              "#9c179e"
             ],
             [
              0.4444444444444444,
              "#bd3786"
             ],
             [
              0.5555555555555556,
              "#d8576b"
             ],
             [
              0.6666666666666666,
              "#ed7953"
             ],
             [
              0.7777777777777778,
              "#fb9f3a"
             ],
             [
              0.8888888888888888,
              "#fdca26"
             ],
             [
              1,
              "#f0f921"
             ]
            ],
            "type": "contour"
           }
          ],
          "contourcarpet": [
           {
            "colorbar": {
             "outlinewidth": 0,
             "ticks": ""
            },
            "type": "contourcarpet"
           }
          ],
          "heatmap": [
           {
            "colorbar": {
             "outlinewidth": 0,
             "ticks": ""
            },
            "colorscale": [
             [
              0,
              "#0d0887"
             ],
             [
              0.1111111111111111,
              "#46039f"
             ],
             [
              0.2222222222222222,
              "#7201a8"
             ],
             [
              0.3333333333333333,
              "#9c179e"
             ],
             [
              0.4444444444444444,
              "#bd3786"
             ],
             [
              0.5555555555555556,
              "#d8576b"
             ],
             [
              0.6666666666666666,
              "#ed7953"
             ],
             [
              0.7777777777777778,
              "#fb9f3a"
             ],
             [
              0.8888888888888888,
              "#fdca26"
             ],
             [
              1,
              "#f0f921"
             ]
            ],
            "type": "heatmap"
           }
          ],
          "heatmapgl": [
           {
            "colorbar": {
             "outlinewidth": 0,
             "ticks": ""
            },
            "colorscale": [
             [
              0,
              "#0d0887"
             ],
             [
              0.1111111111111111,
              "#46039f"
             ],
             [
              0.2222222222222222,
              "#7201a8"
             ],
             [
              0.3333333333333333,
              "#9c179e"
             ],
             [
              0.4444444444444444,
              "#bd3786"
             ],
             [
              0.5555555555555556,
              "#d8576b"
             ],
             [
              0.6666666666666666,
              "#ed7953"
             ],
             [
              0.7777777777777778,
              "#fb9f3a"
             ],
             [
              0.8888888888888888,
              "#fdca26"
             ],
             [
              1,
              "#f0f921"
             ]
            ],
            "type": "heatmapgl"
           }
          ],
          "histogram": [
           {
            "marker": {
             "pattern": {
              "fillmode": "overlay",
              "size": 10,
              "solidity": 0.2
             }
            },
            "type": "histogram"
           }
          ],
          "histogram2d": [
           {
            "colorbar": {
             "outlinewidth": 0,
             "ticks": ""
            },
            "colorscale": [
             [
              0,
              "#0d0887"
             ],
             [
              0.1111111111111111,
              "#46039f"
             ],
             [
              0.2222222222222222,
              "#7201a8"
             ],
             [
              0.3333333333333333,
              "#9c179e"
             ],
             [
              0.4444444444444444,
              "#bd3786"
             ],
             [
              0.5555555555555556,
              "#d8576b"
             ],
             [
              0.6666666666666666,
              "#ed7953"
             ],
             [
              0.7777777777777778,
              "#fb9f3a"
             ],
             [
              0.8888888888888888,
              "#fdca26"
             ],
             [
              1,
              "#f0f921"
             ]
            ],
            "type": "histogram2d"
           }
          ],
          "histogram2dcontour": [
           {
            "colorbar": {
             "outlinewidth": 0,
             "ticks": ""
            },
            "colorscale": [
             [
              0,
              "#0d0887"
             ],
             [
              0.1111111111111111,
              "#46039f"
             ],
             [
              0.2222222222222222,
              "#7201a8"
             ],
             [
              0.3333333333333333,
              "#9c179e"
             ],
             [
              0.4444444444444444,
              "#bd3786"
             ],
             [
              0.5555555555555556,
              "#d8576b"
             ],
             [
              0.6666666666666666,
              "#ed7953"
             ],
             [
              0.7777777777777778,
              "#fb9f3a"
             ],
             [
              0.8888888888888888,
              "#fdca26"
             ],
             [
              1,
              "#f0f921"
             ]
            ],
            "type": "histogram2dcontour"
           }
          ],
          "mesh3d": [
           {
            "colorbar": {
             "outlinewidth": 0,
             "ticks": ""
            },
            "type": "mesh3d"
           }
          ],
          "parcoords": [
           {
            "line": {
             "colorbar": {
              "outlinewidth": 0,
              "ticks": ""
             }
            },
            "type": "parcoords"
           }
          ],
          "pie": [
           {
            "automargin": true,
            "type": "pie"
           }
          ],
          "scatter": [
           {
            "fillpattern": {
             "fillmode": "overlay",
             "size": 10,
             "solidity": 0.2
            },
            "type": "scatter"
           }
          ],
          "scatter3d": [
           {
            "line": {
             "colorbar": {
              "outlinewidth": 0,
              "ticks": ""
             }
            },
            "marker": {
             "colorbar": {
              "outlinewidth": 0,
              "ticks": ""
             }
            },
            "type": "scatter3d"
           }
          ],
          "scattercarpet": [
           {
            "marker": {
             "colorbar": {
              "outlinewidth": 0,
              "ticks": ""
             }
            },
            "type": "scattercarpet"
           }
          ],
          "scattergeo": [
           {
            "marker": {
             "colorbar": {
              "outlinewidth": 0,
              "ticks": ""
             }
            },
            "type": "scattergeo"
           }
          ],
          "scattergl": [
           {
            "marker": {
             "colorbar": {
              "outlinewidth": 0,
              "ticks": ""
             }
            },
            "type": "scattergl"
           }
          ],
          "scattermapbox": [
           {
            "marker": {
             "colorbar": {
              "outlinewidth": 0,
              "ticks": ""
             }
            },
            "type": "scattermapbox"
           }
          ],
          "scatterpolar": [
           {
            "marker": {
             "colorbar": {
              "outlinewidth": 0,
              "ticks": ""
             }
            },
            "type": "scatterpolar"
           }
          ],
          "scatterpolargl": [
           {
            "marker": {
             "colorbar": {
              "outlinewidth": 0,
              "ticks": ""
             }
            },
            "type": "scatterpolargl"
           }
          ],
          "scatterternary": [
           {
            "marker": {
             "colorbar": {
              "outlinewidth": 0,
              "ticks": ""
             }
            },
            "type": "scatterternary"
           }
          ],
          "surface": [
           {
            "colorbar": {
             "outlinewidth": 0,
             "ticks": ""
            },
            "colorscale": [
             [
              0,
              "#0d0887"
             ],
             [
              0.1111111111111111,
              "#46039f"
             ],
             [
              0.2222222222222222,
              "#7201a8"
             ],
             [
              0.3333333333333333,
              "#9c179e"
             ],
             [
              0.4444444444444444,
              "#bd3786"
             ],
             [
              0.5555555555555556,
              "#d8576b"
             ],
             [
              0.6666666666666666,
              "#ed7953"
             ],
             [
              0.7777777777777778,
              "#fb9f3a"
             ],
             [
              0.8888888888888888,
              "#fdca26"
             ],
             [
              1,
              "#f0f921"
             ]
            ],
            "type": "surface"
           }
          ],
          "table": [
           {
            "cells": {
             "fill": {
              "color": "#EBF0F8"
             },
             "line": {
              "color": "white"
             }
            },
            "header": {
             "fill": {
              "color": "#C8D4E3"
             },
             "line": {
              "color": "white"
             }
            },
            "type": "table"
           }
          ]
         },
         "layout": {
          "annotationdefaults": {
           "arrowcolor": "#2a3f5f",
           "arrowhead": 0,
           "arrowwidth": 1
          },
          "autotypenumbers": "strict",
          "coloraxis": {
           "colorbar": {
            "outlinewidth": 0,
            "ticks": ""
           }
          },
          "colorscale": {
           "diverging": [
            [
             0,
             "#8e0152"
            ],
            [
             0.1,
             "#c51b7d"
            ],
            [
             0.2,
             "#de77ae"
            ],
            [
             0.3,
             "#f1b6da"
            ],
            [
             0.4,
             "#fde0ef"
            ],
            [
             0.5,
             "#f7f7f7"
            ],
            [
             0.6,
             "#e6f5d0"
            ],
            [
             0.7,
             "#b8e186"
            ],
            [
             0.8,
             "#7fbc41"
            ],
            [
             0.9,
             "#4d9221"
            ],
            [
             1,
             "#276419"
            ]
           ],
           "sequential": [
            [
             0,
             "#0d0887"
            ],
            [
             0.1111111111111111,
             "#46039f"
            ],
            [
             0.2222222222222222,
             "#7201a8"
            ],
            [
             0.3333333333333333,
             "#9c179e"
            ],
            [
             0.4444444444444444,
             "#bd3786"
            ],
            [
             0.5555555555555556,
             "#d8576b"
            ],
            [
             0.6666666666666666,
             "#ed7953"
            ],
            [
             0.7777777777777778,
             "#fb9f3a"
            ],
            [
             0.8888888888888888,
             "#fdca26"
            ],
            [
             1,
             "#f0f921"
            ]
           ],
           "sequentialminus": [
            [
             0,
             "#0d0887"
            ],
            [
             0.1111111111111111,
             "#46039f"
            ],
            [
             0.2222222222222222,
             "#7201a8"
            ],
            [
             0.3333333333333333,
             "#9c179e"
            ],
            [
             0.4444444444444444,
             "#bd3786"
            ],
            [
             0.5555555555555556,
             "#d8576b"
            ],
            [
             0.6666666666666666,
             "#ed7953"
            ],
            [
             0.7777777777777778,
             "#fb9f3a"
            ],
            [
             0.8888888888888888,
             "#fdca26"
            ],
            [
             1,
             "#f0f921"
            ]
           ]
          },
          "colorway": [
           "#636efa",
           "#EF553B",
           "#00cc96",
           "#ab63fa",
           "#FFA15A",
           "#19d3f3",
           "#FF6692",
           "#B6E880",
           "#FF97FF",
           "#FECB52"
          ],
          "font": {
           "color": "#2a3f5f"
          },
          "geo": {
           "bgcolor": "white",
           "lakecolor": "white",
           "landcolor": "#E5ECF6",
           "showlakes": true,
           "showland": true,
           "subunitcolor": "white"
          },
          "hoverlabel": {
           "align": "left"
          },
          "hovermode": "closest",
          "mapbox": {
           "style": "light"
          },
          "paper_bgcolor": "white",
          "plot_bgcolor": "#E5ECF6",
          "polar": {
           "angularaxis": {
            "gridcolor": "white",
            "linecolor": "white",
            "ticks": ""
           },
           "bgcolor": "#E5ECF6",
           "radialaxis": {
            "gridcolor": "white",
            "linecolor": "white",
            "ticks": ""
           }
          },
          "scene": {
           "xaxis": {
            "backgroundcolor": "#E5ECF6",
            "gridcolor": "white",
            "gridwidth": 2,
            "linecolor": "white",
            "showbackground": true,
            "ticks": "",
            "zerolinecolor": "white"
           },
           "yaxis": {
            "backgroundcolor": "#E5ECF6",
            "gridcolor": "white",
            "gridwidth": 2,
            "linecolor": "white",
            "showbackground": true,
            "ticks": "",
            "zerolinecolor": "white"
           },
           "zaxis": {
            "backgroundcolor": "#E5ECF6",
            "gridcolor": "white",
            "gridwidth": 2,
            "linecolor": "white",
            "showbackground": true,
            "ticks": "",
            "zerolinecolor": "white"
           }
          },
          "shapedefaults": {
           "line": {
            "color": "#2a3f5f"
           }
          },
          "ternary": {
           "aaxis": {
            "gridcolor": "white",
            "linecolor": "white",
            "ticks": ""
           },
           "baxis": {
            "gridcolor": "white",
            "linecolor": "white",
            "ticks": ""
           },
           "bgcolor": "#E5ECF6",
           "caxis": {
            "gridcolor": "white",
            "linecolor": "white",
            "ticks": ""
           }
          },
          "title": {
           "x": 0.05
          },
          "xaxis": {
           "automargin": true,
           "gridcolor": "white",
           "linecolor": "white",
           "ticks": "",
           "title": {
            "standoff": 15
           },
           "zerolinecolor": "white",
           "zerolinewidth": 2
          },
          "yaxis": {
           "automargin": true,
           "gridcolor": "white",
           "linecolor": "white",
           "ticks": "",
           "title": {
            "standoff": 15
           },
           "zerolinecolor": "white",
           "zerolinewidth": 2
          }
         }
        },
        "title": {
         "text": "Conditions led to Cancellations in Airlines <br>(Click legend to toggle traces) ",
         "x": 0.5
        },
        "width": 1200,
        "xaxis": {
         "anchor": "y",
         "domain": [
          0,
          1
         ],
         "title": {
          "text": "Date"
         }
        },
        "yaxis": {
         "anchor": "x",
         "domain": [
          0,
          1
         ],
         "title": {
          "text": "Cancellation frequency"
         }
        }
       }
      }
     },
     "metadata": {},
     "output_type": "display_data"
    }
   ],
   "source": [
    "color_map = {'A': 'MidnightBlue' , 'B': 'Turquoise', 'C': 'Gold', 'D': 'Red'}\n",
    "\n",
    "fig = px.line(x=df_date['DATE'], y=df_date['CANCELLED'],\n",
    "              # Set the colors to use your color map\n",
    "              color= df_date['CANCELLATION_REASON'], color_discrete_map=color_map,\n",
    "              # change Axis and legend titles \n",
    "              labels=dict(x=\"Date\", y=\"Cancellation frequency\", color=\"Cancellation Reasons\"),\n",
    "              width=1200, height=800)\n",
    "\n",
    "\n",
    "# Create the legend\n",
    "my_legend = {'A': 'Airline/Carrier' , 'B': 'Weather', 'C': 'National Air System', 'D': 'Security'}\n",
    "\n",
    "\n",
    "fig.for_each_trace(lambda t: t.update(name = my_legend[t.name],\n",
    "                                      legendgroup = my_legend[t.name],\n",
    "                                      hovertemplate = t.hovertemplate.replace(t.name, my_legend[t.name])))\n",
    "\n",
    "\n",
    "fig.update_layout(plot_bgcolor='white',\n",
    "                  # Add title\n",
    "                  title=\"Conditions led to Cancellations in Airlines <br>(Click legend to toggle traces) \",title_x=0.5)\n",
    "\n",
    "# Show the plot\n",
    "fig.show()"
   ]
  },
  {
   "attachments": {},
   "cell_type": "markdown",
   "id": "5e664fb0",
   "metadata": {},
   "source": [
    "### Reflection \n",
    "> Based on this time series data, what can we tell about how the reasons for cancellations changed throughout the year? What reasons caused the most and least? Is this what you expected? Enter your answer in the cell below to the right of the #.\n"
   ]
  },
  {
   "cell_type": "code",
   "execution_count": 27,
   "id": "0df676c5",
   "metadata": {},
   "outputs": [],
   "source": [
    "#"
   ]
  },
  {
   "attachments": {},
   "cell_type": "markdown",
   "id": "bb0b4fdd",
   "metadata": {},
   "source": [
    "# Which States have the most Weather Delays?"
   ]
  },
  {
   "attachments": {},
   "cell_type": "markdown",
   "id": "58638c66",
   "metadata": {},
   "source": [
    "## Delay Visualization (Weather Delay & AIR_SYSTEM_DELAY)"
   ]
  },
  {
   "attachments": {},
   "cell_type": "markdown",
   "id": "3f4d9d01",
   "metadata": {},
   "source": [
    "### Weather Delay by State"
   ]
  },
  {
   "cell_type": "code",
   "execution_count": 28,
   "id": "21e64bf5",
   "metadata": {},
   "outputs": [
    {
     "data": {
      "text/html": [
       "<div>\n",
       "<style scoped>\n",
       "    .dataframe tbody tr th:only-of-type {\n",
       "        vertical-align: middle;\n",
       "    }\n",
       "\n",
       "    .dataframe tbody tr th {\n",
       "        vertical-align: top;\n",
       "    }\n",
       "\n",
       "    .dataframe thead th {\n",
       "        text-align: right;\n",
       "    }\n",
       "</style>\n",
       "<table border=\"1\" class=\"dataframe\">\n",
       "  <thead>\n",
       "    <tr style=\"text-align: right;\">\n",
       "      <th></th>\n",
       "      <th>STATE_ORG</th>\n",
       "      <th>WEATHER_DELAY</th>\n",
       "    </tr>\n",
       "  </thead>\n",
       "  <tbody>\n",
       "    <tr>\n",
       "      <th>0</th>\n",
       "      <td>IL</td>\n",
       "      <td>5.688545</td>\n",
       "    </tr>\n",
       "    <tr>\n",
       "      <th>1</th>\n",
       "      <td>GA</td>\n",
       "      <td>5.371140</td>\n",
       "    </tr>\n",
       "    <tr>\n",
       "      <th>2</th>\n",
       "      <td>IA</td>\n",
       "      <td>4.999405</td>\n",
       "    </tr>\n",
       "    <tr>\n",
       "      <th>3</th>\n",
       "      <td>OK</td>\n",
       "      <td>4.937905</td>\n",
       "    </tr>\n",
       "    <tr>\n",
       "      <th>4</th>\n",
       "      <td>AR</td>\n",
       "      <td>4.936967</td>\n",
       "    </tr>\n",
       "  </tbody>\n",
       "</table>\n",
       "</div>"
      ],
      "text/plain": [
       "  STATE_ORG  WEATHER_DELAY\n",
       "0        IL       5.688545\n",
       "1        GA       5.371140\n",
       "2        IA       4.999405\n",
       "3        OK       4.937905\n",
       "4        AR       4.936967"
      ]
     },
     "execution_count": 28,
     "metadata": {},
     "output_type": "execute_result"
    }
   ],
   "source": [
    "\n",
    "df_weather = df_flights.groupby('STATE_ORG')\\\n",
    "            ['WEATHER_DELAY'].mean().reset_index()\n",
    "df_weather = df_weather.sort_values('WEATHER_DELAY',ascending = False).reset_index(drop= True)\n",
    "df_weather.head()\n"
   ]
  },
  {
   "attachments": {},
   "cell_type": "markdown",
   "id": "71ff560d",
   "metadata": {},
   "source": [
    "###  States choropleth map that shows Weather Delay rate variation in every state: <br> \n",
    "> Choropleth map is a type of statistical thematic map that uses intensity of color to correspond with an aggregate summary of a geographic characteristic (Weather Delay) "
   ]
  },
  {
   "cell_type": "code",
   "execution_count": 29,
   "id": "f9a18f5d",
   "metadata": {},
   "outputs": [
    {
     "data": {
      "application/vnd.plotly.v1+json": {
       "config": {
        "plotlyServerURL": "https://plot.ly"
       },
       "data": [
        {
         "coloraxis": "coloraxis",
         "geo": "geo",
         "hovertemplate": "STATE_ORG=%{location}<br>WEATHER_DELAY=%{z}<extra></extra>",
         "locationmode": "USA-states",
         "locations": [
          "IL",
          "GA",
          "IA",
          "OK",
          "AR",
          "WV",
          "KS",
          "ND",
          "WY",
          "TX",
          "VA",
          "NM",
          "NE",
          "CT",
          "MA",
          "SD",
          "MD",
          "NY",
          "IN",
          "FL",
          "TN",
          "RI",
          "WI",
          "LA",
          "NJ",
          "AK",
          "MI",
          "MO",
          "OH",
          "MT",
          "KY",
          "CO",
          "NC",
          "AL",
          "PA",
          "UT",
          "ME",
          "MN",
          "ID",
          "NH",
          "DE",
          "MS",
          "AZ",
          "SC",
          "VT",
          "NV",
          "WA",
          "HI",
          "CA",
          "OR",
          "VI",
          "PR",
          "GU",
          "AS"
         ],
         "name": "",
         "type": "choropleth",
         "z": [
          5.688545391625332,
          5.371140313692242,
          4.99940511600238,
          4.93790546802595,
          4.936967249887842,
          4.854716981132076,
          4.363323500491642,
          4.319910514541387,
          4.062068965517241,
          3.8304304651419385,
          3.6968283216371978,
          3.6057765391436534,
          3.4640562863260937,
          3.4190443451357857,
          3.328821545710722,
          3.316909294512878,
          3.294346159903407,
          3.2825734470910706,
          3.2174574209245743,
          3.181134705867709,
          3.0972780008924587,
          3.0128504672897196,
          2.938696870621205,
          2.848359597003358,
          2.6780200822754012,
          2.5803312629399584,
          2.5794054286945283,
          2.5684943739953563,
          2.506921241050119,
          2.4813895781637716,
          2.4652020279612845,
          2.403927486026396,
          2.2687177355091293,
          2.183787261419687,
          2.124987072086048,
          2.0460536168938144,
          2.0301932367149758,
          2.0078744236647155,
          1.9752535496957404,
          1.9399332591768632,
          1.864864864864865,
          1.7051397655545537,
          1.257855791883731,
          1.2373327928658289,
          1.2360655737704918,
          1.1512508451656525,
          1.1497877800809397,
          1.0083857442348008,
          0.9897995734219053,
          0.8692954104718811,
          0.8130081300813008,
          0.5358135556980971,
          0.10344827586206896,
          0
         ]
        }
       ],
       "layout": {
        "coloraxis": {
         "colorbar": {
          "title": {
           "text": "WEATHER_DELAY"
          }
         },
         "colorscale": [
          [
           0,
           "LightYellow"
          ],
          [
           0.25,
           "Gold"
          ],
          [
           0.5,
           "MediumAquamarine"
          ],
          [
           0.75,
           "Teal"
          ],
          [
           1,
           "MidnightBlue"
          ]
         ]
        },
        "geo": {
         "center": {},
         "domain": {
          "x": [
           0,
           1
          ],
          "y": [
           0,
           1
          ]
         },
         "scope": "usa"
        },
        "height": 600,
        "legend": {
         "tracegroupgap": 0
        },
        "margin": {
         "t": 60
        },
        "template": {
         "data": {
          "bar": [
           {
            "error_x": {
             "color": "#2a3f5f"
            },
            "error_y": {
             "color": "#2a3f5f"
            },
            "marker": {
             "line": {
              "color": "#E5ECF6",
              "width": 0.5
             },
             "pattern": {
              "fillmode": "overlay",
              "size": 10,
              "solidity": 0.2
             }
            },
            "type": "bar"
           }
          ],
          "barpolar": [
           {
            "marker": {
             "line": {
              "color": "#E5ECF6",
              "width": 0.5
             },
             "pattern": {
              "fillmode": "overlay",
              "size": 10,
              "solidity": 0.2
             }
            },
            "type": "barpolar"
           }
          ],
          "carpet": [
           {
            "aaxis": {
             "endlinecolor": "#2a3f5f",
             "gridcolor": "white",
             "linecolor": "white",
             "minorgridcolor": "white",
             "startlinecolor": "#2a3f5f"
            },
            "baxis": {
             "endlinecolor": "#2a3f5f",
             "gridcolor": "white",
             "linecolor": "white",
             "minorgridcolor": "white",
             "startlinecolor": "#2a3f5f"
            },
            "type": "carpet"
           }
          ],
          "choropleth": [
           {
            "colorbar": {
             "outlinewidth": 0,
             "ticks": ""
            },
            "type": "choropleth"
           }
          ],
          "contour": [
           {
            "colorbar": {
             "outlinewidth": 0,
             "ticks": ""
            },
            "colorscale": [
             [
              0,
              "#0d0887"
             ],
             [
              0.1111111111111111,
              "#46039f"
             ],
             [
              0.2222222222222222,
              "#7201a8"
             ],
             [
              0.3333333333333333,
              "#9c179e"
             ],
             [
              0.4444444444444444,
              "#bd3786"
             ],
             [
              0.5555555555555556,
              "#d8576b"
             ],
             [
              0.6666666666666666,
              "#ed7953"
             ],
             [
              0.7777777777777778,
              "#fb9f3a"
             ],
             [
              0.8888888888888888,
              "#fdca26"
             ],
             [
              1,
              "#f0f921"
             ]
            ],
            "type": "contour"
           }
          ],
          "contourcarpet": [
           {
            "colorbar": {
             "outlinewidth": 0,
             "ticks": ""
            },
            "type": "contourcarpet"
           }
          ],
          "heatmap": [
           {
            "colorbar": {
             "outlinewidth": 0,
             "ticks": ""
            },
            "colorscale": [
             [
              0,
              "#0d0887"
             ],
             [
              0.1111111111111111,
              "#46039f"
             ],
             [
              0.2222222222222222,
              "#7201a8"
             ],
             [
              0.3333333333333333,
              "#9c179e"
             ],
             [
              0.4444444444444444,
              "#bd3786"
             ],
             [
              0.5555555555555556,
              "#d8576b"
             ],
             [
              0.6666666666666666,
              "#ed7953"
             ],
             [
              0.7777777777777778,
              "#fb9f3a"
             ],
             [
              0.8888888888888888,
              "#fdca26"
             ],
             [
              1,
              "#f0f921"
             ]
            ],
            "type": "heatmap"
           }
          ],
          "heatmapgl": [
           {
            "colorbar": {
             "outlinewidth": 0,
             "ticks": ""
            },
            "colorscale": [
             [
              0,
              "#0d0887"
             ],
             [
              0.1111111111111111,
              "#46039f"
             ],
             [
              0.2222222222222222,
              "#7201a8"
             ],
             [
              0.3333333333333333,
              "#9c179e"
             ],
             [
              0.4444444444444444,
              "#bd3786"
             ],
             [
              0.5555555555555556,
              "#d8576b"
             ],
             [
              0.6666666666666666,
              "#ed7953"
             ],
             [
              0.7777777777777778,
              "#fb9f3a"
             ],
             [
              0.8888888888888888,
              "#fdca26"
             ],
             [
              1,
              "#f0f921"
             ]
            ],
            "type": "heatmapgl"
           }
          ],
          "histogram": [
           {
            "marker": {
             "pattern": {
              "fillmode": "overlay",
              "size": 10,
              "solidity": 0.2
             }
            },
            "type": "histogram"
           }
          ],
          "histogram2d": [
           {
            "colorbar": {
             "outlinewidth": 0,
             "ticks": ""
            },
            "colorscale": [
             [
              0,
              "#0d0887"
             ],
             [
              0.1111111111111111,
              "#46039f"
             ],
             [
              0.2222222222222222,
              "#7201a8"
             ],
             [
              0.3333333333333333,
              "#9c179e"
             ],
             [
              0.4444444444444444,
              "#bd3786"
             ],
             [
              0.5555555555555556,
              "#d8576b"
             ],
             [
              0.6666666666666666,
              "#ed7953"
             ],
             [
              0.7777777777777778,
              "#fb9f3a"
             ],
             [
              0.8888888888888888,
              "#fdca26"
             ],
             [
              1,
              "#f0f921"
             ]
            ],
            "type": "histogram2d"
           }
          ],
          "histogram2dcontour": [
           {
            "colorbar": {
             "outlinewidth": 0,
             "ticks": ""
            },
            "colorscale": [
             [
              0,
              "#0d0887"
             ],
             [
              0.1111111111111111,
              "#46039f"
             ],
             [
              0.2222222222222222,
              "#7201a8"
             ],
             [
              0.3333333333333333,
              "#9c179e"
             ],
             [
              0.4444444444444444,
              "#bd3786"
             ],
             [
              0.5555555555555556,
              "#d8576b"
             ],
             [
              0.6666666666666666,
              "#ed7953"
             ],
             [
              0.7777777777777778,
              "#fb9f3a"
             ],
             [
              0.8888888888888888,
              "#fdca26"
             ],
             [
              1,
              "#f0f921"
             ]
            ],
            "type": "histogram2dcontour"
           }
          ],
          "mesh3d": [
           {
            "colorbar": {
             "outlinewidth": 0,
             "ticks": ""
            },
            "type": "mesh3d"
           }
          ],
          "parcoords": [
           {
            "line": {
             "colorbar": {
              "outlinewidth": 0,
              "ticks": ""
             }
            },
            "type": "parcoords"
           }
          ],
          "pie": [
           {
            "automargin": true,
            "type": "pie"
           }
          ],
          "scatter": [
           {
            "fillpattern": {
             "fillmode": "overlay",
             "size": 10,
             "solidity": 0.2
            },
            "type": "scatter"
           }
          ],
          "scatter3d": [
           {
            "line": {
             "colorbar": {
              "outlinewidth": 0,
              "ticks": ""
             }
            },
            "marker": {
             "colorbar": {
              "outlinewidth": 0,
              "ticks": ""
             }
            },
            "type": "scatter3d"
           }
          ],
          "scattercarpet": [
           {
            "marker": {
             "colorbar": {
              "outlinewidth": 0,
              "ticks": ""
             }
            },
            "type": "scattercarpet"
           }
          ],
          "scattergeo": [
           {
            "marker": {
             "colorbar": {
              "outlinewidth": 0,
              "ticks": ""
             }
            },
            "type": "scattergeo"
           }
          ],
          "scattergl": [
           {
            "marker": {
             "colorbar": {
              "outlinewidth": 0,
              "ticks": ""
             }
            },
            "type": "scattergl"
           }
          ],
          "scattermapbox": [
           {
            "marker": {
             "colorbar": {
              "outlinewidth": 0,
              "ticks": ""
             }
            },
            "type": "scattermapbox"
           }
          ],
          "scatterpolar": [
           {
            "marker": {
             "colorbar": {
              "outlinewidth": 0,
              "ticks": ""
             }
            },
            "type": "scatterpolar"
           }
          ],
          "scatterpolargl": [
           {
            "marker": {
             "colorbar": {
              "outlinewidth": 0,
              "ticks": ""
             }
            },
            "type": "scatterpolargl"
           }
          ],
          "scatterternary": [
           {
            "marker": {
             "colorbar": {
              "outlinewidth": 0,
              "ticks": ""
             }
            },
            "type": "scatterternary"
           }
          ],
          "surface": [
           {
            "colorbar": {
             "outlinewidth": 0,
             "ticks": ""
            },
            "colorscale": [
             [
              0,
              "#0d0887"
             ],
             [
              0.1111111111111111,
              "#46039f"
             ],
             [
              0.2222222222222222,
              "#7201a8"
             ],
             [
              0.3333333333333333,
              "#9c179e"
             ],
             [
              0.4444444444444444,
              "#bd3786"
             ],
             [
              0.5555555555555556,
              "#d8576b"
             ],
             [
              0.6666666666666666,
              "#ed7953"
             ],
             [
              0.7777777777777778,
              "#fb9f3a"
             ],
             [
              0.8888888888888888,
              "#fdca26"
             ],
             [
              1,
              "#f0f921"
             ]
            ],
            "type": "surface"
           }
          ],
          "table": [
           {
            "cells": {
             "fill": {
              "color": "#EBF0F8"
             },
             "line": {
              "color": "white"
             }
            },
            "header": {
             "fill": {
              "color": "#C8D4E3"
             },
             "line": {
              "color": "white"
             }
            },
            "type": "table"
           }
          ]
         },
         "layout": {
          "annotationdefaults": {
           "arrowcolor": "#2a3f5f",
           "arrowhead": 0,
           "arrowwidth": 1
          },
          "autotypenumbers": "strict",
          "coloraxis": {
           "colorbar": {
            "outlinewidth": 0,
            "ticks": ""
           }
          },
          "colorscale": {
           "diverging": [
            [
             0,
             "#8e0152"
            ],
            [
             0.1,
             "#c51b7d"
            ],
            [
             0.2,
             "#de77ae"
            ],
            [
             0.3,
             "#f1b6da"
            ],
            [
             0.4,
             "#fde0ef"
            ],
            [
             0.5,
             "#f7f7f7"
            ],
            [
             0.6,
             "#e6f5d0"
            ],
            [
             0.7,
             "#b8e186"
            ],
            [
             0.8,
             "#7fbc41"
            ],
            [
             0.9,
             "#4d9221"
            ],
            [
             1,
             "#276419"
            ]
           ],
           "sequential": [
            [
             0,
             "#0d0887"
            ],
            [
             0.1111111111111111,
             "#46039f"
            ],
            [
             0.2222222222222222,
             "#7201a8"
            ],
            [
             0.3333333333333333,
             "#9c179e"
            ],
            [
             0.4444444444444444,
             "#bd3786"
            ],
            [
             0.5555555555555556,
             "#d8576b"
            ],
            [
             0.6666666666666666,
             "#ed7953"
            ],
            [
             0.7777777777777778,
             "#fb9f3a"
            ],
            [
             0.8888888888888888,
             "#fdca26"
            ],
            [
             1,
             "#f0f921"
            ]
           ],
           "sequentialminus": [
            [
             0,
             "#0d0887"
            ],
            [
             0.1111111111111111,
             "#46039f"
            ],
            [
             0.2222222222222222,
             "#7201a8"
            ],
            [
             0.3333333333333333,
             "#9c179e"
            ],
            [
             0.4444444444444444,
             "#bd3786"
            ],
            [
             0.5555555555555556,
             "#d8576b"
            ],
            [
             0.6666666666666666,
             "#ed7953"
            ],
            [
             0.7777777777777778,
             "#fb9f3a"
            ],
            [
             0.8888888888888888,
             "#fdca26"
            ],
            [
             1,
             "#f0f921"
            ]
           ]
          },
          "colorway": [
           "#636efa",
           "#EF553B",
           "#00cc96",
           "#ab63fa",
           "#FFA15A",
           "#19d3f3",
           "#FF6692",
           "#B6E880",
           "#FF97FF",
           "#FECB52"
          ],
          "font": {
           "color": "#2a3f5f"
          },
          "geo": {
           "bgcolor": "white",
           "lakecolor": "white",
           "landcolor": "#E5ECF6",
           "showlakes": true,
           "showland": true,
           "subunitcolor": "white"
          },
          "hoverlabel": {
           "align": "left"
          },
          "hovermode": "closest",
          "mapbox": {
           "style": "light"
          },
          "paper_bgcolor": "white",
          "plot_bgcolor": "#E5ECF6",
          "polar": {
           "angularaxis": {
            "gridcolor": "white",
            "linecolor": "white",
            "ticks": ""
           },
           "bgcolor": "#E5ECF6",
           "radialaxis": {
            "gridcolor": "white",
            "linecolor": "white",
            "ticks": ""
           }
          },
          "scene": {
           "xaxis": {
            "backgroundcolor": "#E5ECF6",
            "gridcolor": "white",
            "gridwidth": 2,
            "linecolor": "white",
            "showbackground": true,
            "ticks": "",
            "zerolinecolor": "white"
           },
           "yaxis": {
            "backgroundcolor": "#E5ECF6",
            "gridcolor": "white",
            "gridwidth": 2,
            "linecolor": "white",
            "showbackground": true,
            "ticks": "",
            "zerolinecolor": "white"
           },
           "zaxis": {
            "backgroundcolor": "#E5ECF6",
            "gridcolor": "white",
            "gridwidth": 2,
            "linecolor": "white",
            "showbackground": true,
            "ticks": "",
            "zerolinecolor": "white"
           }
          },
          "shapedefaults": {
           "line": {
            "color": "#2a3f5f"
           }
          },
          "ternary": {
           "aaxis": {
            "gridcolor": "white",
            "linecolor": "white",
            "ticks": ""
           },
           "baxis": {
            "gridcolor": "white",
            "linecolor": "white",
            "ticks": ""
           },
           "bgcolor": "#E5ECF6",
           "caxis": {
            "gridcolor": "white",
            "linecolor": "white",
            "ticks": ""
           }
          },
          "title": {
           "x": 0.05
          },
          "xaxis": {
           "automargin": true,
           "gridcolor": "white",
           "linecolor": "white",
           "ticks": "",
           "title": {
            "standoff": 15
           },
           "zerolinecolor": "white",
           "zerolinewidth": 2
          },
          "yaxis": {
           "automargin": true,
           "gridcolor": "white",
           "linecolor": "white",
           "ticks": "",
           "title": {
            "standoff": 15
           },
           "zerolinecolor": "white",
           "zerolinewidth": 2
          }
         }
        },
        "title": {
         "font": {
          "color": "black",
          "family": "Times New Roman",
          "size": 22
         },
         "text": "Weather Delay by State",
         "x": 0.45
        },
        "width": 1000
       }
      }
     },
     "metadata": {},
     "output_type": "display_data"
    }
   ],
   "source": [
    "fig = px.choropleth(df_weather,\n",
    "                    locations='STATE_ORG', \n",
    "                    locationmode=\"USA-states\", \n",
    "                    scope=\"usa\",\n",
    "                    color='WEATHER_DELAY',\n",
    "                    color_continuous_scale=[\"LightYellow\" ,\"Gold\", \"MediumAquamarine\",\"Teal\",\"MidnightBlue\"], \n",
    "                    width=1000, height=600\n",
    "\n",
    "                    )\n",
    "fig.update_layout(\n",
    "      title_text = 'Weather Delay by State',\n",
    "      title_font_family=\"Times New Roman\",\n",
    "      title_font_size = 22,\n",
    "      title_font_color=\"black\", \n",
    "      title_x=0.45, \n",
    "         )\n",
    "\n",
    "fig.show()"
   ]
  },
  {
   "attachments": {},
   "cell_type": "markdown",
   "id": "4fc5cab5",
   "metadata": {},
   "source": [
    "### Reflection \n",
    "> which state has the Most Frequent Weather delay ?"
   ]
  },
  {
   "cell_type": "code",
   "execution_count": 30,
   "id": "1df94cba",
   "metadata": {},
   "outputs": [],
   "source": [
    "#"
   ]
  },
  {
   "attachments": {},
   "cell_type": "markdown",
   "id": "fdb5c825",
   "metadata": {},
   "source": [
    "# Which States have the most Air system delays? "
   ]
  },
  {
   "attachments": {},
   "cell_type": "markdown",
   "id": "3a2ef6ad",
   "metadata": {},
   "source": [
    "### Air System Delay by State"
   ]
  },
  {
   "cell_type": "code",
   "execution_count": 31,
   "id": "1f32a5de",
   "metadata": {},
   "outputs": [
    {
     "data": {
      "text/html": [
       "<div>\n",
       "<style scoped>\n",
       "    .dataframe tbody tr th:only-of-type {\n",
       "        vertical-align: middle;\n",
       "    }\n",
       "\n",
       "    .dataframe tbody tr th {\n",
       "        vertical-align: top;\n",
       "    }\n",
       "\n",
       "    .dataframe thead th {\n",
       "        text-align: right;\n",
       "    }\n",
       "</style>\n",
       "<table border=\"1\" class=\"dataframe\">\n",
       "  <thead>\n",
       "    <tr style=\"text-align: right;\">\n",
       "      <th></th>\n",
       "      <th>STATE_ORG</th>\n",
       "      <th>AIR_SYSTEM_DELAY</th>\n",
       "    </tr>\n",
       "  </thead>\n",
       "  <tbody>\n",
       "    <tr>\n",
       "      <th>0</th>\n",
       "      <td>VT</td>\n",
       "      <td>30.395082</td>\n",
       "    </tr>\n",
       "    <tr>\n",
       "      <th>1</th>\n",
       "      <td>DE</td>\n",
       "      <td>29.000000</td>\n",
       "    </tr>\n",
       "    <tr>\n",
       "      <th>2</th>\n",
       "      <td>ME</td>\n",
       "      <td>25.699275</td>\n",
       "    </tr>\n",
       "    <tr>\n",
       "      <th>3</th>\n",
       "      <td>SC</td>\n",
       "      <td>20.714633</td>\n",
       "    </tr>\n",
       "    <tr>\n",
       "      <th>4</th>\n",
       "      <td>NH</td>\n",
       "      <td>19.753059</td>\n",
       "    </tr>\n",
       "  </tbody>\n",
       "</table>\n",
       "</div>"
      ],
      "text/plain": [
       "  STATE_ORG  AIR_SYSTEM_DELAY\n",
       "0        VT         30.395082\n",
       "1        DE         29.000000\n",
       "2        ME         25.699275\n",
       "3        SC         20.714633\n",
       "4        NH         19.753059"
      ]
     },
     "execution_count": 31,
     "metadata": {},
     "output_type": "execute_result"
    }
   ],
   "source": [
    "\n",
    "df_airDelay = df_flights.groupby('STATE_ORG')\\\n",
    "            ['AIR_SYSTEM_DELAY'].mean().reset_index()\n",
    "df_airDelay = df_airDelay.sort_values('AIR_SYSTEM_DELAY',ascending = False).reset_index(drop= True)\n",
    "df_airDelay.head()\n"
   ]
  },
  {
   "attachments": {},
   "cell_type": "markdown",
   "id": "541c876c",
   "metadata": {},
   "source": [
    "###  States choropleth map that shows Air System Delay rate variation in every state: <br> \n",
    "> Choropleth map is a type of statistical thematic map that uses intensity of color to correspond with an aggregate summary of a geographic characteristic (Air System Delay) "
   ]
  },
  {
   "cell_type": "code",
   "execution_count": 32,
   "id": "1115584b",
   "metadata": {},
   "outputs": [
    {
     "data": {
      "application/vnd.plotly.v1+json": {
       "config": {
        "plotlyServerURL": "https://plot.ly"
       },
       "data": [
        {
         "coloraxis": "coloraxis",
         "geo": "geo",
         "hovertemplate": "STATE_ORG=%{location}<br>AIR_SYSTEM_DELAY=%{z}<extra></extra>",
         "locationmode": "USA-states",
         "locations": [
          "VT",
          "DE",
          "ME",
          "SC",
          "NH",
          "MA",
          "KY",
          "OH",
          "VA",
          "AR",
          "IA",
          "PA",
          "KS",
          "ND",
          "WI",
          "SD",
          "NC",
          "MS",
          "IN",
          "NY",
          "WV",
          "MI",
          "MN",
          "WY",
          "NE",
          "MT",
          "FL",
          "OR",
          "LA",
          "ID",
          "AL",
          "RI",
          "CT",
          "TN",
          "NJ",
          "IL",
          "OK",
          "MO",
          "CO",
          "UT",
          "WA",
          "GA",
          "NM",
          "NV",
          "TX",
          "VI",
          "AZ",
          "CA",
          "MD",
          "PR",
          "AK",
          "GU",
          "HI",
          "AS"
         ],
         "name": "",
         "type": "choropleth",
         "z": [
          30.395081967213116,
          29,
          25.69927536231884,
          20.714633157681394,
          19.753058954393772,
          19.728368827089206,
          19.2751574742664,
          19.268178202068416,
          18.856745207198024,
          18.524899057873487,
          18.088935157644258,
          18.00708449684559,
          17.754178957718782,
          17.70096942580164,
          17.640471742176555,
          17.19204927211646,
          16.642033052697226,
          16.550946798917945,
          16.480231143552313,
          16.43384936107787,
          16.30188679245283,
          16.100129254631625,
          16.04159975133399,
          15.98448275862069,
          15.761700825940654,
          15.61166253101737,
          15.304401404067814,
          14.943503555268261,
          14.644966847498493,
          14.561460446247464,
          14.415826720995067,
          14.289135514018692,
          14.226538329322791,
          14.137810501264317,
          13.78661476533817,
          13.269062175568116,
          13.244114921223355,
          12.729773173781032,
          12.709837842433002,
          12.656432529579153,
          12.497581679992104,
          11.524527342094107,
          11.479604763111224,
          11.324408384043272,
          11.192274955471841,
          10.989837398373984,
          10.707767860105518,
          10.644328302316872,
          10.639193658459762,
          8.031002779559547,
          7.341407867494824,
          5.189655172413793,
          3.657582110412299,
          0
         ]
        }
       ],
       "layout": {
        "coloraxis": {
         "colorbar": {
          "title": {
           "text": "AIR_SYSTEM_DELAY"
          }
         },
         "colorscale": [
          [
           0,
           "LightYellow"
          ],
          [
           0.25,
           "Gold"
          ],
          [
           0.5,
           "MediumAquamarine"
          ],
          [
           0.75,
           "Teal"
          ],
          [
           1,
           "MidnightBlue"
          ]
         ]
        },
        "geo": {
         "center": {},
         "domain": {
          "x": [
           0,
           1
          ],
          "y": [
           0,
           1
          ]
         },
         "scope": "usa"
        },
        "height": 600,
        "legend": {
         "tracegroupgap": 0
        },
        "margin": {
         "t": 60
        },
        "template": {
         "data": {
          "bar": [
           {
            "error_x": {
             "color": "#2a3f5f"
            },
            "error_y": {
             "color": "#2a3f5f"
            },
            "marker": {
             "line": {
              "color": "#E5ECF6",
              "width": 0.5
             },
             "pattern": {
              "fillmode": "overlay",
              "size": 10,
              "solidity": 0.2
             }
            },
            "type": "bar"
           }
          ],
          "barpolar": [
           {
            "marker": {
             "line": {
              "color": "#E5ECF6",
              "width": 0.5
             },
             "pattern": {
              "fillmode": "overlay",
              "size": 10,
              "solidity": 0.2
             }
            },
            "type": "barpolar"
           }
          ],
          "carpet": [
           {
            "aaxis": {
             "endlinecolor": "#2a3f5f",
             "gridcolor": "white",
             "linecolor": "white",
             "minorgridcolor": "white",
             "startlinecolor": "#2a3f5f"
            },
            "baxis": {
             "endlinecolor": "#2a3f5f",
             "gridcolor": "white",
             "linecolor": "white",
             "minorgridcolor": "white",
             "startlinecolor": "#2a3f5f"
            },
            "type": "carpet"
           }
          ],
          "choropleth": [
           {
            "colorbar": {
             "outlinewidth": 0,
             "ticks": ""
            },
            "type": "choropleth"
           }
          ],
          "contour": [
           {
            "colorbar": {
             "outlinewidth": 0,
             "ticks": ""
            },
            "colorscale": [
             [
              0,
              "#0d0887"
             ],
             [
              0.1111111111111111,
              "#46039f"
             ],
             [
              0.2222222222222222,
              "#7201a8"
             ],
             [
              0.3333333333333333,
              "#9c179e"
             ],
             [
              0.4444444444444444,
              "#bd3786"
             ],
             [
              0.5555555555555556,
              "#d8576b"
             ],
             [
              0.6666666666666666,
              "#ed7953"
             ],
             [
              0.7777777777777778,
              "#fb9f3a"
             ],
             [
              0.8888888888888888,
              "#fdca26"
             ],
             [
              1,
              "#f0f921"
             ]
            ],
            "type": "contour"
           }
          ],
          "contourcarpet": [
           {
            "colorbar": {
             "outlinewidth": 0,
             "ticks": ""
            },
            "type": "contourcarpet"
           }
          ],
          "heatmap": [
           {
            "colorbar": {
             "outlinewidth": 0,
             "ticks": ""
            },
            "colorscale": [
             [
              0,
              "#0d0887"
             ],
             [
              0.1111111111111111,
              "#46039f"
             ],
             [
              0.2222222222222222,
              "#7201a8"
             ],
             [
              0.3333333333333333,
              "#9c179e"
             ],
             [
              0.4444444444444444,
              "#bd3786"
             ],
             [
              0.5555555555555556,
              "#d8576b"
             ],
             [
              0.6666666666666666,
              "#ed7953"
             ],
             [
              0.7777777777777778,
              "#fb9f3a"
             ],
             [
              0.8888888888888888,
              "#fdca26"
             ],
             [
              1,
              "#f0f921"
             ]
            ],
            "type": "heatmap"
           }
          ],
          "heatmapgl": [
           {
            "colorbar": {
             "outlinewidth": 0,
             "ticks": ""
            },
            "colorscale": [
             [
              0,
              "#0d0887"
             ],
             [
              0.1111111111111111,
              "#46039f"
             ],
             [
              0.2222222222222222,
              "#7201a8"
             ],
             [
              0.3333333333333333,
              "#9c179e"
             ],
             [
              0.4444444444444444,
              "#bd3786"
             ],
             [
              0.5555555555555556,
              "#d8576b"
             ],
             [
              0.6666666666666666,
              "#ed7953"
             ],
             [
              0.7777777777777778,
              "#fb9f3a"
             ],
             [
              0.8888888888888888,
              "#fdca26"
             ],
             [
              1,
              "#f0f921"
             ]
            ],
            "type": "heatmapgl"
           }
          ],
          "histogram": [
           {
            "marker": {
             "pattern": {
              "fillmode": "overlay",
              "size": 10,
              "solidity": 0.2
             }
            },
            "type": "histogram"
           }
          ],
          "histogram2d": [
           {
            "colorbar": {
             "outlinewidth": 0,
             "ticks": ""
            },
            "colorscale": [
             [
              0,
              "#0d0887"
             ],
             [
              0.1111111111111111,
              "#46039f"
             ],
             [
              0.2222222222222222,
              "#7201a8"
             ],
             [
              0.3333333333333333,
              "#9c179e"
             ],
             [
              0.4444444444444444,
              "#bd3786"
             ],
             [
              0.5555555555555556,
              "#d8576b"
             ],
             [
              0.6666666666666666,
              "#ed7953"
             ],
             [
              0.7777777777777778,
              "#fb9f3a"
             ],
             [
              0.8888888888888888,
              "#fdca26"
             ],
             [
              1,
              "#f0f921"
             ]
            ],
            "type": "histogram2d"
           }
          ],
          "histogram2dcontour": [
           {
            "colorbar": {
             "outlinewidth": 0,
             "ticks": ""
            },
            "colorscale": [
             [
              0,
              "#0d0887"
             ],
             [
              0.1111111111111111,
              "#46039f"
             ],
             [
              0.2222222222222222,
              "#7201a8"
             ],
             [
              0.3333333333333333,
              "#9c179e"
             ],
             [
              0.4444444444444444,
              "#bd3786"
             ],
             [
              0.5555555555555556,
              "#d8576b"
             ],
             [
              0.6666666666666666,
              "#ed7953"
             ],
             [
              0.7777777777777778,
              "#fb9f3a"
             ],
             [
              0.8888888888888888,
              "#fdca26"
             ],
             [
              1,
              "#f0f921"
             ]
            ],
            "type": "histogram2dcontour"
           }
          ],
          "mesh3d": [
           {
            "colorbar": {
             "outlinewidth": 0,
             "ticks": ""
            },
            "type": "mesh3d"
           }
          ],
          "parcoords": [
           {
            "line": {
             "colorbar": {
              "outlinewidth": 0,
              "ticks": ""
             }
            },
            "type": "parcoords"
           }
          ],
          "pie": [
           {
            "automargin": true,
            "type": "pie"
           }
          ],
          "scatter": [
           {
            "fillpattern": {
             "fillmode": "overlay",
             "size": 10,
             "solidity": 0.2
            },
            "type": "scatter"
           }
          ],
          "scatter3d": [
           {
            "line": {
             "colorbar": {
              "outlinewidth": 0,
              "ticks": ""
             }
            },
            "marker": {
             "colorbar": {
              "outlinewidth": 0,
              "ticks": ""
             }
            },
            "type": "scatter3d"
           }
          ],
          "scattercarpet": [
           {
            "marker": {
             "colorbar": {
              "outlinewidth": 0,
              "ticks": ""
             }
            },
            "type": "scattercarpet"
           }
          ],
          "scattergeo": [
           {
            "marker": {
             "colorbar": {
              "outlinewidth": 0,
              "ticks": ""
             }
            },
            "type": "scattergeo"
           }
          ],
          "scattergl": [
           {
            "marker": {
             "colorbar": {
              "outlinewidth": 0,
              "ticks": ""
             }
            },
            "type": "scattergl"
           }
          ],
          "scattermapbox": [
           {
            "marker": {
             "colorbar": {
              "outlinewidth": 0,
              "ticks": ""
             }
            },
            "type": "scattermapbox"
           }
          ],
          "scatterpolar": [
           {
            "marker": {
             "colorbar": {
              "outlinewidth": 0,
              "ticks": ""
             }
            },
            "type": "scatterpolar"
           }
          ],
          "scatterpolargl": [
           {
            "marker": {
             "colorbar": {
              "outlinewidth": 0,
              "ticks": ""
             }
            },
            "type": "scatterpolargl"
           }
          ],
          "scatterternary": [
           {
            "marker": {
             "colorbar": {
              "outlinewidth": 0,
              "ticks": ""
             }
            },
            "type": "scatterternary"
           }
          ],
          "surface": [
           {
            "colorbar": {
             "outlinewidth": 0,
             "ticks": ""
            },
            "colorscale": [
             [
              0,
              "#0d0887"
             ],
             [
              0.1111111111111111,
              "#46039f"
             ],
             [
              0.2222222222222222,
              "#7201a8"
             ],
             [
              0.3333333333333333,
              "#9c179e"
             ],
             [
              0.4444444444444444,
              "#bd3786"
             ],
             [
              0.5555555555555556,
              "#d8576b"
             ],
             [
              0.6666666666666666,
              "#ed7953"
             ],
             [
              0.7777777777777778,
              "#fb9f3a"
             ],
             [
              0.8888888888888888,
              "#fdca26"
             ],
             [
              1,
              "#f0f921"
             ]
            ],
            "type": "surface"
           }
          ],
          "table": [
           {
            "cells": {
             "fill": {
              "color": "#EBF0F8"
             },
             "line": {
              "color": "white"
             }
            },
            "header": {
             "fill": {
              "color": "#C8D4E3"
             },
             "line": {
              "color": "white"
             }
            },
            "type": "table"
           }
          ]
         },
         "layout": {
          "annotationdefaults": {
           "arrowcolor": "#2a3f5f",
           "arrowhead": 0,
           "arrowwidth": 1
          },
          "autotypenumbers": "strict",
          "coloraxis": {
           "colorbar": {
            "outlinewidth": 0,
            "ticks": ""
           }
          },
          "colorscale": {
           "diverging": [
            [
             0,
             "#8e0152"
            ],
            [
             0.1,
             "#c51b7d"
            ],
            [
             0.2,
             "#de77ae"
            ],
            [
             0.3,
             "#f1b6da"
            ],
            [
             0.4,
             "#fde0ef"
            ],
            [
             0.5,
             "#f7f7f7"
            ],
            [
             0.6,
             "#e6f5d0"
            ],
            [
             0.7,
             "#b8e186"
            ],
            [
             0.8,
             "#7fbc41"
            ],
            [
             0.9,
             "#4d9221"
            ],
            [
             1,
             "#276419"
            ]
           ],
           "sequential": [
            [
             0,
             "#0d0887"
            ],
            [
             0.1111111111111111,
             "#46039f"
            ],
            [
             0.2222222222222222,
             "#7201a8"
            ],
            [
             0.3333333333333333,
             "#9c179e"
            ],
            [
             0.4444444444444444,
             "#bd3786"
            ],
            [
             0.5555555555555556,
             "#d8576b"
            ],
            [
             0.6666666666666666,
             "#ed7953"
            ],
            [
             0.7777777777777778,
             "#fb9f3a"
            ],
            [
             0.8888888888888888,
             "#fdca26"
            ],
            [
             1,
             "#f0f921"
            ]
           ],
           "sequentialminus": [
            [
             0,
             "#0d0887"
            ],
            [
             0.1111111111111111,
             "#46039f"
            ],
            [
             0.2222222222222222,
             "#7201a8"
            ],
            [
             0.3333333333333333,
             "#9c179e"
            ],
            [
             0.4444444444444444,
             "#bd3786"
            ],
            [
             0.5555555555555556,
             "#d8576b"
            ],
            [
             0.6666666666666666,
             "#ed7953"
            ],
            [
             0.7777777777777778,
             "#fb9f3a"
            ],
            [
             0.8888888888888888,
             "#fdca26"
            ],
            [
             1,
             "#f0f921"
            ]
           ]
          },
          "colorway": [
           "#636efa",
           "#EF553B",
           "#00cc96",
           "#ab63fa",
           "#FFA15A",
           "#19d3f3",
           "#FF6692",
           "#B6E880",
           "#FF97FF",
           "#FECB52"
          ],
          "font": {
           "color": "#2a3f5f"
          },
          "geo": {
           "bgcolor": "white",
           "lakecolor": "white",
           "landcolor": "#E5ECF6",
           "showlakes": true,
           "showland": true,
           "subunitcolor": "white"
          },
          "hoverlabel": {
           "align": "left"
          },
          "hovermode": "closest",
          "mapbox": {
           "style": "light"
          },
          "paper_bgcolor": "white",
          "plot_bgcolor": "#E5ECF6",
          "polar": {
           "angularaxis": {
            "gridcolor": "white",
            "linecolor": "white",
            "ticks": ""
           },
           "bgcolor": "#E5ECF6",
           "radialaxis": {
            "gridcolor": "white",
            "linecolor": "white",
            "ticks": ""
           }
          },
          "scene": {
           "xaxis": {
            "backgroundcolor": "#E5ECF6",
            "gridcolor": "white",
            "gridwidth": 2,
            "linecolor": "white",
            "showbackground": true,
            "ticks": "",
            "zerolinecolor": "white"
           },
           "yaxis": {
            "backgroundcolor": "#E5ECF6",
            "gridcolor": "white",
            "gridwidth": 2,
            "linecolor": "white",
            "showbackground": true,
            "ticks": "",
            "zerolinecolor": "white"
           },
           "zaxis": {
            "backgroundcolor": "#E5ECF6",
            "gridcolor": "white",
            "gridwidth": 2,
            "linecolor": "white",
            "showbackground": true,
            "ticks": "",
            "zerolinecolor": "white"
           }
          },
          "shapedefaults": {
           "line": {
            "color": "#2a3f5f"
           }
          },
          "ternary": {
           "aaxis": {
            "gridcolor": "white",
            "linecolor": "white",
            "ticks": ""
           },
           "baxis": {
            "gridcolor": "white",
            "linecolor": "white",
            "ticks": ""
           },
           "bgcolor": "#E5ECF6",
           "caxis": {
            "gridcolor": "white",
            "linecolor": "white",
            "ticks": ""
           }
          },
          "title": {
           "x": 0.05
          },
          "xaxis": {
           "automargin": true,
           "gridcolor": "white",
           "linecolor": "white",
           "ticks": "",
           "title": {
            "standoff": 15
           },
           "zerolinecolor": "white",
           "zerolinewidth": 2
          },
          "yaxis": {
           "automargin": true,
           "gridcolor": "white",
           "linecolor": "white",
           "ticks": "",
           "title": {
            "standoff": 15
           },
           "zerolinecolor": "white",
           "zerolinewidth": 2
          }
         }
        },
        "title": {
         "font": {
          "color": "black",
          "family": "Times New Roman",
          "size": 22
         },
         "text": "AIR_SYSTEM_DELAY Delay by State",
         "x": 0.45
        },
        "width": 1000
       }
      }
     },
     "metadata": {},
     "output_type": "display_data"
    }
   ],
   "source": [
    "fig = px.choropleth(df_airDelay,\n",
    "                    locations='STATE_ORG', \n",
    "                    locationmode=\"USA-states\", \n",
    "                    scope=\"usa\",\n",
    "                    color='AIR_SYSTEM_DELAY',\n",
    "                    color_continuous_scale=[\"LightYellow\" ,\"Gold\", \"MediumAquamarine\",\"Teal\",\"MidnightBlue\"], \n",
    "                    width=1000, height=600\n",
    "\n",
    "                    )\n",
    "fig.update_layout(\n",
    "      title_text = 'AIR_SYSTEM_DELAY Delay by State',\n",
    "      title_font_family=\"Times New Roman\",\n",
    "      title_font_size = 22,\n",
    "      title_font_color=\"black\", \n",
    "      title_x=0.45, \n",
    "         )\n",
    "\n",
    "fig.show()"
   ]
  },
  {
   "attachments": {},
   "cell_type": "markdown",
   "id": "7fcd4aa2",
   "metadata": {},
   "source": [
    "### Reflection \n",
    "> which state has the Most Frequent Air System delay ?"
   ]
  },
  {
   "cell_type": "code",
   "execution_count": 33,
   "id": "347dece1",
   "metadata": {},
   "outputs": [],
   "source": [
    "#"
   ]
  },
  {
   "attachments": {},
   "cell_type": "markdown",
   "id": "c428e273",
   "metadata": {},
   "source": [
    "# Which airlines have the most arrival and departure delays?"
   ]
  },
  {
   "attachments": {},
   "cell_type": "markdown",
   "id": "a61fa7c4",
   "metadata": {},
   "source": [
    "## Delay Time Visualization"
   ]
  },
  {
   "cell_type": "code",
   "execution_count": 34,
   "id": "cc580653",
   "metadata": {},
   "outputs": [
    {
     "data": {
      "text/html": [
       "<div>\n",
       "<style scoped>\n",
       "    .dataframe tbody tr th:only-of-type {\n",
       "        vertical-align: middle;\n",
       "    }\n",
       "\n",
       "    .dataframe tbody tr th {\n",
       "        vertical-align: top;\n",
       "    }\n",
       "\n",
       "    .dataframe thead th {\n",
       "        text-align: right;\n",
       "    }\n",
       "</style>\n",
       "<table border=\"1\" class=\"dataframe\">\n",
       "  <thead>\n",
       "    <tr style=\"text-align: right;\">\n",
       "      <th></th>\n",
       "      <th>AIRLINE</th>\n",
       "      <th>DEPARTURE_DELAY</th>\n",
       "      <th>ARRIVAL_DELAY</th>\n",
       "      <th>total_delay</th>\n",
       "    </tr>\n",
       "  </thead>\n",
       "  <tbody>\n",
       "    <tr>\n",
       "      <th>0</th>\n",
       "      <td>Alaska</td>\n",
       "      <td>1.957637</td>\n",
       "      <td>-0.791409</td>\n",
       "      <td>1.166228</td>\n",
       "    </tr>\n",
       "    <tr>\n",
       "      <th>1</th>\n",
       "      <td>Hawaiian</td>\n",
       "      <td>0.514001</td>\n",
       "      <td>2.161856</td>\n",
       "      <td>2.675857</td>\n",
       "    </tr>\n",
       "    <tr>\n",
       "      <th>2</th>\n",
       "      <td>Delta</td>\n",
       "      <td>7.763099</td>\n",
       "      <td>0.680265</td>\n",
       "      <td>8.443364</td>\n",
       "    </tr>\n",
       "    <tr>\n",
       "      <th>3</th>\n",
       "      <td>US Airways</td>\n",
       "      <td>6.141137</td>\n",
       "      <td>3.706209</td>\n",
       "      <td>9.847346</td>\n",
       "    </tr>\n",
       "    <tr>\n",
       "      <th>4</th>\n",
       "      <td>American</td>\n",
       "      <td>9.330882</td>\n",
       "      <td>3.935214</td>\n",
       "      <td>13.266095</td>\n",
       "    </tr>\n",
       "    <tr>\n",
       "      <th>5</th>\n",
       "      <td>Virgin</td>\n",
       "      <td>9.211211</td>\n",
       "      <td>4.979539</td>\n",
       "      <td>14.190750</td>\n",
       "    </tr>\n",
       "    <tr>\n",
       "      <th>6</th>\n",
       "      <td>Skywest</td>\n",
       "      <td>8.181225</td>\n",
       "      <td>6.221438</td>\n",
       "      <td>14.402663</td>\n",
       "    </tr>\n",
       "    <tr>\n",
       "      <th>7</th>\n",
       "      <td>Southwest</td>\n",
       "      <td>10.995318</td>\n",
       "      <td>4.837831</td>\n",
       "      <td>15.833150</td>\n",
       "    </tr>\n",
       "    <tr>\n",
       "      <th>8</th>\n",
       "      <td>Atlantic</td>\n",
       "      <td>9.076964</td>\n",
       "      <td>6.964550</td>\n",
       "      <td>16.041514</td>\n",
       "    </tr>\n",
       "    <tr>\n",
       "      <th>9</th>\n",
       "      <td>American Eagle</td>\n",
       "      <td>10.685483</td>\n",
       "      <td>7.316540</td>\n",
       "      <td>18.002023</td>\n",
       "    </tr>\n",
       "    <tr>\n",
       "      <th>10</th>\n",
       "      <td>JetBlue</td>\n",
       "      <td>11.828654</td>\n",
       "      <td>6.949339</td>\n",
       "      <td>18.777993</td>\n",
       "    </tr>\n",
       "    <tr>\n",
       "      <th>11</th>\n",
       "      <td>United</td>\n",
       "      <td>15.131718</td>\n",
       "      <td>6.211316</td>\n",
       "      <td>21.343034</td>\n",
       "    </tr>\n",
       "    <tr>\n",
       "      <th>12</th>\n",
       "      <td>Frontier</td>\n",
       "      <td>14.267977</td>\n",
       "      <td>13.729468</td>\n",
       "      <td>27.997445</td>\n",
       "    </tr>\n",
       "    <tr>\n",
       "      <th>13</th>\n",
       "      <td>Spirit</td>\n",
       "      <td>16.683317</td>\n",
       "      <td>15.210786</td>\n",
       "      <td>31.894104</td>\n",
       "    </tr>\n",
       "  </tbody>\n",
       "</table>\n",
       "</div>"
      ],
      "text/plain": [
       "           AIRLINE  DEPARTURE_DELAY  ARRIVAL_DELAY  total_delay\n",
       "0           Alaska         1.957637      -0.791409     1.166228\n",
       "1         Hawaiian         0.514001       2.161856     2.675857\n",
       "2            Delta         7.763099       0.680265     8.443364\n",
       "3       US Airways         6.141137       3.706209     9.847346\n",
       "4         American         9.330882       3.935214    13.266095\n",
       "5           Virgin         9.211211       4.979539    14.190750\n",
       "6          Skywest         8.181225       6.221438    14.402663\n",
       "7        Southwest        10.995318       4.837831    15.833150\n",
       "8         Atlantic         9.076964       6.964550    16.041514\n",
       "9   American Eagle        10.685483       7.316540    18.002023\n",
       "10         JetBlue        11.828654       6.949339    18.777993\n",
       "11          United        15.131718       6.211316    21.343034\n",
       "12        Frontier        14.267977      13.729468    27.997445\n",
       "13          Spirit        16.683317      15.210786    31.894104"
      ]
     },
     "execution_count": 34,
     "metadata": {},
     "output_type": "execute_result"
    }
   ],
   "source": [
    "# Groupby Airlines by DEPARTURE and ARRIVAL mean Delay time\n",
    "delay = df_flights.groupby('AIRLINE')[['DEPARTURE_DELAY','ARRIVAL_DELAY']].mean()\n",
    "delay[\"total_delay\"]=delay[\"DEPARTURE_DELAY\"]+delay[\"ARRIVAL_DELAY\"]\n",
    "delay=delay.sort_values(\"total_delay\").reset_index()\n",
    "delay"
   ]
  },
  {
   "cell_type": "code",
   "execution_count": null,
   "id": "2aed4120",
   "metadata": {},
   "outputs": [],
   "source": []
  },
  {
   "attachments": {},
   "cell_type": "markdown",
   "id": "bbc43b05",
   "metadata": {},
   "source": [
    "## Delay Time Visualization stacked bar chart"
   ]
  },
  {
   "cell_type": "code",
   "execution_count": null,
   "id": "48ddc3a5",
   "metadata": {},
   "outputs": [],
   "source": []
  },
  {
   "cell_type": "code",
   "execution_count": 35,
   "id": "f47b743c",
   "metadata": {},
   "outputs": [
    {
     "data": {
      "application/vnd.plotly.v1+json": {
       "config": {
        "plotlyServerURL": "https://plot.ly"
       },
       "data": [
        {
         "marker": {
          "color": "Teal"
         },
         "name": "DEPARTURE",
         "orientation": "h",
         "type": "bar",
         "x": [
          1.9576369132290186,
          0.5140007726537795,
          7.76309942533497,
          6.141136917746696,
          9.33088159348484,
          9.21121121121121,
          8.181224917577913,
          10.995318443894886,
          9.076963939753766,
          10.685482779292608,
          11.828653922739944,
          15.13171797238203,
          14.26797727521563,
          16.683317347413606
         ],
         "y": [
          "Alaska",
          "Hawaiian",
          "Delta",
          "US Airways",
          "American",
          "Virgin",
          "Skywest",
          "Southwest",
          "Atlantic",
          "American Eagle",
          "JetBlue",
          "United",
          "Frontier",
          "Spirit"
         ]
        },
        {
         "marker": {
          "color": "MediumTurquoise"
         },
         "name": "ARRIVAL",
         "orientation": "h",
         "text": [
          1.166227901925086,
          2.6758571072523614,
          8.443364190683472,
          9.847345760159799,
          13.266095259568157,
          14.190750028332669,
          14.402663115061294,
          15.833149515182276,
          16.041514066220294,
          18.002023050750626,
          18.777993093124124,
          21.34303361492476,
          27.997444990598837,
          31.894103667481378
         ],
         "textposition": "outside",
         "texttemplate": "%{text:.2}",
         "type": "bar",
         "x": [
          -0.7914090113039325,
          2.161856334598582,
          0.6802647653485016,
          3.7062088424131026,
          3.9352136660833175,
          4.979538817121459,
          6.221438197483382,
          4.83783107128739,
          6.964550126466531,
          7.316540271458018,
          6.94933917038418,
          6.21131564254273,
          13.729467715383208,
          15.210786320067772
         ],
         "y": [
          "Alaska",
          "Hawaiian",
          "Delta",
          "US Airways",
          "American",
          "Virgin",
          "Skywest",
          "Southwest",
          "Atlantic",
          "American Eagle",
          "JetBlue",
          "United",
          "Frontier",
          "Spirit"
         ]
        }
       ],
       "layout": {
        "barmode": "stack",
        "height": 800,
        "plot_bgcolor": "white",
        "template": {
         "data": {
          "bar": [
           {
            "error_x": {
             "color": "#2a3f5f"
            },
            "error_y": {
             "color": "#2a3f5f"
            },
            "marker": {
             "line": {
              "color": "#E5ECF6",
              "width": 0.5
             },
             "pattern": {
              "fillmode": "overlay",
              "size": 10,
              "solidity": 0.2
             }
            },
            "type": "bar"
           }
          ],
          "barpolar": [
           {
            "marker": {
             "line": {
              "color": "#E5ECF6",
              "width": 0.5
             },
             "pattern": {
              "fillmode": "overlay",
              "size": 10,
              "solidity": 0.2
             }
            },
            "type": "barpolar"
           }
          ],
          "carpet": [
           {
            "aaxis": {
             "endlinecolor": "#2a3f5f",
             "gridcolor": "white",
             "linecolor": "white",
             "minorgridcolor": "white",
             "startlinecolor": "#2a3f5f"
            },
            "baxis": {
             "endlinecolor": "#2a3f5f",
             "gridcolor": "white",
             "linecolor": "white",
             "minorgridcolor": "white",
             "startlinecolor": "#2a3f5f"
            },
            "type": "carpet"
           }
          ],
          "choropleth": [
           {
            "colorbar": {
             "outlinewidth": 0,
             "ticks": ""
            },
            "type": "choropleth"
           }
          ],
          "contour": [
           {
            "colorbar": {
             "outlinewidth": 0,
             "ticks": ""
            },
            "colorscale": [
             [
              0,
              "#0d0887"
             ],
             [
              0.1111111111111111,
              "#46039f"
             ],
             [
              0.2222222222222222,
              "#7201a8"
             ],
             [
              0.3333333333333333,
              "#9c179e"
             ],
             [
              0.4444444444444444,
              "#bd3786"
             ],
             [
              0.5555555555555556,
              "#d8576b"
             ],
             [
              0.6666666666666666,
              "#ed7953"
             ],
             [
              0.7777777777777778,
              "#fb9f3a"
             ],
             [
              0.8888888888888888,
              "#fdca26"
             ],
             [
              1,
              "#f0f921"
             ]
            ],
            "type": "contour"
           }
          ],
          "contourcarpet": [
           {
            "colorbar": {
             "outlinewidth": 0,
             "ticks": ""
            },
            "type": "contourcarpet"
           }
          ],
          "heatmap": [
           {
            "colorbar": {
             "outlinewidth": 0,
             "ticks": ""
            },
            "colorscale": [
             [
              0,
              "#0d0887"
             ],
             [
              0.1111111111111111,
              "#46039f"
             ],
             [
              0.2222222222222222,
              "#7201a8"
             ],
             [
              0.3333333333333333,
              "#9c179e"
             ],
             [
              0.4444444444444444,
              "#bd3786"
             ],
             [
              0.5555555555555556,
              "#d8576b"
             ],
             [
              0.6666666666666666,
              "#ed7953"
             ],
             [
              0.7777777777777778,
              "#fb9f3a"
             ],
             [
              0.8888888888888888,
              "#fdca26"
             ],
             [
              1,
              "#f0f921"
             ]
            ],
            "type": "heatmap"
           }
          ],
          "heatmapgl": [
           {
            "colorbar": {
             "outlinewidth": 0,
             "ticks": ""
            },
            "colorscale": [
             [
              0,
              "#0d0887"
             ],
             [
              0.1111111111111111,
              "#46039f"
             ],
             [
              0.2222222222222222,
              "#7201a8"
             ],
             [
              0.3333333333333333,
              "#9c179e"
             ],
             [
              0.4444444444444444,
              "#bd3786"
             ],
             [
              0.5555555555555556,
              "#d8576b"
             ],
             [
              0.6666666666666666,
              "#ed7953"
             ],
             [
              0.7777777777777778,
              "#fb9f3a"
             ],
             [
              0.8888888888888888,
              "#fdca26"
             ],
             [
              1,
              "#f0f921"
             ]
            ],
            "type": "heatmapgl"
           }
          ],
          "histogram": [
           {
            "marker": {
             "pattern": {
              "fillmode": "overlay",
              "size": 10,
              "solidity": 0.2
             }
            },
            "type": "histogram"
           }
          ],
          "histogram2d": [
           {
            "colorbar": {
             "outlinewidth": 0,
             "ticks": ""
            },
            "colorscale": [
             [
              0,
              "#0d0887"
             ],
             [
              0.1111111111111111,
              "#46039f"
             ],
             [
              0.2222222222222222,
              "#7201a8"
             ],
             [
              0.3333333333333333,
              "#9c179e"
             ],
             [
              0.4444444444444444,
              "#bd3786"
             ],
             [
              0.5555555555555556,
              "#d8576b"
             ],
             [
              0.6666666666666666,
              "#ed7953"
             ],
             [
              0.7777777777777778,
              "#fb9f3a"
             ],
             [
              0.8888888888888888,
              "#fdca26"
             ],
             [
              1,
              "#f0f921"
             ]
            ],
            "type": "histogram2d"
           }
          ],
          "histogram2dcontour": [
           {
            "colorbar": {
             "outlinewidth": 0,
             "ticks": ""
            },
            "colorscale": [
             [
              0,
              "#0d0887"
             ],
             [
              0.1111111111111111,
              "#46039f"
             ],
             [
              0.2222222222222222,
              "#7201a8"
             ],
             [
              0.3333333333333333,
              "#9c179e"
             ],
             [
              0.4444444444444444,
              "#bd3786"
             ],
             [
              0.5555555555555556,
              "#d8576b"
             ],
             [
              0.6666666666666666,
              "#ed7953"
             ],
             [
              0.7777777777777778,
              "#fb9f3a"
             ],
             [
              0.8888888888888888,
              "#fdca26"
             ],
             [
              1,
              "#f0f921"
             ]
            ],
            "type": "histogram2dcontour"
           }
          ],
          "mesh3d": [
           {
            "colorbar": {
             "outlinewidth": 0,
             "ticks": ""
            },
            "type": "mesh3d"
           }
          ],
          "parcoords": [
           {
            "line": {
             "colorbar": {
              "outlinewidth": 0,
              "ticks": ""
             }
            },
            "type": "parcoords"
           }
          ],
          "pie": [
           {
            "automargin": true,
            "type": "pie"
           }
          ],
          "scatter": [
           {
            "fillpattern": {
             "fillmode": "overlay",
             "size": 10,
             "solidity": 0.2
            },
            "type": "scatter"
           }
          ],
          "scatter3d": [
           {
            "line": {
             "colorbar": {
              "outlinewidth": 0,
              "ticks": ""
             }
            },
            "marker": {
             "colorbar": {
              "outlinewidth": 0,
              "ticks": ""
             }
            },
            "type": "scatter3d"
           }
          ],
          "scattercarpet": [
           {
            "marker": {
             "colorbar": {
              "outlinewidth": 0,
              "ticks": ""
             }
            },
            "type": "scattercarpet"
           }
          ],
          "scattergeo": [
           {
            "marker": {
             "colorbar": {
              "outlinewidth": 0,
              "ticks": ""
             }
            },
            "type": "scattergeo"
           }
          ],
          "scattergl": [
           {
            "marker": {
             "colorbar": {
              "outlinewidth": 0,
              "ticks": ""
             }
            },
            "type": "scattergl"
           }
          ],
          "scattermapbox": [
           {
            "marker": {
             "colorbar": {
              "outlinewidth": 0,
              "ticks": ""
             }
            },
            "type": "scattermapbox"
           }
          ],
          "scatterpolar": [
           {
            "marker": {
             "colorbar": {
              "outlinewidth": 0,
              "ticks": ""
             }
            },
            "type": "scatterpolar"
           }
          ],
          "scatterpolargl": [
           {
            "marker": {
             "colorbar": {
              "outlinewidth": 0,
              "ticks": ""
             }
            },
            "type": "scatterpolargl"
           }
          ],
          "scatterternary": [
           {
            "marker": {
             "colorbar": {
              "outlinewidth": 0,
              "ticks": ""
             }
            },
            "type": "scatterternary"
           }
          ],
          "surface": [
           {
            "colorbar": {
             "outlinewidth": 0,
             "ticks": ""
            },
            "colorscale": [
             [
              0,
              "#0d0887"
             ],
             [
              0.1111111111111111,
              "#46039f"
             ],
             [
              0.2222222222222222,
              "#7201a8"
             ],
             [
              0.3333333333333333,
              "#9c179e"
             ],
             [
              0.4444444444444444,
              "#bd3786"
             ],
             [
              0.5555555555555556,
              "#d8576b"
             ],
             [
              0.6666666666666666,
              "#ed7953"
             ],
             [
              0.7777777777777778,
              "#fb9f3a"
             ],
             [
              0.8888888888888888,
              "#fdca26"
             ],
             [
              1,
              "#f0f921"
             ]
            ],
            "type": "surface"
           }
          ],
          "table": [
           {
            "cells": {
             "fill": {
              "color": "#EBF0F8"
             },
             "line": {
              "color": "white"
             }
            },
            "header": {
             "fill": {
              "color": "#C8D4E3"
             },
             "line": {
              "color": "white"
             }
            },
            "type": "table"
           }
          ]
         },
         "layout": {
          "annotationdefaults": {
           "arrowcolor": "#2a3f5f",
           "arrowhead": 0,
           "arrowwidth": 1
          },
          "autotypenumbers": "strict",
          "coloraxis": {
           "colorbar": {
            "outlinewidth": 0,
            "ticks": ""
           }
          },
          "colorscale": {
           "diverging": [
            [
             0,
             "#8e0152"
            ],
            [
             0.1,
             "#c51b7d"
            ],
            [
             0.2,
             "#de77ae"
            ],
            [
             0.3,
             "#f1b6da"
            ],
            [
             0.4,
             "#fde0ef"
            ],
            [
             0.5,
             "#f7f7f7"
            ],
            [
             0.6,
             "#e6f5d0"
            ],
            [
             0.7,
             "#b8e186"
            ],
            [
             0.8,
             "#7fbc41"
            ],
            [
             0.9,
             "#4d9221"
            ],
            [
             1,
             "#276419"
            ]
           ],
           "sequential": [
            [
             0,
             "#0d0887"
            ],
            [
             0.1111111111111111,
             "#46039f"
            ],
            [
             0.2222222222222222,
             "#7201a8"
            ],
            [
             0.3333333333333333,
             "#9c179e"
            ],
            [
             0.4444444444444444,
             "#bd3786"
            ],
            [
             0.5555555555555556,
             "#d8576b"
            ],
            [
             0.6666666666666666,
             "#ed7953"
            ],
            [
             0.7777777777777778,
             "#fb9f3a"
            ],
            [
             0.8888888888888888,
             "#fdca26"
            ],
            [
             1,
             "#f0f921"
            ]
           ],
           "sequentialminus": [
            [
             0,
             "#0d0887"
            ],
            [
             0.1111111111111111,
             "#46039f"
            ],
            [
             0.2222222222222222,
             "#7201a8"
            ],
            [
             0.3333333333333333,
             "#9c179e"
            ],
            [
             0.4444444444444444,
             "#bd3786"
            ],
            [
             0.5555555555555556,
             "#d8576b"
            ],
            [
             0.6666666666666666,
             "#ed7953"
            ],
            [
             0.7777777777777778,
             "#fb9f3a"
            ],
            [
             0.8888888888888888,
             "#fdca26"
            ],
            [
             1,
             "#f0f921"
            ]
           ]
          },
          "colorway": [
           "#636efa",
           "#EF553B",
           "#00cc96",
           "#ab63fa",
           "#FFA15A",
           "#19d3f3",
           "#FF6692",
           "#B6E880",
           "#FF97FF",
           "#FECB52"
          ],
          "font": {
           "color": "#2a3f5f"
          },
          "geo": {
           "bgcolor": "white",
           "lakecolor": "white",
           "landcolor": "#E5ECF6",
           "showlakes": true,
           "showland": true,
           "subunitcolor": "white"
          },
          "hoverlabel": {
           "align": "left"
          },
          "hovermode": "closest",
          "mapbox": {
           "style": "light"
          },
          "paper_bgcolor": "white",
          "plot_bgcolor": "#E5ECF6",
          "polar": {
           "angularaxis": {
            "gridcolor": "white",
            "linecolor": "white",
            "ticks": ""
           },
           "bgcolor": "#E5ECF6",
           "radialaxis": {
            "gridcolor": "white",
            "linecolor": "white",
            "ticks": ""
           }
          },
          "scene": {
           "xaxis": {
            "backgroundcolor": "#E5ECF6",
            "gridcolor": "white",
            "gridwidth": 2,
            "linecolor": "white",
            "showbackground": true,
            "ticks": "",
            "zerolinecolor": "white"
           },
           "yaxis": {
            "backgroundcolor": "#E5ECF6",
            "gridcolor": "white",
            "gridwidth": 2,
            "linecolor": "white",
            "showbackground": true,
            "ticks": "",
            "zerolinecolor": "white"
           },
           "zaxis": {
            "backgroundcolor": "#E5ECF6",
            "gridcolor": "white",
            "gridwidth": 2,
            "linecolor": "white",
            "showbackground": true,
            "ticks": "",
            "zerolinecolor": "white"
           }
          },
          "shapedefaults": {
           "line": {
            "color": "#2a3f5f"
           }
          },
          "ternary": {
           "aaxis": {
            "gridcolor": "white",
            "linecolor": "white",
            "ticks": ""
           },
           "baxis": {
            "gridcolor": "white",
            "linecolor": "white",
            "ticks": ""
           },
           "bgcolor": "#E5ECF6",
           "caxis": {
            "gridcolor": "white",
            "linecolor": "white",
            "ticks": ""
           }
          },
          "title": {
           "x": 0.05
          },
          "xaxis": {
           "automargin": true,
           "gridcolor": "white",
           "linecolor": "white",
           "ticks": "",
           "title": {
            "standoff": 15
           },
           "zerolinecolor": "white",
           "zerolinewidth": 2
          },
          "yaxis": {
           "automargin": true,
           "gridcolor": "white",
           "linecolor": "white",
           "ticks": "",
           "title": {
            "standoff": 15
           },
           "zerolinecolor": "white",
           "zerolinewidth": 2
          }
         }
        },
        "title": {
         "text": "Departure and Arrival Delay in Airlines <br>(Click legend to toggle traces) ",
         "x": 0.5
        },
        "width": 1200,
        "xaxis": {
         "gridcolor": "LightGrey"
        }
       }
      }
     },
     "metadata": {},
     "output_type": "display_data"
    }
   ],
   "source": [
    "fig = go.Figure(data=[\n",
    "    go.Bar(name='DEPARTURE', x=delay['DEPARTURE_DELAY'], y=delay['AIRLINE'],\n",
    "           orientation=\"h\", marker_color='Teal'),\n",
    "    \n",
    "    go.Bar(name='ARRIVAL', x=delay['ARRIVAL_DELAY'], y=delay['AIRLINE'],\n",
    "           orientation=\"h\", marker_color='MediumTurquoise',\n",
    "           text=delay['total_delay'], texttemplate='%{text:.2}', textposition='outside')\n",
    "])\n",
    "\n",
    "\n",
    "# Change the bar mode\n",
    "fig.update_layout(barmode='stack', width=1200, height=800, plot_bgcolor='white',\n",
    "                 # Add title\n",
    "                  title=\"Departure and Arrival Delay in Airlines <br>(Click legend to toggle traces) \",title_x=0.5)\n",
    "fig.update_xaxes(gridcolor='LightGrey')\n",
    "\n",
    "\n",
    "\n",
    "\n",
    "\n",
    "fig.show()"
   ]
  },
  {
   "attachments": {},
   "cell_type": "markdown",
   "id": "4df00d14",
   "metadata": {},
   "source": [
    "### Reflection \n",
    "> After looking at the graph, are you more likely to have a delay for your departure or arrival?\n",
    "> Which Airlines have the most delays?\n",
    "> Based on this graph and the Airline carrier cancellations stacked bar graph, which airline would be the worst to fly on? Which one would be the best?\n",
    "> Write your answers to the right of the # in the cell below\n"
   ]
  },
  {
   "attachments": {},
   "cell_type": "markdown",
   "id": "a7c71e93",
   "metadata": {},
   "source": [
    "# 5.1 Answering Data Question\n",
    ">### What can we assume from our analysis..... "
   ]
  },
  {
   "cell_type": "code",
   "execution_count": 36,
   "id": "aebbd1e0",
   "metadata": {},
   "outputs": [],
   "source": [
    "#"
   ]
  },
  {
   "attachments": {},
   "cell_type": "markdown",
   "id": "08b7efe3",
   "metadata": {},
   "source": [
    "# Goodbye for now!\n",
    "<p>This was just a short introduction data science project using python with Flights, Airports, and Airlines Data dataset I hope you enjoyed it! :)</p>"
   ]
  },
  {
   "cell_type": "code",
   "execution_count": null,
   "id": "f6144baa",
   "metadata": {},
   "outputs": [],
   "source": []
  },
  {
   "cell_type": "code",
   "execution_count": null,
   "id": "5eee940c",
   "metadata": {},
   "outputs": [],
   "source": []
  }
 ],
 "metadata": {
  "kernelspec": {
   "display_name": "Python 3",
   "language": "python",
   "name": "python3"
  },
  "language_info": {
   "codemirror_mode": {
    "name": "ipython",
    "version": 3
   },
   "file_extension": ".py",
   "mimetype": "text/x-python",
   "name": "python",
   "nbconvert_exporter": "python",
   "pygments_lexer": "ipython3",
   "version": "3.10.11"
  }
 },
 "nbformat": 4,
 "nbformat_minor": 5
}
